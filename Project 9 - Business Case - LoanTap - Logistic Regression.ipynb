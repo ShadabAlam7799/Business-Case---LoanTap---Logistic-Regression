{
 "cells": [
  {
   "cell_type": "code",
   "execution_count": 1,
   "id": "870c4db7",
   "metadata": {},
   "outputs": [],
   "source": [
    "import pandas as pd\n",
    "import numpy as np\n",
    "import matplotlib.pyplot as plt\n",
    "import seaborn as sns\n",
    "import math, random\n",
    "from collections import deque\n",
    "from scipy.stats import norm\n",
    "from scipy.stats import binom, poisson, expon, geom\n",
    "from statsmodels.stats.weightstats import ztest\n",
    "from scipy.stats import norm, ttest_ind, ttest_rel, ttest_1samp\n",
    "from scipy.stats import chi2, chi2_contingency, chisquare\n",
    "from scipy.stats import f_oneway as anova_1way\n",
    "\n",
    "from scipy.stats import kruskal # numeric Vs catogerical\n",
    "from scipy.stats import pearsonr, spearmanr # numeric Vs numeric\n",
    "from scipy.stats import kstest # cdf\n",
    "from scipy.stats import levene\n",
    "from scipy.stats import norm\n",
    "\n",
    "from statsmodels.distributions.empirical_distribution import ECDF\n",
    "from statsmodels.graphics.gofplots import qqplot, qqplot_2samples\n",
    "from scipy.stats import skew, shapiro #[Test for normality]"
   ]
  },
  {
   "cell_type": "markdown",
   "id": "42c165dd",
   "metadata": {},
   "source": [
    "#  Business Case - LoanTap - Logistic Regression"
   ]
  },
  {
   "cell_type": "markdown",
   "id": "86bc38d5",
   "metadata": {},
   "source": [
    "INDEX\n",
    "- (A) Problem Statements\n",
    "- (B) shape, null values and duplicates\n",
    "- (C) Effect of imputing null values in mort_acc column\n",
    "- (D) Column Profiling / Feature engineering\n",
    "- (E) Features Analysis(univariate/bivariate)\n",
    "- (F) Checking outliers\n",
    "- (G) Checking Multicolliniarity\n",
    "- (H) Column transformation and model building\n",
    "- (I) Checking all metrics\n",
    "- (J) observations\n",
    "- (K) Recommendations"
   ]
  },
  {
   "cell_type": "markdown",
   "id": "50c1cdbd",
   "metadata": {},
   "source": [
    "# (A) Problem Statements"
   ]
  },
  {
   "cell_type": "markdown",
   "id": "033a3ed7",
   "metadata": {},
   "source": [
    "- Given a set of attributes for an Individual, determine if a credit line should be extended to them.\n",
    "- If so, what should the repayment terms be in business recommendations?"
   ]
  },
  {
   "cell_type": "markdown",
   "id": "e5e321de",
   "metadata": {},
   "source": [
    "# (B) shape, null values and duplicates  "
   ]
  },
  {
   "cell_type": "code",
   "execution_count": 2,
   "id": "fbf6a79c",
   "metadata": {},
   "outputs": [],
   "source": [
    "Data = pd.read_csv(\"D:\\Python programmes\\Data Collection\\logistic_regression.csv\")"
   ]
  },
  {
   "cell_type": "code",
   "execution_count": 3,
   "id": "9df79d90",
   "metadata": {},
   "outputs": [],
   "source": [
    "df = Data.copy(deep=True)"
   ]
  },
  {
   "cell_type": "code",
   "execution_count": 4,
   "id": "5e235bb5",
   "metadata": {},
   "outputs": [
    {
     "data": {
      "text/plain": [
       "(396030, 27)"
      ]
     },
     "execution_count": 4,
     "metadata": {},
     "output_type": "execute_result"
    }
   ],
   "source": [
    "df.shape"
   ]
  },
  {
   "cell_type": "code",
   "execution_count": 5,
   "id": "7d800712",
   "metadata": {},
   "outputs": [
    {
     "data": {
      "text/html": [
       "<div>\n",
       "<style scoped>\n",
       "    .dataframe tbody tr th:only-of-type {\n",
       "        vertical-align: middle;\n",
       "    }\n",
       "\n",
       "    .dataframe tbody tr th {\n",
       "        vertical-align: top;\n",
       "    }\n",
       "\n",
       "    .dataframe thead th {\n",
       "        text-align: right;\n",
       "    }\n",
       "</style>\n",
       "<table border=\"1\" class=\"dataframe\">\n",
       "  <thead>\n",
       "    <tr style=\"text-align: right;\">\n",
       "      <th></th>\n",
       "      <th>loan_amnt</th>\n",
       "      <th>term</th>\n",
       "      <th>int_rate</th>\n",
       "      <th>installment</th>\n",
       "      <th>grade</th>\n",
       "      <th>sub_grade</th>\n",
       "      <th>emp_title</th>\n",
       "      <th>emp_length</th>\n",
       "      <th>home_ownership</th>\n",
       "      <th>annual_inc</th>\n",
       "      <th>...</th>\n",
       "      <th>open_acc</th>\n",
       "      <th>pub_rec</th>\n",
       "      <th>revol_bal</th>\n",
       "      <th>revol_util</th>\n",
       "      <th>total_acc</th>\n",
       "      <th>initial_list_status</th>\n",
       "      <th>application_type</th>\n",
       "      <th>mort_acc</th>\n",
       "      <th>pub_rec_bankruptcies</th>\n",
       "      <th>address</th>\n",
       "    </tr>\n",
       "  </thead>\n",
       "  <tbody>\n",
       "    <tr>\n",
       "      <th>0</th>\n",
       "      <td>10000.0</td>\n",
       "      <td>36 months</td>\n",
       "      <td>11.44</td>\n",
       "      <td>329.48</td>\n",
       "      <td>B</td>\n",
       "      <td>B4</td>\n",
       "      <td>Marketing</td>\n",
       "      <td>10+ years</td>\n",
       "      <td>RENT</td>\n",
       "      <td>117000.0</td>\n",
       "      <td>...</td>\n",
       "      <td>16.0</td>\n",
       "      <td>0.0</td>\n",
       "      <td>36369.0</td>\n",
       "      <td>41.8</td>\n",
       "      <td>25.0</td>\n",
       "      <td>w</td>\n",
       "      <td>INDIVIDUAL</td>\n",
       "      <td>0.0</td>\n",
       "      <td>0.0</td>\n",
       "      <td>0174 Michelle Gateway\\r\\nMendozaberg, OK 22690</td>\n",
       "    </tr>\n",
       "    <tr>\n",
       "      <th>1</th>\n",
       "      <td>8000.0</td>\n",
       "      <td>36 months</td>\n",
       "      <td>11.99</td>\n",
       "      <td>265.68</td>\n",
       "      <td>B</td>\n",
       "      <td>B5</td>\n",
       "      <td>Credit analyst</td>\n",
       "      <td>4 years</td>\n",
       "      <td>MORTGAGE</td>\n",
       "      <td>65000.0</td>\n",
       "      <td>...</td>\n",
       "      <td>17.0</td>\n",
       "      <td>0.0</td>\n",
       "      <td>20131.0</td>\n",
       "      <td>53.3</td>\n",
       "      <td>27.0</td>\n",
       "      <td>f</td>\n",
       "      <td>INDIVIDUAL</td>\n",
       "      <td>3.0</td>\n",
       "      <td>0.0</td>\n",
       "      <td>1076 Carney Fort Apt. 347\\r\\nLoganmouth, SD 05113</td>\n",
       "    </tr>\n",
       "    <tr>\n",
       "      <th>2</th>\n",
       "      <td>15600.0</td>\n",
       "      <td>36 months</td>\n",
       "      <td>10.49</td>\n",
       "      <td>506.97</td>\n",
       "      <td>B</td>\n",
       "      <td>B3</td>\n",
       "      <td>Statistician</td>\n",
       "      <td>&lt; 1 year</td>\n",
       "      <td>RENT</td>\n",
       "      <td>43057.0</td>\n",
       "      <td>...</td>\n",
       "      <td>13.0</td>\n",
       "      <td>0.0</td>\n",
       "      <td>11987.0</td>\n",
       "      <td>92.2</td>\n",
       "      <td>26.0</td>\n",
       "      <td>f</td>\n",
       "      <td>INDIVIDUAL</td>\n",
       "      <td>0.0</td>\n",
       "      <td>0.0</td>\n",
       "      <td>87025 Mark Dale Apt. 269\\r\\nNew Sabrina, WV 05113</td>\n",
       "    </tr>\n",
       "    <tr>\n",
       "      <th>3</th>\n",
       "      <td>7200.0</td>\n",
       "      <td>36 months</td>\n",
       "      <td>6.49</td>\n",
       "      <td>220.65</td>\n",
       "      <td>A</td>\n",
       "      <td>A2</td>\n",
       "      <td>Client Advocate</td>\n",
       "      <td>6 years</td>\n",
       "      <td>RENT</td>\n",
       "      <td>54000.0</td>\n",
       "      <td>...</td>\n",
       "      <td>6.0</td>\n",
       "      <td>0.0</td>\n",
       "      <td>5472.0</td>\n",
       "      <td>21.5</td>\n",
       "      <td>13.0</td>\n",
       "      <td>f</td>\n",
       "      <td>INDIVIDUAL</td>\n",
       "      <td>0.0</td>\n",
       "      <td>0.0</td>\n",
       "      <td>823 Reid Ford\\r\\nDelacruzside, MA 00813</td>\n",
       "    </tr>\n",
       "    <tr>\n",
       "      <th>4</th>\n",
       "      <td>24375.0</td>\n",
       "      <td>60 months</td>\n",
       "      <td>17.27</td>\n",
       "      <td>609.33</td>\n",
       "      <td>C</td>\n",
       "      <td>C5</td>\n",
       "      <td>Destiny Management Inc.</td>\n",
       "      <td>9 years</td>\n",
       "      <td>MORTGAGE</td>\n",
       "      <td>55000.0</td>\n",
       "      <td>...</td>\n",
       "      <td>13.0</td>\n",
       "      <td>0.0</td>\n",
       "      <td>24584.0</td>\n",
       "      <td>69.8</td>\n",
       "      <td>43.0</td>\n",
       "      <td>f</td>\n",
       "      <td>INDIVIDUAL</td>\n",
       "      <td>1.0</td>\n",
       "      <td>0.0</td>\n",
       "      <td>679 Luna Roads\\r\\nGreggshire, VA 11650</td>\n",
       "    </tr>\n",
       "  </tbody>\n",
       "</table>\n",
       "<p>5 rows × 27 columns</p>\n",
       "</div>"
      ],
      "text/plain": [
       "   loan_amnt        term  int_rate  installment grade sub_grade  \\\n",
       "0    10000.0   36 months     11.44       329.48     B        B4   \n",
       "1     8000.0   36 months     11.99       265.68     B        B5   \n",
       "2    15600.0   36 months     10.49       506.97     B        B3   \n",
       "3     7200.0   36 months      6.49       220.65     A        A2   \n",
       "4    24375.0   60 months     17.27       609.33     C        C5   \n",
       "\n",
       "                 emp_title emp_length home_ownership  annual_inc  ...  \\\n",
       "0                Marketing  10+ years           RENT    117000.0  ...   \n",
       "1          Credit analyst     4 years       MORTGAGE     65000.0  ...   \n",
       "2             Statistician   < 1 year           RENT     43057.0  ...   \n",
       "3          Client Advocate    6 years           RENT     54000.0  ...   \n",
       "4  Destiny Management Inc.    9 years       MORTGAGE     55000.0  ...   \n",
       "\n",
       "  open_acc pub_rec revol_bal revol_util total_acc  initial_list_status  \\\n",
       "0     16.0     0.0   36369.0       41.8      25.0                    w   \n",
       "1     17.0     0.0   20131.0       53.3      27.0                    f   \n",
       "2     13.0     0.0   11987.0       92.2      26.0                    f   \n",
       "3      6.0     0.0    5472.0       21.5      13.0                    f   \n",
       "4     13.0     0.0   24584.0       69.8      43.0                    f   \n",
       "\n",
       "  application_type  mort_acc  pub_rec_bankruptcies  \\\n",
       "0       INDIVIDUAL       0.0                   0.0   \n",
       "1       INDIVIDUAL       3.0                   0.0   \n",
       "2       INDIVIDUAL       0.0                   0.0   \n",
       "3       INDIVIDUAL       0.0                   0.0   \n",
       "4       INDIVIDUAL       1.0                   0.0   \n",
       "\n",
       "                                             address  \n",
       "0     0174 Michelle Gateway\\r\\nMendozaberg, OK 22690  \n",
       "1  1076 Carney Fort Apt. 347\\r\\nLoganmouth, SD 05113  \n",
       "2  87025 Mark Dale Apt. 269\\r\\nNew Sabrina, WV 05113  \n",
       "3            823 Reid Ford\\r\\nDelacruzside, MA 00813  \n",
       "4             679 Luna Roads\\r\\nGreggshire, VA 11650  \n",
       "\n",
       "[5 rows x 27 columns]"
      ]
     },
     "execution_count": 5,
     "metadata": {},
     "output_type": "execute_result"
    }
   ],
   "source": [
    "df.head()"
   ]
  },
  {
   "cell_type": "code",
   "execution_count": 6,
   "id": "9ad106eb",
   "metadata": {},
   "outputs": [
    {
     "data": {
      "text/html": [
       "<div>\n",
       "<style scoped>\n",
       "    .dataframe tbody tr th:only-of-type {\n",
       "        vertical-align: middle;\n",
       "    }\n",
       "\n",
       "    .dataframe tbody tr th {\n",
       "        vertical-align: top;\n",
       "    }\n",
       "\n",
       "    .dataframe thead th {\n",
       "        text-align: right;\n",
       "    }\n",
       "</style>\n",
       "<table border=\"1\" class=\"dataframe\">\n",
       "  <thead>\n",
       "    <tr style=\"text-align: right;\">\n",
       "      <th></th>\n",
       "      <th>loan_amnt</th>\n",
       "      <th>term</th>\n",
       "      <th>int_rate</th>\n",
       "      <th>installment</th>\n",
       "      <th>grade</th>\n",
       "      <th>sub_grade</th>\n",
       "      <th>emp_title</th>\n",
       "      <th>emp_length</th>\n",
       "      <th>home_ownership</th>\n",
       "      <th>annual_inc</th>\n",
       "      <th>...</th>\n",
       "      <th>open_acc</th>\n",
       "      <th>pub_rec</th>\n",
       "      <th>revol_bal</th>\n",
       "      <th>revol_util</th>\n",
       "      <th>total_acc</th>\n",
       "      <th>initial_list_status</th>\n",
       "      <th>application_type</th>\n",
       "      <th>mort_acc</th>\n",
       "      <th>pub_rec_bankruptcies</th>\n",
       "      <th>address</th>\n",
       "    </tr>\n",
       "  </thead>\n",
       "  <tbody>\n",
       "    <tr>\n",
       "      <th>396025</th>\n",
       "      <td>10000.0</td>\n",
       "      <td>60 months</td>\n",
       "      <td>10.99</td>\n",
       "      <td>217.38</td>\n",
       "      <td>B</td>\n",
       "      <td>B4</td>\n",
       "      <td>licensed bankere</td>\n",
       "      <td>2 years</td>\n",
       "      <td>RENT</td>\n",
       "      <td>40000.0</td>\n",
       "      <td>...</td>\n",
       "      <td>6.0</td>\n",
       "      <td>0.0</td>\n",
       "      <td>1990.0</td>\n",
       "      <td>34.3</td>\n",
       "      <td>23.0</td>\n",
       "      <td>w</td>\n",
       "      <td>INDIVIDUAL</td>\n",
       "      <td>0.0</td>\n",
       "      <td>0.0</td>\n",
       "      <td>12951 Williams Crossing\\r\\nJohnnyville, DC 30723</td>\n",
       "    </tr>\n",
       "    <tr>\n",
       "      <th>396026</th>\n",
       "      <td>21000.0</td>\n",
       "      <td>36 months</td>\n",
       "      <td>12.29</td>\n",
       "      <td>700.42</td>\n",
       "      <td>C</td>\n",
       "      <td>C1</td>\n",
       "      <td>Agent</td>\n",
       "      <td>5 years</td>\n",
       "      <td>MORTGAGE</td>\n",
       "      <td>110000.0</td>\n",
       "      <td>...</td>\n",
       "      <td>6.0</td>\n",
       "      <td>0.0</td>\n",
       "      <td>43263.0</td>\n",
       "      <td>95.7</td>\n",
       "      <td>8.0</td>\n",
       "      <td>f</td>\n",
       "      <td>INDIVIDUAL</td>\n",
       "      <td>1.0</td>\n",
       "      <td>0.0</td>\n",
       "      <td>0114 Fowler Field Suite 028\\r\\nRachelborough, ...</td>\n",
       "    </tr>\n",
       "    <tr>\n",
       "      <th>396027</th>\n",
       "      <td>5000.0</td>\n",
       "      <td>36 months</td>\n",
       "      <td>9.99</td>\n",
       "      <td>161.32</td>\n",
       "      <td>B</td>\n",
       "      <td>B1</td>\n",
       "      <td>City Carrier</td>\n",
       "      <td>10+ years</td>\n",
       "      <td>RENT</td>\n",
       "      <td>56500.0</td>\n",
       "      <td>...</td>\n",
       "      <td>15.0</td>\n",
       "      <td>0.0</td>\n",
       "      <td>32704.0</td>\n",
       "      <td>66.9</td>\n",
       "      <td>23.0</td>\n",
       "      <td>f</td>\n",
       "      <td>INDIVIDUAL</td>\n",
       "      <td>0.0</td>\n",
       "      <td>0.0</td>\n",
       "      <td>953 Matthew Points Suite 414\\r\\nReedfort, NY 7...</td>\n",
       "    </tr>\n",
       "    <tr>\n",
       "      <th>396028</th>\n",
       "      <td>21000.0</td>\n",
       "      <td>60 months</td>\n",
       "      <td>15.31</td>\n",
       "      <td>503.02</td>\n",
       "      <td>C</td>\n",
       "      <td>C2</td>\n",
       "      <td>Gracon Services, Inc</td>\n",
       "      <td>10+ years</td>\n",
       "      <td>MORTGAGE</td>\n",
       "      <td>64000.0</td>\n",
       "      <td>...</td>\n",
       "      <td>9.0</td>\n",
       "      <td>0.0</td>\n",
       "      <td>15704.0</td>\n",
       "      <td>53.8</td>\n",
       "      <td>20.0</td>\n",
       "      <td>f</td>\n",
       "      <td>INDIVIDUAL</td>\n",
       "      <td>5.0</td>\n",
       "      <td>0.0</td>\n",
       "      <td>7843 Blake Freeway Apt. 229\\r\\nNew Michael, FL...</td>\n",
       "    </tr>\n",
       "    <tr>\n",
       "      <th>396029</th>\n",
       "      <td>2000.0</td>\n",
       "      <td>36 months</td>\n",
       "      <td>13.61</td>\n",
       "      <td>67.98</td>\n",
       "      <td>C</td>\n",
       "      <td>C2</td>\n",
       "      <td>Internal Revenue Service</td>\n",
       "      <td>10+ years</td>\n",
       "      <td>RENT</td>\n",
       "      <td>42996.0</td>\n",
       "      <td>...</td>\n",
       "      <td>3.0</td>\n",
       "      <td>0.0</td>\n",
       "      <td>4292.0</td>\n",
       "      <td>91.3</td>\n",
       "      <td>19.0</td>\n",
       "      <td>f</td>\n",
       "      <td>INDIVIDUAL</td>\n",
       "      <td>NaN</td>\n",
       "      <td>0.0</td>\n",
       "      <td>787 Michelle Causeway\\r\\nBriannaton, AR 48052</td>\n",
       "    </tr>\n",
       "  </tbody>\n",
       "</table>\n",
       "<p>5 rows × 27 columns</p>\n",
       "</div>"
      ],
      "text/plain": [
       "        loan_amnt        term  int_rate  installment grade sub_grade  \\\n",
       "396025    10000.0   60 months     10.99       217.38     B        B4   \n",
       "396026    21000.0   36 months     12.29       700.42     C        C1   \n",
       "396027     5000.0   36 months      9.99       161.32     B        B1   \n",
       "396028    21000.0   60 months     15.31       503.02     C        C2   \n",
       "396029     2000.0   36 months     13.61        67.98     C        C2   \n",
       "\n",
       "                       emp_title emp_length home_ownership  annual_inc  ...  \\\n",
       "396025          licensed bankere    2 years           RENT     40000.0  ...   \n",
       "396026                     Agent    5 years       MORTGAGE    110000.0  ...   \n",
       "396027              City Carrier  10+ years           RENT     56500.0  ...   \n",
       "396028      Gracon Services, Inc  10+ years       MORTGAGE     64000.0  ...   \n",
       "396029  Internal Revenue Service  10+ years           RENT     42996.0  ...   \n",
       "\n",
       "       open_acc pub_rec revol_bal revol_util total_acc  initial_list_status  \\\n",
       "396025      6.0     0.0    1990.0       34.3      23.0                    w   \n",
       "396026      6.0     0.0   43263.0       95.7       8.0                    f   \n",
       "396027     15.0     0.0   32704.0       66.9      23.0                    f   \n",
       "396028      9.0     0.0   15704.0       53.8      20.0                    f   \n",
       "396029      3.0     0.0    4292.0       91.3      19.0                    f   \n",
       "\n",
       "       application_type  mort_acc  pub_rec_bankruptcies  \\\n",
       "396025       INDIVIDUAL       0.0                   0.0   \n",
       "396026       INDIVIDUAL       1.0                   0.0   \n",
       "396027       INDIVIDUAL       0.0                   0.0   \n",
       "396028       INDIVIDUAL       5.0                   0.0   \n",
       "396029       INDIVIDUAL       NaN                   0.0   \n",
       "\n",
       "                                                  address  \n",
       "396025   12951 Williams Crossing\\r\\nJohnnyville, DC 30723  \n",
       "396026  0114 Fowler Field Suite 028\\r\\nRachelborough, ...  \n",
       "396027  953 Matthew Points Suite 414\\r\\nReedfort, NY 7...  \n",
       "396028  7843 Blake Freeway Apt. 229\\r\\nNew Michael, FL...  \n",
       "396029      787 Michelle Causeway\\r\\nBriannaton, AR 48052  \n",
       "\n",
       "[5 rows x 27 columns]"
      ]
     },
     "execution_count": 6,
     "metadata": {},
     "output_type": "execute_result"
    }
   ],
   "source": [
    "df.tail()"
   ]
  },
  {
   "cell_type": "code",
   "execution_count": 7,
   "id": "59c363b3",
   "metadata": {},
   "outputs": [
    {
     "name": "stdout",
     "output_type": "stream",
     "text": [
      "<class 'pandas.core.frame.DataFrame'>\n",
      "RangeIndex: 396030 entries, 0 to 396029\n",
      "Data columns (total 27 columns):\n",
      " #   Column                Non-Null Count   Dtype  \n",
      "---  ------                --------------   -----  \n",
      " 0   loan_amnt             396030 non-null  float64\n",
      " 1   term                  396030 non-null  object \n",
      " 2   int_rate              396030 non-null  float64\n",
      " 3   installment           396030 non-null  float64\n",
      " 4   grade                 396030 non-null  object \n",
      " 5   sub_grade             396030 non-null  object \n",
      " 6   emp_title             373103 non-null  object \n",
      " 7   emp_length            377729 non-null  object \n",
      " 8   home_ownership        396030 non-null  object \n",
      " 9   annual_inc            396030 non-null  float64\n",
      " 10  verification_status   396030 non-null  object \n",
      " 11  issue_d               396030 non-null  object \n",
      " 12  loan_status           396030 non-null  object \n",
      " 13  purpose               396030 non-null  object \n",
      " 14  title                 394275 non-null  object \n",
      " 15  dti                   396030 non-null  float64\n",
      " 16  earliest_cr_line      396030 non-null  object \n",
      " 17  open_acc              396030 non-null  float64\n",
      " 18  pub_rec               396030 non-null  float64\n",
      " 19  revol_bal             396030 non-null  float64\n",
      " 20  revol_util            395754 non-null  float64\n",
      " 21  total_acc             396030 non-null  float64\n",
      " 22  initial_list_status   396030 non-null  object \n",
      " 23  application_type      396030 non-null  object \n",
      " 24  mort_acc              358235 non-null  float64\n",
      " 25  pub_rec_bankruptcies  395495 non-null  float64\n",
      " 26  address               396030 non-null  object \n",
      "dtypes: float64(12), object(15)\n",
      "memory usage: 81.6+ MB\n"
     ]
    }
   ],
   "source": [
    "df.info()"
   ]
  },
  {
   "cell_type": "code",
   "execution_count": 8,
   "id": "7fa37373",
   "metadata": {},
   "outputs": [
    {
     "name": "stdout",
     "output_type": "stream",
     "text": [
      "loan_amnt :  1397\n",
      "term :  2\n",
      "int_rate :  566\n",
      "installment :  55706\n",
      "grade :  7\n",
      "sub_grade :  35\n",
      "emp_title :  173105\n",
      "emp_length :  11\n",
      "home_ownership :  6\n",
      "annual_inc :  27197\n",
      "verification_status :  3\n",
      "issue_d :  115\n",
      "loan_status :  2\n",
      "purpose :  14\n",
      "title :  48817\n",
      "dti :  4262\n",
      "earliest_cr_line :  684\n",
      "open_acc :  61\n",
      "pub_rec :  20\n",
      "revol_bal :  55622\n",
      "revol_util :  1226\n",
      "total_acc :  118\n",
      "initial_list_status :  2\n",
      "application_type :  3\n",
      "mort_acc :  33\n",
      "pub_rec_bankruptcies :  9\n",
      "address :  393700\n"
     ]
    }
   ],
   "source": [
    "for col in df.columns:\n",
    "    print(col,\": \",df[col].nunique())"
   ]
  },
  {
   "cell_type": "code",
   "execution_count": 9,
   "id": "59d666c8",
   "metadata": {},
   "outputs": [
    {
     "name": "stdout",
     "output_type": "stream",
     "text": [
      "term :  [' 36 months' ' 60 months']\n",
      "grade :  ['B' 'A' 'C' 'E' 'D' 'F' 'G']\n",
      "emp_length :  ['10+ years' '4 years' '< 1 year' '6 years' '9 years' '2 years' '3 years'\n",
      " '8 years' '7 years' '5 years' '1 year' nan]\n",
      "home_ownership :  ['RENT' 'MORTGAGE' 'OWN' 'OTHER' 'NONE' 'ANY']\n",
      "verification_status :  ['Not Verified' 'Source Verified' 'Verified']\n",
      "loan_status :  ['Fully Paid' 'Charged Off']\n",
      "purpose :  ['vacation' 'debt_consolidation' 'credit_card' 'home_improvement'\n",
      " 'small_business' 'major_purchase' 'other' 'medical' 'wedding' 'car'\n",
      " 'moving' 'house' 'educational' 'renewable_energy']\n",
      "initial_list_status :  ['w' 'f']\n",
      "application_type :  ['INDIVIDUAL' 'JOINT' 'DIRECT_PAY']\n",
      "pub_rec_bankruptcies :  [ 0.  1.  2.  3. nan  4.  5.  6.  7.  8.]\n"
     ]
    }
   ],
   "source": [
    "for col in df.columns:\n",
    "    if df[col].nunique() < 15:\n",
    "        print(col,\": \",df[col].unique())"
   ]
  },
  {
   "cell_type": "markdown",
   "id": "3602d81a",
   "metadata": {},
   "source": [
    "### percentage data missing in each columns"
   ]
  },
  {
   "cell_type": "code",
   "execution_count": 10,
   "id": "4672eb63",
   "metadata": {},
   "outputs": [
    {
     "name": "stdout",
     "output_type": "stream",
     "text": [
      "emp_title :  5.789 %\n",
      "emp_length :  4.621 %\n",
      "title :  0.443 %\n",
      "revol_util :  0.07 %\n",
      "mort_acc :  9.543 %\n",
      "pub_rec_bankruptcies :  0.135 %\n"
     ]
    }
   ],
   "source": [
    "#percentage data missing in each columns\n",
    "L = df.shape[0]\n",
    "for col in df.columns:\n",
    "    p = df[col].isnull().sum()/L*100\n",
    "    if p>0:\n",
    "        print(col, \": \",round(p,3),\"%\")"
   ]
  },
  {
   "cell_type": "markdown",
   "id": "3312e18f",
   "metadata": {},
   "source": [
    "### percentage row having null values"
   ]
  },
  {
   "cell_type": "code",
   "execution_count": 11,
   "id": "b1f0a62a",
   "metadata": {},
   "outputs": [
    {
     "name": "stdout",
     "output_type": "stream",
     "text": [
      "15.191273388379667 % rows have null values\n"
     ]
    }
   ],
   "source": [
    "p = 1-df.dropna(inplace=False).shape[0]/len(df)\n",
    "print(p*100,\"% rows have null values\")"
   ]
  },
  {
   "cell_type": "code",
   "execution_count": 12,
   "id": "8938d312",
   "metadata": {},
   "outputs": [
    {
     "data": {
      "text/plain": [
       "0.15191273388379667"
      ]
     },
     "execution_count": 12,
     "metadata": {},
     "output_type": "execute_result"
    }
   ],
   "source": [
    "#percentage row having null values\n",
    "df.loc[:,(\"emp_title\",\"emp_length\",\"title\",\"revol_util\",\"mort_acc\",\"pub_rec_bankruptcies\")].isnull().any(axis=1).sum()/len(df)"
   ]
  },
  {
   "cell_type": "code",
   "execution_count": 13,
   "id": "d89b9a76",
   "metadata": {},
   "outputs": [
    {
     "name": "stdout",
     "output_type": "stream",
     "text": [
      "mort_acc :  9.377 %\n"
     ]
    }
   ],
   "source": [
    "#percentage data missing in each columns\n",
    "temp_df = df[~df.loc[:,(\"emp_title\",\"emp_length\",\"title\",\"revol_util\",\"pub_rec_bankruptcies\")].isnull().any(axis=1)]\n",
    "L = temp_df.shape[0]\n",
    "for col in df.columns:\n",
    "    p = temp_df[col].isnull().sum()/L*100\n",
    "    if p>0:\n",
    "        print(col, \": \",round(p,3),\"%\")"
   ]
  },
  {
   "cell_type": "code",
   "execution_count": 14,
   "id": "be9508bf",
   "metadata": {},
   "outputs": [
    {
     "data": {
      "text/plain": [
       "0.06415675580132818"
      ]
     },
     "execution_count": 14,
     "metadata": {},
     "output_type": "execute_result"
    }
   ],
   "source": [
    "#percentage of row which can be removed\n",
    "df.loc[:,(\"emp_title\",\"emp_length\",\"title\",\"revol_util\",\"pub_rec_bankruptcies\")].isnull().any(axis=1).sum()/len(df)"
   ]
  },
  {
   "cell_type": "code",
   "execution_count": 15,
   "id": "d064565c",
   "metadata": {},
   "outputs": [],
   "source": [
    "#removing 6.41% of null rows"
   ]
  },
  {
   "cell_type": "code",
   "execution_count": 16,
   "id": "f9b15035",
   "metadata": {},
   "outputs": [],
   "source": [
    "df = df[~df.loc[:,(\"emp_title\",\"emp_length\",\"title\",\"revol_util\",\"pub_rec_bankruptcies\")].isnull().any(axis=1)]"
   ]
  },
  {
   "cell_type": "markdown",
   "id": "e914291a",
   "metadata": {},
   "source": [
    "### reset index after dropping null rows"
   ]
  },
  {
   "cell_type": "code",
   "execution_count": 17,
   "id": "d9294bcc",
   "metadata": {},
   "outputs": [
    {
     "data": {
      "text/plain": [
       "(370622, 27)"
      ]
     },
     "execution_count": 17,
     "metadata": {},
     "output_type": "execute_result"
    }
   ],
   "source": [
    "df.shape"
   ]
  },
  {
   "cell_type": "code",
   "execution_count": 18,
   "id": "9be32f59",
   "metadata": {},
   "outputs": [
    {
     "data": {
      "text/plain": [
       "(370622, 27)"
      ]
     },
     "execution_count": 18,
     "metadata": {},
     "output_type": "execute_result"
    }
   ],
   "source": [
    "#drop=True --> drop first extra column created after reset_index\n",
    "df.reset_index(drop=True,inplace=False).shape"
   ]
  },
  {
   "cell_type": "code",
   "execution_count": 19,
   "id": "6cb963b1",
   "metadata": {},
   "outputs": [],
   "source": [
    "df.reset_index(drop=True,inplace=True)"
   ]
  },
  {
   "cell_type": "markdown",
   "id": "8d2a790f",
   "metadata": {},
   "source": [
    "#### object columns"
   ]
  },
  {
   "cell_type": "code",
   "execution_count": 20,
   "id": "e9e645c5",
   "metadata": {},
   "outputs": [
    {
     "data": {
      "text/plain": [
       "Index(['term', 'grade', 'sub_grade', 'emp_title', 'emp_length',\n",
       "       'home_ownership', 'verification_status', 'issue_d', 'loan_status',\n",
       "       'purpose', 'title', 'earliest_cr_line', 'initial_list_status',\n",
       "       'application_type', 'address'],\n",
       "      dtype='object')"
      ]
     },
     "execution_count": 20,
     "metadata": {},
     "output_type": "execute_result"
    }
   ],
   "source": [
    "df.select_dtypes(include=\"object\").columns"
   ]
  },
  {
   "cell_type": "markdown",
   "id": "cda00808",
   "metadata": {},
   "source": [
    "# (C) Effect of imputing null values in `mort_acc` column "
   ]
  },
  {
   "cell_type": "code",
   "execution_count": 21,
   "id": "ccfcd9f2",
   "metadata": {},
   "outputs": [
    {
     "data": {
      "text/plain": [
       "0.0    131469\n",
       "1.0     57020\n",
       "2.0     46877\n",
       "3.0     35440\n",
       "4.0     25945\n",
       "5.0     16941\n",
       "Name: mort_acc, dtype: int64"
      ]
     },
     "execution_count": 21,
     "metadata": {},
     "output_type": "execute_result"
    }
   ],
   "source": [
    "df[\"mort_acc\"].value_counts()[:5]"
   ]
  },
  {
   "cell_type": "code",
   "execution_count": 22,
   "id": "c98b52d4",
   "metadata": {},
   "outputs": [],
   "source": [
    "from sklearn.impute import SimpleImputer"
   ]
  },
  {
   "cell_type": "code",
   "execution_count": 23,
   "id": "c1512b23",
   "metadata": {},
   "outputs": [],
   "source": [
    "imputer = SimpleImputer(strategy=\"most_frequent\")"
   ]
  },
  {
   "cell_type": "code",
   "execution_count": 24,
   "id": "2faed52f",
   "metadata": {},
   "outputs": [
    {
     "data": {
      "text/plain": [
       "0         0.0\n",
       "1         3.0\n",
       "2         0.0\n",
       "3         0.0\n",
       "4         1.0\n",
       "         ... \n",
       "370616    0.0\n",
       "370617    0.0\n",
       "370618    1.0\n",
       "370619    0.0\n",
       "370620    5.0\n",
       "Name: mort_acc, Length: 335868, dtype: float64"
      ]
     },
     "execution_count": 24,
     "metadata": {},
     "output_type": "execute_result"
    }
   ],
   "source": [
    "df.loc[:,(\"mort_acc\")].dropna(inplace=False)"
   ]
  },
  {
   "cell_type": "code",
   "execution_count": 25,
   "id": "0440093a",
   "metadata": {},
   "outputs": [
    {
     "data": {
      "text/plain": [
       "array([[0.],\n",
       "       [3.],\n",
       "       [0.],\n",
       "       ...,\n",
       "       [0.],\n",
       "       [5.],\n",
       "       [0.]])"
      ]
     },
     "execution_count": 25,
     "metadata": {},
     "output_type": "execute_result"
    }
   ],
   "source": [
    "tdf = imputer.fit_transform(df.loc[:,(\"mort_acc\")].to_frame()); tdf"
   ]
  },
  {
   "cell_type": "code",
   "execution_count": 26,
   "id": "b5cf2ddd",
   "metadata": {},
   "outputs": [
    {
     "data": {
      "text/plain": [
       "<AxesSubplot:ylabel='Frequency'>"
      ]
     },
     "execution_count": 26,
     "metadata": {},
     "output_type": "execute_result"
    },
    {
     "data": {
      "image/png": "[encoded data removed]",
      "text/plain": [
       "<Figure size 432x288 with 1 Axes>"
      ]
     },
     "metadata": {
      "needs_background": "light"
     },
     "output_type": "display_data"
    }
   ],
   "source": [
    "pd.DataFrame(tdf)[0].plot(kind=\"hist\",bins=df.loc[:,(\"mort_acc\")].nunique(),color=\"red\")\n",
    "df.loc[:,(\"mort_acc\")].plot(kind=\"hist\",bins=df.loc[:,(\"mort_acc\")].nunique())"
   ]
  },
  {
   "cell_type": "code",
   "execution_count": 27,
   "id": "a1a436b1",
   "metadata": {},
   "outputs": [
    {
     "data": {
      "image/png": "[encoded data removed]",
      "text/plain": [
       "<Figure size 432x288 with 1 Axes>"
      ]
     },
     "metadata": {
      "needs_background": "light"
     },
     "output_type": "display_data"
    }
   ],
   "source": [
    "# Quantile-Quantile plot for 2samples\n",
    "qqplot_2samples(df.loc[:,(\"mort_acc\")].dropna(inplace=False), pd.DataFrame(tdf)[0], line=\"r\")\n",
    "plt.show()"
   ]
  },
  {
   "cell_type": "markdown",
   "id": "5c35a378",
   "metadata": {},
   "source": [
    "<mark><strong>distribution is very little affected after imputing null values</strong></mark>"
   ]
  },
  {
   "cell_type": "markdown",
   "id": "c8818868",
   "metadata": {},
   "source": [
    "### checking and removing duplicates"
   ]
  },
  {
   "cell_type": "code",
   "execution_count": 28,
   "id": "1a06ea8a",
   "metadata": {},
   "outputs": [
    {
     "data": {
      "text/plain": [
       "0"
      ]
     },
     "execution_count": 28,
     "metadata": {},
     "output_type": "execute_result"
    }
   ],
   "source": [
    "df.duplicated().sum()"
   ]
  },
  {
   "cell_type": "markdown",
   "id": "814d05f2",
   "metadata": {},
   "source": [
    "# (D) Column Profiling / Feature engineering"
   ]
  },
  {
   "cell_type": "code",
   "execution_count": 29,
   "id": "5beeac5a",
   "metadata": {},
   "outputs": [],
   "source": [
    "# df.dtypes"
   ]
  },
  {
   "cell_type": "markdown",
   "id": "b01c7d30",
   "metadata": {},
   "source": [
    "#### integer columns"
   ]
  },
  {
   "cell_type": "code",
   "execution_count": 30,
   "id": "3d5977f0",
   "metadata": {},
   "outputs": [
    {
     "data": {
      "text/plain": [
       "Index(['loan_amnt', 'int_rate', 'installment', 'annual_inc', 'dti', 'open_acc',\n",
       "       'pub_rec', 'revol_bal', 'revol_util', 'total_acc', 'mort_acc',\n",
       "       'pub_rec_bankruptcies'],\n",
       "      dtype='object')"
      ]
     },
     "execution_count": 30,
     "metadata": {},
     "output_type": "execute_result"
    }
   ],
   "source": [
    "df.columns[df.dtypes==\"float64\"]"
   ]
  },
  {
   "cell_type": "code",
   "execution_count": 31,
   "id": "e2b1de61",
   "metadata": {},
   "outputs": [
    {
     "data": {
      "text/plain": [
       "Index(['loan_amnt', 'int_rate', 'installment', 'annual_inc', 'dti', 'open_acc',\n",
       "       'pub_rec', 'revol_bal', 'revol_util', 'total_acc', 'mort_acc',\n",
       "       'pub_rec_bankruptcies'],\n",
       "      dtype='object')"
      ]
     },
     "execution_count": 31,
     "metadata": {},
     "output_type": "execute_result"
    }
   ],
   "source": [
    "df.select_dtypes(include=\"float64\").columns"
   ]
  },
  {
   "cell_type": "markdown",
   "id": "57712ead",
   "metadata": {},
   "source": [
    "#### object columns"
   ]
  },
  {
   "cell_type": "code",
   "execution_count": 32,
   "id": "0c0401e8",
   "metadata": {},
   "outputs": [
    {
     "data": {
      "text/plain": [
       "Index(['term', 'grade', 'sub_grade', 'emp_title', 'emp_length',\n",
       "       'home_ownership', 'verification_status', 'issue_d', 'loan_status',\n",
       "       'purpose', 'title', 'earliest_cr_line', 'initial_list_status',\n",
       "       'application_type', 'address'],\n",
       "      dtype='object')"
      ]
     },
     "execution_count": 32,
     "metadata": {},
     "output_type": "execute_result"
    }
   ],
   "source": [
    "df.columns[df.dtypes==\"object\"]"
   ]
  },
  {
   "cell_type": "code",
   "execution_count": 33,
   "id": "2fd2d26e",
   "metadata": {},
   "outputs": [
    {
     "data": {
      "text/plain": [
       "Index(['term', 'grade', 'sub_grade', 'emp_title', 'emp_length',\n",
       "       'home_ownership', 'verification_status', 'issue_d', 'loan_status',\n",
       "       'purpose', 'title', 'earliest_cr_line', 'initial_list_status',\n",
       "       'application_type', 'address'],\n",
       "      dtype='object')"
      ]
     },
     "execution_count": 33,
     "metadata": {},
     "output_type": "execute_result"
    }
   ],
   "source": [
    "df.select_dtypes(include=\"object\").columns"
   ]
  },
  {
   "cell_type": "markdown",
   "id": "3f73f2b0",
   "metadata": {},
   "source": [
    "<strong>Data dictionary:</strong>\n",
    "\n",
    "- <strong>loan_amnt :</strong> The listed `amount of the loan applied for by the borrower.` If at some point in time, the credit department reduces the loan amount, then it will be reflected in this value.\n",
    "- <strong>term :</strong> The number of payments on the loan. Values are `in months` and can be `either 36 or 60.`"
   ]
  },
  {
   "cell_type": "code",
   "execution_count": 34,
   "id": "ed952d4b",
   "metadata": {},
   "outputs": [
    {
     "data": {
      "text/html": [
       "<div>\n",
       "<style scoped>\n",
       "    .dataframe tbody tr th:only-of-type {\n",
       "        vertical-align: middle;\n",
       "    }\n",
       "\n",
       "    .dataframe tbody tr th {\n",
       "        vertical-align: top;\n",
       "    }\n",
       "\n",
       "    .dataframe thead th {\n",
       "        text-align: right;\n",
       "    }\n",
       "</style>\n",
       "<table border=\"1\" class=\"dataframe\">\n",
       "  <thead>\n",
       "    <tr style=\"text-align: right;\">\n",
       "      <th></th>\n",
       "      <th>loan_amnt</th>\n",
       "      <th>term</th>\n",
       "    </tr>\n",
       "  </thead>\n",
       "  <tbody>\n",
       "    <tr>\n",
       "      <th>0</th>\n",
       "      <td>10000.0</td>\n",
       "      <td>36 months</td>\n",
       "    </tr>\n",
       "    <tr>\n",
       "      <th>1</th>\n",
       "      <td>8000.0</td>\n",
       "      <td>36 months</td>\n",
       "    </tr>\n",
       "    <tr>\n",
       "      <th>2</th>\n",
       "      <td>15600.0</td>\n",
       "      <td>36 months</td>\n",
       "    </tr>\n",
       "    <tr>\n",
       "      <th>3</th>\n",
       "      <td>7200.0</td>\n",
       "      <td>36 months</td>\n",
       "    </tr>\n",
       "    <tr>\n",
       "      <th>4</th>\n",
       "      <td>24375.0</td>\n",
       "      <td>60 months</td>\n",
       "    </tr>\n",
       "  </tbody>\n",
       "</table>\n",
       "</div>"
      ],
      "text/plain": [
       "   loan_amnt        term\n",
       "0    10000.0   36 months\n",
       "1     8000.0   36 months\n",
       "2    15600.0   36 months\n",
       "3     7200.0   36 months\n",
       "4    24375.0   60 months"
      ]
     },
     "execution_count": 34,
     "metadata": {},
     "output_type": "execute_result"
    }
   ],
   "source": [
    "df[[\"loan_amnt\",\"term\"]].head()"
   ]
  },
  {
   "cell_type": "code",
   "execution_count": 35,
   "id": "8e0decd4",
   "metadata": {},
   "outputs": [],
   "source": [
    "df[\"term\"]=df[\"term\"].str.extract(\"(\\d+)\")"
   ]
  },
  {
   "cell_type": "code",
   "execution_count": 36,
   "id": "4f7d19f6",
   "metadata": {},
   "outputs": [
    {
     "data": {
      "text/html": [
       "<div>\n",
       "<style scoped>\n",
       "    .dataframe tbody tr th:only-of-type {\n",
       "        vertical-align: middle;\n",
       "    }\n",
       "\n",
       "    .dataframe tbody tr th {\n",
       "        vertical-align: top;\n",
       "    }\n",
       "\n",
       "    .dataframe thead th {\n",
       "        text-align: right;\n",
       "    }\n",
       "</style>\n",
       "<table border=\"1\" class=\"dataframe\">\n",
       "  <thead>\n",
       "    <tr style=\"text-align: right;\">\n",
       "      <th></th>\n",
       "      <th>loan_amnt</th>\n",
       "      <th>term</th>\n",
       "    </tr>\n",
       "  </thead>\n",
       "  <tbody>\n",
       "    <tr>\n",
       "      <th>0</th>\n",
       "      <td>10000.0</td>\n",
       "      <td>36</td>\n",
       "    </tr>\n",
       "    <tr>\n",
       "      <th>1</th>\n",
       "      <td>8000.0</td>\n",
       "      <td>36</td>\n",
       "    </tr>\n",
       "    <tr>\n",
       "      <th>2</th>\n",
       "      <td>15600.0</td>\n",
       "      <td>36</td>\n",
       "    </tr>\n",
       "    <tr>\n",
       "      <th>3</th>\n",
       "      <td>7200.0</td>\n",
       "      <td>36</td>\n",
       "    </tr>\n",
       "    <tr>\n",
       "      <th>4</th>\n",
       "      <td>24375.0</td>\n",
       "      <td>60</td>\n",
       "    </tr>\n",
       "  </tbody>\n",
       "</table>\n",
       "</div>"
      ],
      "text/plain": [
       "   loan_amnt term\n",
       "0    10000.0   36\n",
       "1     8000.0   36\n",
       "2    15600.0   36\n",
       "3     7200.0   36\n",
       "4    24375.0   60"
      ]
     },
     "execution_count": 36,
     "metadata": {},
     "output_type": "execute_result"
    }
   ],
   "source": [
    "df[[\"loan_amnt\",\"term\"]].head()"
   ]
  },
  {
   "cell_type": "code",
   "execution_count": 37,
   "id": "fd14374c",
   "metadata": {},
   "outputs": [
    {
     "data": {
      "text/plain": [
       "loan_amnt    float64\n",
       "term          object\n",
       "dtype: object"
      ]
     },
     "execution_count": 37,
     "metadata": {},
     "output_type": "execute_result"
    }
   ],
   "source": [
    "df[[\"loan_amnt\",\"term\"]].dtypes"
   ]
  },
  {
   "cell_type": "code",
   "execution_count": 38,
   "id": "76fcbda1",
   "metadata": {},
   "outputs": [],
   "source": [
    "df[\"term\"]=df[\"term\"].astype(\"float64\")"
   ]
  },
  {
   "cell_type": "code",
   "execution_count": 39,
   "id": "e870f6bd",
   "metadata": {},
   "outputs": [
    {
     "data": {
      "text/plain": [
       "loan_amnt    float64\n",
       "term         float64\n",
       "dtype: object"
      ]
     },
     "execution_count": 39,
     "metadata": {},
     "output_type": "execute_result"
    }
   ],
   "source": [
    "df[[\"loan_amnt\",\"term\"]].dtypes"
   ]
  },
  {
   "cell_type": "markdown",
   "id": "49d386c5",
   "metadata": {},
   "source": [
    "- <strong>int_rate :</strong> `Interest Rate` on the loan\n",
    "- <strong>installment :</strong> The `monthly payment amount` owed by the borrower if the loan originates.\n",
    "- <strong>grade :</strong> LoanTap assigned `loan grade`\n",
    "- <strong>sub_grade :</strong> LoanTap assigned `loan subgrade`"
   ]
  },
  {
   "cell_type": "code",
   "execution_count": 40,
   "id": "fb1f3489",
   "metadata": {},
   "outputs": [
    {
     "data": {
      "text/plain": [
       "int_rate       float64\n",
       "installment    float64\n",
       "dtype: object"
      ]
     },
     "execution_count": 40,
     "metadata": {},
     "output_type": "execute_result"
    }
   ],
   "source": [
    "df[[\"int_rate\",\"installment\"]].dtypes"
   ]
  },
  {
   "cell_type": "code",
   "execution_count": 41,
   "id": "688ccf72",
   "metadata": {},
   "outputs": [
    {
     "data": {
      "text/html": [
       "<div>\n",
       "<style scoped>\n",
       "    .dataframe tbody tr th:only-of-type {\n",
       "        vertical-align: middle;\n",
       "    }\n",
       "\n",
       "    .dataframe tbody tr th {\n",
       "        vertical-align: top;\n",
       "    }\n",
       "\n",
       "    .dataframe thead th {\n",
       "        text-align: right;\n",
       "    }\n",
       "</style>\n",
       "<table border=\"1\" class=\"dataframe\">\n",
       "  <thead>\n",
       "    <tr style=\"text-align: right;\">\n",
       "      <th></th>\n",
       "      <th>grade</th>\n",
       "      <th>sub_grade</th>\n",
       "    </tr>\n",
       "  </thead>\n",
       "  <tbody>\n",
       "    <tr>\n",
       "      <th>0</th>\n",
       "      <td>B</td>\n",
       "      <td>B4</td>\n",
       "    </tr>\n",
       "    <tr>\n",
       "      <th>1</th>\n",
       "      <td>B</td>\n",
       "      <td>B5</td>\n",
       "    </tr>\n",
       "    <tr>\n",
       "      <th>2</th>\n",
       "      <td>B</td>\n",
       "      <td>B3</td>\n",
       "    </tr>\n",
       "    <tr>\n",
       "      <th>3</th>\n",
       "      <td>A</td>\n",
       "      <td>A2</td>\n",
       "    </tr>\n",
       "    <tr>\n",
       "      <th>4</th>\n",
       "      <td>C</td>\n",
       "      <td>C5</td>\n",
       "    </tr>\n",
       "  </tbody>\n",
       "</table>\n",
       "</div>"
      ],
      "text/plain": [
       "  grade sub_grade\n",
       "0     B        B4\n",
       "1     B        B5\n",
       "2     B        B3\n",
       "3     A        A2\n",
       "4     C        C5"
      ]
     },
     "execution_count": 41,
     "metadata": {},
     "output_type": "execute_result"
    }
   ],
   "source": [
    "df[[\"grade\",\"sub_grade\"]].head()"
   ]
  },
  {
   "cell_type": "code",
   "execution_count": 42,
   "id": "3bf6c016",
   "metadata": {},
   "outputs": [
    {
     "data": {
      "text/plain": [
       "array(['B', 'A', 'C', 'E', 'D', 'F', 'G'], dtype=object)"
      ]
     },
     "execution_count": 42,
     "metadata": {},
     "output_type": "execute_result"
    }
   ],
   "source": [
    "df[\"grade\"].unique()"
   ]
  },
  {
   "cell_type": "code",
   "execution_count": 43,
   "id": "d523f6cb",
   "metadata": {},
   "outputs": [],
   "source": [
    "df[\"grade\"]=df[\"grade\"].str.lower()"
   ]
  },
  {
   "cell_type": "code",
   "execution_count": 44,
   "id": "302f8d26",
   "metadata": {},
   "outputs": [],
   "source": [
    "df[\"sub_grade\"]=df[\"sub_grade\"].str.extract(\"(\\d+)\")"
   ]
  },
  {
   "cell_type": "code",
   "execution_count": 45,
   "id": "9403d639",
   "metadata": {},
   "outputs": [
    {
     "data": {
      "text/html": [
       "<div>\n",
       "<style scoped>\n",
       "    .dataframe tbody tr th:only-of-type {\n",
       "        vertical-align: middle;\n",
       "    }\n",
       "\n",
       "    .dataframe tbody tr th {\n",
       "        vertical-align: top;\n",
       "    }\n",
       "\n",
       "    .dataframe thead th {\n",
       "        text-align: right;\n",
       "    }\n",
       "</style>\n",
       "<table border=\"1\" class=\"dataframe\">\n",
       "  <thead>\n",
       "    <tr style=\"text-align: right;\">\n",
       "      <th></th>\n",
       "      <th>grade</th>\n",
       "      <th>sub_grade</th>\n",
       "    </tr>\n",
       "  </thead>\n",
       "  <tbody>\n",
       "    <tr>\n",
       "      <th>0</th>\n",
       "      <td>b</td>\n",
       "      <td>4</td>\n",
       "    </tr>\n",
       "    <tr>\n",
       "      <th>1</th>\n",
       "      <td>b</td>\n",
       "      <td>5</td>\n",
       "    </tr>\n",
       "    <tr>\n",
       "      <th>2</th>\n",
       "      <td>b</td>\n",
       "      <td>3</td>\n",
       "    </tr>\n",
       "    <tr>\n",
       "      <th>3</th>\n",
       "      <td>a</td>\n",
       "      <td>2</td>\n",
       "    </tr>\n",
       "    <tr>\n",
       "      <th>4</th>\n",
       "      <td>c</td>\n",
       "      <td>5</td>\n",
       "    </tr>\n",
       "  </tbody>\n",
       "</table>\n",
       "</div>"
      ],
      "text/plain": [
       "  grade sub_grade\n",
       "0     b         4\n",
       "1     b         5\n",
       "2     b         3\n",
       "3     a         2\n",
       "4     c         5"
      ]
     },
     "execution_count": 45,
     "metadata": {},
     "output_type": "execute_result"
    }
   ],
   "source": [
    "df[[\"grade\",\"sub_grade\"]].head()"
   ]
  },
  {
   "cell_type": "code",
   "execution_count": 46,
   "id": "dc9e4bf8",
   "metadata": {},
   "outputs": [
    {
     "data": {
      "text/plain": [
       "array(['4', '5', '3', '2', '1'], dtype=object)"
      ]
     },
     "execution_count": 46,
     "metadata": {},
     "output_type": "execute_result"
    }
   ],
   "source": [
    "df[\"sub_grade\"].unique()"
   ]
  },
  {
   "cell_type": "code",
   "execution_count": 47,
   "id": "8d186313",
   "metadata": {},
   "outputs": [
    {
     "data": {
      "text/plain": [
       "grade        object\n",
       "sub_grade    object\n",
       "dtype: object"
      ]
     },
     "execution_count": 47,
     "metadata": {},
     "output_type": "execute_result"
    }
   ],
   "source": [
    "df[[\"grade\",\"sub_grade\"]].dtypes"
   ]
  },
  {
   "cell_type": "code",
   "execution_count": 48,
   "id": "bf83b31f",
   "metadata": {},
   "outputs": [],
   "source": [
    "df[\"sub_grade\"]=df[\"sub_grade\"].astype(\"float64\")"
   ]
  },
  {
   "cell_type": "code",
   "execution_count": 49,
   "id": "a0fd2d2d",
   "metadata": {},
   "outputs": [
    {
     "data": {
      "text/plain": [
       "grade         object\n",
       "sub_grade    float64\n",
       "dtype: object"
      ]
     },
     "execution_count": 49,
     "metadata": {},
     "output_type": "execute_result"
    }
   ],
   "source": [
    "df[[\"grade\",\"sub_grade\"]].dtypes"
   ]
  },
  {
   "cell_type": "markdown",
   "id": "37f5ef4a",
   "metadata": {},
   "source": [
    "- <strike><strong>emp_title :</strong>The job title supplied by the Borrower when applying for the loan.</strike>\n",
    "- <strong>emp_length :</strong> Employment length in years. Possible values are between 0 and 10 where 0 means less than one year and 10 means ten or more years."
   ]
  },
  {
   "cell_type": "code",
   "execution_count": 50,
   "id": "99a87887",
   "metadata": {},
   "outputs": [
    {
     "data": {
      "text/plain": [
       "172144"
      ]
     },
     "execution_count": 50,
     "metadata": {},
     "output_type": "execute_result"
    }
   ],
   "source": [
    "df[\"emp_title\"].nunique() #these many unique title will increase the dimensionality too much after one-hot-encoding"
   ]
  },
  {
   "cell_type": "code",
   "execution_count": 51,
   "id": "3b3f2d56",
   "metadata": {},
   "outputs": [],
   "source": [
    "#\"emp_title\" -> this column need to be dropped before train-test-split"
   ]
  },
  {
   "cell_type": "code",
   "execution_count": 52,
   "id": "84820197",
   "metadata": {},
   "outputs": [
    {
     "data": {
      "text/plain": [
       "Teacher             4367\n",
       "Manager             4231\n",
       "Registered Nurse    1841\n",
       "RN                  1840\n",
       "Supervisor          1812\n",
       "Sales               1618\n",
       "Project Manager     1494\n",
       "Owner               1381\n",
       "Driver              1318\n",
       "Office Manager      1213\n",
       "Name: emp_title, dtype: int64"
      ]
     },
     "execution_count": 52,
     "metadata": {},
     "output_type": "execute_result"
    }
   ],
   "source": [
    "df[\"emp_title\"].value_counts()[:10]"
   ]
  },
  {
   "cell_type": "markdown",
   "id": "d8c66698",
   "metadata": {},
   "source": [
    "<mark>top 2 profession of customers: <strong>Teacher and manager</strong></mark>"
   ]
  },
  {
   "cell_type": "code",
   "execution_count": 53,
   "id": "e782abd5",
   "metadata": {},
   "outputs": [],
   "source": [
    "df[\"emp_title\"]=df[\"emp_title\"].str.lower()"
   ]
  },
  {
   "cell_type": "code",
   "execution_count": null,
   "id": "5b89e085",
   "metadata": {},
   "outputs": [],
   "source": []
  },
  {
   "cell_type": "code",
   "execution_count": 54,
   "id": "fa81130e",
   "metadata": {},
   "outputs": [],
   "source": [
    "df[\"emp_length\"]=df[\"emp_length\"].str.extract(\"(\\d+)\")"
   ]
  },
  {
   "cell_type": "code",
   "execution_count": 55,
   "id": "3fad5a27",
   "metadata": {},
   "outputs": [],
   "source": [
    "df[\"emp_length\"]=df[\"emp_length\"].astype(\"float64\")"
   ]
  },
  {
   "cell_type": "code",
   "execution_count": 56,
   "id": "c5834fca",
   "metadata": {},
   "outputs": [
    {
     "data": {
      "text/html": [
       "<div>\n",
       "<style scoped>\n",
       "    .dataframe tbody tr th:only-of-type {\n",
       "        vertical-align: middle;\n",
       "    }\n",
       "\n",
       "    .dataframe tbody tr th {\n",
       "        vertical-align: top;\n",
       "    }\n",
       "\n",
       "    .dataframe thead th {\n",
       "        text-align: right;\n",
       "    }\n",
       "</style>\n",
       "<table border=\"1\" class=\"dataframe\">\n",
       "  <thead>\n",
       "    <tr style=\"text-align: right;\">\n",
       "      <th></th>\n",
       "      <th>emp_title</th>\n",
       "      <th>emp_length</th>\n",
       "    </tr>\n",
       "  </thead>\n",
       "  <tbody>\n",
       "    <tr>\n",
       "      <th>0</th>\n",
       "      <td>marketing</td>\n",
       "      <td>10.0</td>\n",
       "    </tr>\n",
       "    <tr>\n",
       "      <th>1</th>\n",
       "      <td>credit analyst</td>\n",
       "      <td>4.0</td>\n",
       "    </tr>\n",
       "    <tr>\n",
       "      <th>2</th>\n",
       "      <td>statistician</td>\n",
       "      <td>1.0</td>\n",
       "    </tr>\n",
       "    <tr>\n",
       "      <th>3</th>\n",
       "      <td>client advocate</td>\n",
       "      <td>6.0</td>\n",
       "    </tr>\n",
       "    <tr>\n",
       "      <th>4</th>\n",
       "      <td>destiny management inc.</td>\n",
       "      <td>9.0</td>\n",
       "    </tr>\n",
       "  </tbody>\n",
       "</table>\n",
       "</div>"
      ],
      "text/plain": [
       "                 emp_title  emp_length\n",
       "0                marketing        10.0\n",
       "1          credit analyst          4.0\n",
       "2             statistician         1.0\n",
       "3          client advocate         6.0\n",
       "4  destiny management inc.         9.0"
      ]
     },
     "execution_count": 56,
     "metadata": {},
     "output_type": "execute_result"
    }
   ],
   "source": [
    "df[[\"emp_title\",\"emp_length\"]].head()"
   ]
  },
  {
   "cell_type": "markdown",
   "id": "8ec226a1",
   "metadata": {},
   "source": [
    "- <strong>home_ownership :</strong> The home ownership status provided by the borrower during registration or obtained from the credit report.\n",
    "- <strong>annual_inc :</strong> The self-reported annual income provided by the borrower during registration."
   ]
  },
  {
   "cell_type": "code",
   "execution_count": 57,
   "id": "5aaff4ee",
   "metadata": {},
   "outputs": [
    {
     "data": {
      "text/plain": [
       "array(['RENT', 'MORTGAGE', 'OWN', 'OTHER', 'ANY', 'NONE'], dtype=object)"
      ]
     },
     "execution_count": 57,
     "metadata": {},
     "output_type": "execute_result"
    }
   ],
   "source": [
    "df[\"home_ownership\"].unique()"
   ]
  },
  {
   "cell_type": "code",
   "execution_count": 58,
   "id": "3109dbb8",
   "metadata": {},
   "outputs": [],
   "source": [
    "df[\"home_ownership\"]=df[\"home_ownership\"].str.lower()"
   ]
  },
  {
   "cell_type": "code",
   "execution_count": 59,
   "id": "73fc6555",
   "metadata": {},
   "outputs": [
    {
     "data": {
      "text/html": [
       "<div>\n",
       "<style scoped>\n",
       "    .dataframe tbody tr th:only-of-type {\n",
       "        vertical-align: middle;\n",
       "    }\n",
       "\n",
       "    .dataframe tbody tr th {\n",
       "        vertical-align: top;\n",
       "    }\n",
       "\n",
       "    .dataframe thead th {\n",
       "        text-align: right;\n",
       "    }\n",
       "</style>\n",
       "<table border=\"1\" class=\"dataframe\">\n",
       "  <thead>\n",
       "    <tr style=\"text-align: right;\">\n",
       "      <th></th>\n",
       "      <th>home_ownership</th>\n",
       "    </tr>\n",
       "  </thead>\n",
       "  <tbody>\n",
       "    <tr>\n",
       "      <th>0</th>\n",
       "      <td>rent</td>\n",
       "    </tr>\n",
       "    <tr>\n",
       "      <th>1</th>\n",
       "      <td>mortgage</td>\n",
       "    </tr>\n",
       "    <tr>\n",
       "      <th>2</th>\n",
       "      <td>rent</td>\n",
       "    </tr>\n",
       "    <tr>\n",
       "      <th>3</th>\n",
       "      <td>rent</td>\n",
       "    </tr>\n",
       "    <tr>\n",
       "      <th>4</th>\n",
       "      <td>mortgage</td>\n",
       "    </tr>\n",
       "  </tbody>\n",
       "</table>\n",
       "</div>"
      ],
      "text/plain": [
       "  home_ownership\n",
       "0           rent\n",
       "1       mortgage\n",
       "2           rent\n",
       "3           rent\n",
       "4       mortgage"
      ]
     },
     "execution_count": 59,
     "metadata": {},
     "output_type": "execute_result"
    }
   ],
   "source": [
    "df[[\"home_ownership\"]].head()"
   ]
  },
  {
   "cell_type": "code",
   "execution_count": 60,
   "id": "14484ca8",
   "metadata": {},
   "outputs": [
    {
     "data": {
      "text/html": [
       "<div>\n",
       "<style scoped>\n",
       "    .dataframe tbody tr th:only-of-type {\n",
       "        vertical-align: middle;\n",
       "    }\n",
       "\n",
       "    .dataframe tbody tr th {\n",
       "        vertical-align: top;\n",
       "    }\n",
       "\n",
       "    .dataframe thead th {\n",
       "        text-align: right;\n",
       "    }\n",
       "</style>\n",
       "<table border=\"1\" class=\"dataframe\">\n",
       "  <thead>\n",
       "    <tr style=\"text-align: right;\">\n",
       "      <th></th>\n",
       "      <th>annual_inc</th>\n",
       "    </tr>\n",
       "  </thead>\n",
       "  <tbody>\n",
       "    <tr>\n",
       "      <th>0</th>\n",
       "      <td>117000.0</td>\n",
       "    </tr>\n",
       "    <tr>\n",
       "      <th>1</th>\n",
       "      <td>65000.0</td>\n",
       "    </tr>\n",
       "    <tr>\n",
       "      <th>2</th>\n",
       "      <td>43057.0</td>\n",
       "    </tr>\n",
       "    <tr>\n",
       "      <th>3</th>\n",
       "      <td>54000.0</td>\n",
       "    </tr>\n",
       "    <tr>\n",
       "      <th>4</th>\n",
       "      <td>55000.0</td>\n",
       "    </tr>\n",
       "  </tbody>\n",
       "</table>\n",
       "</div>"
      ],
      "text/plain": [
       "   annual_inc\n",
       "0    117000.0\n",
       "1     65000.0\n",
       "2     43057.0\n",
       "3     54000.0\n",
       "4     55000.0"
      ]
     },
     "execution_count": 60,
     "metadata": {},
     "output_type": "execute_result"
    }
   ],
   "source": [
    "df[[\"annual_inc\"]].head()"
   ]
  },
  {
   "cell_type": "markdown",
   "id": "9a2775da",
   "metadata": {},
   "source": [
    "- <strong>verification_status :</strong> Indicates if income was verified by LoanTap, not verified, or if the income source was verified\n",
    "- <strike><strong>issue_d :</strong> The month which the loan was funded</strike>"
   ]
  },
  {
   "cell_type": "code",
   "execution_count": 61,
   "id": "6bc3dfb4",
   "metadata": {
    "scrolled": true
   },
   "outputs": [
    {
     "data": {
      "text/plain": [
       "array(['Not Verified', 'Source Verified', 'Verified'], dtype=object)"
      ]
     },
     "execution_count": 61,
     "metadata": {},
     "output_type": "execute_result"
    }
   ],
   "source": [
    "df[\"verification_status\"].unique()"
   ]
  },
  {
   "cell_type": "code",
   "execution_count": 62,
   "id": "6ed326ab",
   "metadata": {},
   "outputs": [],
   "source": [
    "df[\"verification_status\"]=df[\"verification_status\"].str.replace(\" \",\"_\")"
   ]
  },
  {
   "cell_type": "code",
   "execution_count": 63,
   "id": "d93cfeb6",
   "metadata": {},
   "outputs": [],
   "source": [
    "df[\"verification_status\"]=df[\"verification_status\"].str.lower()"
   ]
  },
  {
   "cell_type": "code",
   "execution_count": 64,
   "id": "a8df8b6b",
   "metadata": {},
   "outputs": [
    {
     "data": {
      "text/html": [
       "<div>\n",
       "<style scoped>\n",
       "    .dataframe tbody tr th:only-of-type {\n",
       "        vertical-align: middle;\n",
       "    }\n",
       "\n",
       "    .dataframe tbody tr th {\n",
       "        vertical-align: top;\n",
       "    }\n",
       "\n",
       "    .dataframe thead th {\n",
       "        text-align: right;\n",
       "    }\n",
       "</style>\n",
       "<table border=\"1\" class=\"dataframe\">\n",
       "  <thead>\n",
       "    <tr style=\"text-align: right;\">\n",
       "      <th></th>\n",
       "      <th>verification_status</th>\n",
       "    </tr>\n",
       "  </thead>\n",
       "  <tbody>\n",
       "    <tr>\n",
       "      <th>0</th>\n",
       "      <td>not_verified</td>\n",
       "    </tr>\n",
       "    <tr>\n",
       "      <th>1</th>\n",
       "      <td>not_verified</td>\n",
       "    </tr>\n",
       "    <tr>\n",
       "      <th>2</th>\n",
       "      <td>source_verified</td>\n",
       "    </tr>\n",
       "    <tr>\n",
       "      <th>3</th>\n",
       "      <td>not_verified</td>\n",
       "    </tr>\n",
       "    <tr>\n",
       "      <th>4</th>\n",
       "      <td>verified</td>\n",
       "    </tr>\n",
       "  </tbody>\n",
       "</table>\n",
       "</div>"
      ],
      "text/plain": [
       "  verification_status\n",
       "0        not_verified\n",
       "1        not_verified\n",
       "2     source_verified\n",
       "3        not_verified\n",
       "4            verified"
      ]
     },
     "execution_count": 64,
     "metadata": {},
     "output_type": "execute_result"
    }
   ],
   "source": [
    "df[[\"verification_status\"]].head()"
   ]
  },
  {
   "cell_type": "code",
   "execution_count": 65,
   "id": "95c7c1ea",
   "metadata": {},
   "outputs": [
    {
     "data": {
      "text/html": [
       "<div>\n",
       "<style scoped>\n",
       "    .dataframe tbody tr th:only-of-type {\n",
       "        vertical-align: middle;\n",
       "    }\n",
       "\n",
       "    .dataframe tbody tr th {\n",
       "        vertical-align: top;\n",
       "    }\n",
       "\n",
       "    .dataframe thead th {\n",
       "        text-align: right;\n",
       "    }\n",
       "</style>\n",
       "<table border=\"1\" class=\"dataframe\">\n",
       "  <thead>\n",
       "    <tr style=\"text-align: right;\">\n",
       "      <th></th>\n",
       "      <th>issue_d</th>\n",
       "    </tr>\n",
       "  </thead>\n",
       "  <tbody>\n",
       "    <tr>\n",
       "      <th>0</th>\n",
       "      <td>Jan-2015</td>\n",
       "    </tr>\n",
       "    <tr>\n",
       "      <th>1</th>\n",
       "      <td>Jan-2015</td>\n",
       "    </tr>\n",
       "    <tr>\n",
       "      <th>2</th>\n",
       "      <td>Jan-2015</td>\n",
       "    </tr>\n",
       "    <tr>\n",
       "      <th>3</th>\n",
       "      <td>Nov-2014</td>\n",
       "    </tr>\n",
       "    <tr>\n",
       "      <th>4</th>\n",
       "      <td>Apr-2013</td>\n",
       "    </tr>\n",
       "  </tbody>\n",
       "</table>\n",
       "</div>"
      ],
      "text/plain": [
       "    issue_d\n",
       "0  Jan-2015\n",
       "1  Jan-2015\n",
       "2  Jan-2015\n",
       "3  Nov-2014\n",
       "4  Apr-2013"
      ]
     },
     "execution_count": 65,
     "metadata": {},
     "output_type": "execute_result"
    }
   ],
   "source": [
    "df[[\"issue_d\"]].head()\n",
    "#month in which loan was funded, clearly this column has no effect on target variable\n",
    "#\"issue_d\" -> this column need to be dropped before train-test-split"
   ]
  },
  {
   "cell_type": "markdown",
   "id": "dec4d80e",
   "metadata": {},
   "source": [
    "- <mark>loan_status :</mark> Current status of the loan - <mark>Target Variable</mark>\n",
    "- purpose : A category provided by the borrower for the loan request."
   ]
  },
  {
   "cell_type": "code",
   "execution_count": 66,
   "id": "174bf1fc",
   "metadata": {},
   "outputs": [
    {
     "data": {
      "text/html": [
       "<div>\n",
       "<style scoped>\n",
       "    .dataframe tbody tr th:only-of-type {\n",
       "        vertical-align: middle;\n",
       "    }\n",
       "\n",
       "    .dataframe tbody tr th {\n",
       "        vertical-align: top;\n",
       "    }\n",
       "\n",
       "    .dataframe thead th {\n",
       "        text-align: right;\n",
       "    }\n",
       "</style>\n",
       "<table border=\"1\" class=\"dataframe\">\n",
       "  <thead>\n",
       "    <tr style=\"text-align: right;\">\n",
       "      <th></th>\n",
       "      <th>loan_status</th>\n",
       "    </tr>\n",
       "  </thead>\n",
       "  <tbody>\n",
       "    <tr>\n",
       "      <th>0</th>\n",
       "      <td>Fully Paid</td>\n",
       "    </tr>\n",
       "    <tr>\n",
       "      <th>1</th>\n",
       "      <td>Fully Paid</td>\n",
       "    </tr>\n",
       "    <tr>\n",
       "      <th>2</th>\n",
       "      <td>Fully Paid</td>\n",
       "    </tr>\n",
       "    <tr>\n",
       "      <th>3</th>\n",
       "      <td>Fully Paid</td>\n",
       "    </tr>\n",
       "    <tr>\n",
       "      <th>4</th>\n",
       "      <td>Charged Off</td>\n",
       "    </tr>\n",
       "  </tbody>\n",
       "</table>\n",
       "</div>"
      ],
      "text/plain": [
       "   loan_status\n",
       "0   Fully Paid\n",
       "1   Fully Paid\n",
       "2   Fully Paid\n",
       "3   Fully Paid\n",
       "4  Charged Off"
      ]
     },
     "execution_count": 66,
     "metadata": {},
     "output_type": "execute_result"
    }
   ],
   "source": [
    "df[[\"loan_status\"]].head()\n",
    "#target variable"
   ]
  },
  {
   "cell_type": "code",
   "execution_count": 67,
   "id": "2574518d",
   "metadata": {},
   "outputs": [
    {
     "data": {
      "text/plain": [
       "loan_status\n",
       "Fully Paid     80.773403\n",
       "Charged Off    19.226597\n",
       "dtype: float64"
      ]
     },
     "execution_count": 67,
     "metadata": {},
     "output_type": "execute_result"
    }
   ],
   "source": [
    "df[[\"loan_status\"]].value_counts()/len(df)*100 #Imbalance Data"
   ]
  },
  {
   "cell_type": "code",
   "execution_count": 68,
   "id": "3657a0a5",
   "metadata": {},
   "outputs": [
    {
     "data": {
      "text/html": [
       "<div>\n",
       "<style scoped>\n",
       "    .dataframe tbody tr th:only-of-type {\n",
       "        vertical-align: middle;\n",
       "    }\n",
       "\n",
       "    .dataframe tbody tr th {\n",
       "        vertical-align: top;\n",
       "    }\n",
       "\n",
       "    .dataframe thead th {\n",
       "        text-align: right;\n",
       "    }\n",
       "</style>\n",
       "<table border=\"1\" class=\"dataframe\">\n",
       "  <thead>\n",
       "    <tr style=\"text-align: right;\">\n",
       "      <th></th>\n",
       "      <th>purpose</th>\n",
       "    </tr>\n",
       "  </thead>\n",
       "  <tbody>\n",
       "    <tr>\n",
       "      <th>0</th>\n",
       "      <td>vacation</td>\n",
       "    </tr>\n",
       "    <tr>\n",
       "      <th>1</th>\n",
       "      <td>debt_consolidation</td>\n",
       "    </tr>\n",
       "    <tr>\n",
       "      <th>2</th>\n",
       "      <td>credit_card</td>\n",
       "    </tr>\n",
       "    <tr>\n",
       "      <th>3</th>\n",
       "      <td>credit_card</td>\n",
       "    </tr>\n",
       "    <tr>\n",
       "      <th>4</th>\n",
       "      <td>credit_card</td>\n",
       "    </tr>\n",
       "  </tbody>\n",
       "</table>\n",
       "</div>"
      ],
      "text/plain": [
       "              purpose\n",
       "0            vacation\n",
       "1  debt_consolidation\n",
       "2         credit_card\n",
       "3         credit_card\n",
       "4         credit_card"
      ]
     },
     "execution_count": 68,
     "metadata": {},
     "output_type": "execute_result"
    }
   ],
   "source": [
    "df[[\"purpose\"]].head()"
   ]
  },
  {
   "cell_type": "code",
   "execution_count": 69,
   "id": "c34fd6ac",
   "metadata": {},
   "outputs": [
    {
     "data": {
      "text/plain": [
       "14"
      ]
     },
     "execution_count": 69,
     "metadata": {},
     "output_type": "execute_result"
    }
   ],
   "source": [
    "df[\"purpose\"].nunique()"
   ]
  },
  {
   "cell_type": "code",
   "execution_count": 70,
   "id": "36fac090",
   "metadata": {},
   "outputs": [
    {
     "data": {
      "text/plain": [
       "array(['vacation', 'debt_consolidation', 'credit_card',\n",
       "       'home_improvement', 'small_business', 'major_purchase', 'other',\n",
       "       'medical', 'wedding', 'car', 'moving', 'house', 'educational',\n",
       "       'renewable_energy'], dtype=object)"
      ]
     },
     "execution_count": 70,
     "metadata": {},
     "output_type": "execute_result"
    }
   ],
   "source": [
    "df[\"purpose\"].unique()"
   ]
  },
  {
   "cell_type": "markdown",
   "id": "84709199",
   "metadata": {},
   "source": [
    "- <strike><strong>title :</strong> The loan title provided by the borrower</strike>\n",
    "- dti : A ratio calculated using the borrower’s total monthly debt payments on the total debt obligations, excluding mortgage and the requested LoanTap loan, divided by the borrower’s self-reported monthly income."
   ]
  },
  {
   "cell_type": "code",
   "execution_count": 71,
   "id": "4ca7ea0b",
   "metadata": {},
   "outputs": [
    {
     "data": {
      "text/html": [
       "<div>\n",
       "<style scoped>\n",
       "    .dataframe tbody tr th:only-of-type {\n",
       "        vertical-align: middle;\n",
       "    }\n",
       "\n",
       "    .dataframe tbody tr th {\n",
       "        vertical-align: top;\n",
       "    }\n",
       "\n",
       "    .dataframe thead th {\n",
       "        text-align: right;\n",
       "    }\n",
       "</style>\n",
       "<table border=\"1\" class=\"dataframe\">\n",
       "  <thead>\n",
       "    <tr style=\"text-align: right;\">\n",
       "      <th></th>\n",
       "      <th>title</th>\n",
       "    </tr>\n",
       "  </thead>\n",
       "  <tbody>\n",
       "    <tr>\n",
       "      <th>0</th>\n",
       "      <td>Vacation</td>\n",
       "    </tr>\n",
       "    <tr>\n",
       "      <th>1</th>\n",
       "      <td>Debt consolidation</td>\n",
       "    </tr>\n",
       "    <tr>\n",
       "      <th>2</th>\n",
       "      <td>Credit card refinancing</td>\n",
       "    </tr>\n",
       "    <tr>\n",
       "      <th>3</th>\n",
       "      <td>Credit card refinancing</td>\n",
       "    </tr>\n",
       "    <tr>\n",
       "      <th>4</th>\n",
       "      <td>Credit Card Refinance</td>\n",
       "    </tr>\n",
       "  </tbody>\n",
       "</table>\n",
       "</div>"
      ],
      "text/plain": [
       "                     title\n",
       "0                 Vacation\n",
       "1       Debt consolidation\n",
       "2  Credit card refinancing\n",
       "3  Credit card refinancing\n",
       "4    Credit Card Refinance"
      ]
     },
     "execution_count": 71,
     "metadata": {},
     "output_type": "execute_result"
    }
   ],
   "source": [
    "df[[\"title\"]].head()"
   ]
  },
  {
   "cell_type": "code",
   "execution_count": 72,
   "id": "4e303535",
   "metadata": {},
   "outputs": [
    {
     "data": {
      "text/plain": [
       "title                    \n",
       "Debt consolidation           144609\n",
       "Credit card refinancing       48444\n",
       "Home improvement              14209\n",
       "Other                         12018\n",
       "Debt Consolidation            11166\n",
       "Major purchase                 4473\n",
       "Consolidation                  3690\n",
       "debt consolidation             3277\n",
       "Debt Consolidation Loan        2750\n",
       "Business                       2647\n",
       "Medical expenses               2505\n",
       "Car financing                  2015\n",
       "Credit Card Consolidation      1693\n",
       "Vacation                       1588\n",
       "Moving and relocation          1574\n",
       "Personal Loan                  1498\n",
       "consolidation                  1480\n",
       "Consolidation Loan             1259\n",
       "Home Improvement               1171\n",
       "Home buying                    1138\n",
       "Credit Card Refinance          1057\n",
       "Credit Card Payoff             1004\n",
       "Consolidate                     873\n",
       "Personal                        821\n",
       "Loan                            730\n",
       "Credit Card Loan                585\n",
       "Freedom                         535\n",
       "Debt                            530\n",
       "consolidate                     527\n",
       "personal loan                   509\n",
       "dtype: int64"
      ]
     },
     "execution_count": 72,
     "metadata": {},
     "output_type": "execute_result"
    }
   ],
   "source": [
    "df[[\"title\"]].value_counts()[:30]"
   ]
  },
  {
   "cell_type": "code",
   "execution_count": 73,
   "id": "61f5e3b8",
   "metadata": {},
   "outputs": [
    {
     "data": {
      "text/plain": [
       "title                                    \n",
       "Getting a house                              1\n",
       "Getting Things Done                          1\n",
       "Getting a lower interest                     1\n",
       "Getting a new place                          1\n",
       "Getting a relief                             1\n",
       "Getting above water!                         1\n",
       "Getting ahead finally                        1\n",
       "Getting ahead in life!                       1\n",
       "Getting ahead, one way or another            1\n",
       "Getting Together                             1\n",
       "Getting The Monkey Off My Back               1\n",
       "Getting Rid of Bank of America               1\n",
       "Getting Rid of High interest Credit cards    1\n",
       "Getting Rid of College Debts                 1\n",
       "Getting Rid of Credit Cards! - Lower APR     1\n",
       "Getting Rid of Greentree                     1\n",
       "Getting Rid of High APRs for Good            1\n",
       "Getting Rid of High Interest Cards!          1\n",
       "Getting Rid of High Interest Rates!!         1\n",
       "Getting Rid of High Interests                1\n",
       "Getting Rid of my Credit Card Debt           1\n",
       "Getting Started with rhe LeadingClub         1\n",
       "Getting Rid of those credit cards            1\n",
       "Getting Right                                1\n",
       "Getting Serious                              1\n",
       "Getting Smart                                1\n",
       "Getting Smart About Credit Card Debt         1\n",
       "Getting Smart in 2012                        1\n",
       "Getting Started on my MBA                    1\n",
       "~Summer Fun~                                 1\n",
       "dtype: int64"
      ]
     },
     "execution_count": 73,
     "metadata": {},
     "output_type": "execute_result"
    }
   ],
   "source": [
    "df[[\"title\"]].value_counts()[-30:]"
   ]
  },
  {
   "cell_type": "code",
   "execution_count": 74,
   "id": "05642b71",
   "metadata": {},
   "outputs": [
    {
     "data": {
      "text/html": [
       "<div>\n",
       "<style scoped>\n",
       "    .dataframe tbody tr th:only-of-type {\n",
       "        vertical-align: middle;\n",
       "    }\n",
       "\n",
       "    .dataframe tbody tr th {\n",
       "        vertical-align: top;\n",
       "    }\n",
       "\n",
       "    .dataframe thead th {\n",
       "        text-align: right;\n",
       "    }\n",
       "</style>\n",
       "<table border=\"1\" class=\"dataframe\">\n",
       "  <thead>\n",
       "    <tr style=\"text-align: right;\">\n",
       "      <th></th>\n",
       "      <th>dti</th>\n",
       "    </tr>\n",
       "  </thead>\n",
       "  <tbody>\n",
       "    <tr>\n",
       "      <th>0</th>\n",
       "      <td>26.24</td>\n",
       "    </tr>\n",
       "    <tr>\n",
       "      <th>1</th>\n",
       "      <td>22.05</td>\n",
       "    </tr>\n",
       "    <tr>\n",
       "      <th>2</th>\n",
       "      <td>12.79</td>\n",
       "    </tr>\n",
       "    <tr>\n",
       "      <th>3</th>\n",
       "      <td>2.60</td>\n",
       "    </tr>\n",
       "    <tr>\n",
       "      <th>4</th>\n",
       "      <td>33.95</td>\n",
       "    </tr>\n",
       "  </tbody>\n",
       "</table>\n",
       "</div>"
      ],
      "text/plain": [
       "     dti\n",
       "0  26.24\n",
       "1  22.05\n",
       "2  12.79\n",
       "3   2.60\n",
       "4  33.95"
      ]
     },
     "execution_count": 74,
     "metadata": {},
     "output_type": "execute_result"
    }
   ],
   "source": [
    "df[[\"dti\"]].head()"
   ]
  },
  {
   "cell_type": "markdown",
   "id": "6f9e3fd4",
   "metadata": {},
   "source": [
    "- <strike><strong>earliest_cr_line :</strong>The month the borrower's earliest reported credit line was opened</strike>\n",
    "- <strong>open_acc :</strong> The number of open credit lines in the borrower's credit file."
   ]
  },
  {
   "cell_type": "code",
   "execution_count": 75,
   "id": "d3b89aff",
   "metadata": {},
   "outputs": [
    {
     "data": {
      "text/html": [
       "<div>\n",
       "<style scoped>\n",
       "    .dataframe tbody tr th:only-of-type {\n",
       "        vertical-align: middle;\n",
       "    }\n",
       "\n",
       "    .dataframe tbody tr th {\n",
       "        vertical-align: top;\n",
       "    }\n",
       "\n",
       "    .dataframe thead th {\n",
       "        text-align: right;\n",
       "    }\n",
       "</style>\n",
       "<table border=\"1\" class=\"dataframe\">\n",
       "  <thead>\n",
       "    <tr style=\"text-align: right;\">\n",
       "      <th></th>\n",
       "      <th>earliest_cr_line</th>\n",
       "    </tr>\n",
       "  </thead>\n",
       "  <tbody>\n",
       "    <tr>\n",
       "      <th>0</th>\n",
       "      <td>Jun-1990</td>\n",
       "    </tr>\n",
       "    <tr>\n",
       "      <th>1</th>\n",
       "      <td>Jul-2004</td>\n",
       "    </tr>\n",
       "    <tr>\n",
       "      <th>2</th>\n",
       "      <td>Aug-2007</td>\n",
       "    </tr>\n",
       "    <tr>\n",
       "      <th>3</th>\n",
       "      <td>Sep-2006</td>\n",
       "    </tr>\n",
       "    <tr>\n",
       "      <th>4</th>\n",
       "      <td>Mar-1999</td>\n",
       "    </tr>\n",
       "  </tbody>\n",
       "</table>\n",
       "</div>"
      ],
      "text/plain": [
       "  earliest_cr_line\n",
       "0         Jun-1990\n",
       "1         Jul-2004\n",
       "2         Aug-2007\n",
       "3         Sep-2006\n",
       "4         Mar-1999"
      ]
     },
     "execution_count": 75,
     "metadata": {},
     "output_type": "execute_result"
    }
   ],
   "source": [
    "df[[\"earliest_cr_line\"]].head() #this column need to be dropped"
   ]
  },
  {
   "cell_type": "code",
   "execution_count": 76,
   "id": "6c001eba",
   "metadata": {},
   "outputs": [
    {
     "data": {
      "text/html": [
       "<div>\n",
       "<style scoped>\n",
       "    .dataframe tbody tr th:only-of-type {\n",
       "        vertical-align: middle;\n",
       "    }\n",
       "\n",
       "    .dataframe tbody tr th {\n",
       "        vertical-align: top;\n",
       "    }\n",
       "\n",
       "    .dataframe thead th {\n",
       "        text-align: right;\n",
       "    }\n",
       "</style>\n",
       "<table border=\"1\" class=\"dataframe\">\n",
       "  <thead>\n",
       "    <tr style=\"text-align: right;\">\n",
       "      <th></th>\n",
       "      <th>open_acc</th>\n",
       "    </tr>\n",
       "  </thead>\n",
       "  <tbody>\n",
       "    <tr>\n",
       "      <th>0</th>\n",
       "      <td>16.0</td>\n",
       "    </tr>\n",
       "    <tr>\n",
       "      <th>1</th>\n",
       "      <td>17.0</td>\n",
       "    </tr>\n",
       "    <tr>\n",
       "      <th>2</th>\n",
       "      <td>13.0</td>\n",
       "    </tr>\n",
       "    <tr>\n",
       "      <th>3</th>\n",
       "      <td>6.0</td>\n",
       "    </tr>\n",
       "    <tr>\n",
       "      <th>4</th>\n",
       "      <td>13.0</td>\n",
       "    </tr>\n",
       "  </tbody>\n",
       "</table>\n",
       "</div>"
      ],
      "text/plain": [
       "   open_acc\n",
       "0      16.0\n",
       "1      17.0\n",
       "2      13.0\n",
       "3       6.0\n",
       "4      13.0"
      ]
     },
     "execution_count": 76,
     "metadata": {},
     "output_type": "execute_result"
    }
   ],
   "source": [
    "df[[\"open_acc\"]].head()"
   ]
  },
  {
   "cell_type": "markdown",
   "id": "05531bc5",
   "metadata": {},
   "source": [
    "- <strong>pub_rec :</strong> Number of derogatory public records\n",
    "- <strong>revol_bal :</strong> Total credit revolving balance"
   ]
  },
  {
   "cell_type": "code",
   "execution_count": 77,
   "id": "d664ac39",
   "metadata": {},
   "outputs": [
    {
     "data": {
      "text/plain": [
       "pub_rec\n",
       "0.0        318267\n",
       "1.0         45132\n",
       "2.0          4956\n",
       "3.0          1359\n",
       "4.0           470\n",
       "5.0           210\n",
       "6.0           110\n",
       "7.0            47\n",
       "8.0            31\n",
       "9.0            11\n",
       "10.0           10\n",
       "11.0            5\n",
       "13.0            4\n",
       "12.0            3\n",
       "19.0            2\n",
       "15.0            1\n",
       "17.0            1\n",
       "24.0            1\n",
       "40.0            1\n",
       "86.0            1\n",
       "dtype: int64"
      ]
     },
     "execution_count": 77,
     "metadata": {},
     "output_type": "execute_result"
    }
   ],
   "source": [
    "df[[\"pub_rec\"]].value_counts()"
   ]
  },
  {
   "cell_type": "code",
   "execution_count": 78,
   "id": "3d08c19e",
   "metadata": {},
   "outputs": [
    {
     "data": {
      "text/html": [
       "<div>\n",
       "<style scoped>\n",
       "    .dataframe tbody tr th:only-of-type {\n",
       "        vertical-align: middle;\n",
       "    }\n",
       "\n",
       "    .dataframe tbody tr th {\n",
       "        vertical-align: top;\n",
       "    }\n",
       "\n",
       "    .dataframe thead th {\n",
       "        text-align: right;\n",
       "    }\n",
       "</style>\n",
       "<table border=\"1\" class=\"dataframe\">\n",
       "  <thead>\n",
       "    <tr style=\"text-align: right;\">\n",
       "      <th></th>\n",
       "      <th>revol_bal</th>\n",
       "    </tr>\n",
       "  </thead>\n",
       "  <tbody>\n",
       "    <tr>\n",
       "      <th>0</th>\n",
       "      <td>36369.0</td>\n",
       "    </tr>\n",
       "    <tr>\n",
       "      <th>1</th>\n",
       "      <td>20131.0</td>\n",
       "    </tr>\n",
       "    <tr>\n",
       "      <th>2</th>\n",
       "      <td>11987.0</td>\n",
       "    </tr>\n",
       "    <tr>\n",
       "      <th>3</th>\n",
       "      <td>5472.0</td>\n",
       "    </tr>\n",
       "    <tr>\n",
       "      <th>4</th>\n",
       "      <td>24584.0</td>\n",
       "    </tr>\n",
       "  </tbody>\n",
       "</table>\n",
       "</div>"
      ],
      "text/plain": [
       "   revol_bal\n",
       "0    36369.0\n",
       "1    20131.0\n",
       "2    11987.0\n",
       "3     5472.0\n",
       "4    24584.0"
      ]
     },
     "execution_count": 78,
     "metadata": {},
     "output_type": "execute_result"
    }
   ],
   "source": [
    "df[[\"revol_bal\"]].head()"
   ]
  },
  {
   "cell_type": "markdown",
   "id": "cee66194",
   "metadata": {},
   "source": [
    "- <strong>revol_util :</strong> Revolving line utilization rate, or the amount of credit the borrower is using relative to all available revolving credit.\n",
    "- <strong>total_acc :</strong> The total number of credit lines currently in the borrower's credit file"
   ]
  },
  {
   "cell_type": "code",
   "execution_count": 79,
   "id": "554fa031",
   "metadata": {},
   "outputs": [
    {
     "data": {
      "text/html": [
       "<div>\n",
       "<style scoped>\n",
       "    .dataframe tbody tr th:only-of-type {\n",
       "        vertical-align: middle;\n",
       "    }\n",
       "\n",
       "    .dataframe tbody tr th {\n",
       "        vertical-align: top;\n",
       "    }\n",
       "\n",
       "    .dataframe thead th {\n",
       "        text-align: right;\n",
       "    }\n",
       "</style>\n",
       "<table border=\"1\" class=\"dataframe\">\n",
       "  <thead>\n",
       "    <tr style=\"text-align: right;\">\n",
       "      <th></th>\n",
       "      <th>revol_util</th>\n",
       "    </tr>\n",
       "  </thead>\n",
       "  <tbody>\n",
       "    <tr>\n",
       "      <th>0</th>\n",
       "      <td>41.8</td>\n",
       "    </tr>\n",
       "    <tr>\n",
       "      <th>1</th>\n",
       "      <td>53.3</td>\n",
       "    </tr>\n",
       "    <tr>\n",
       "      <th>2</th>\n",
       "      <td>92.2</td>\n",
       "    </tr>\n",
       "    <tr>\n",
       "      <th>3</th>\n",
       "      <td>21.5</td>\n",
       "    </tr>\n",
       "    <tr>\n",
       "      <th>4</th>\n",
       "      <td>69.8</td>\n",
       "    </tr>\n",
       "  </tbody>\n",
       "</table>\n",
       "</div>"
      ],
      "text/plain": [
       "   revol_util\n",
       "0        41.8\n",
       "1        53.3\n",
       "2        92.2\n",
       "3        21.5\n",
       "4        69.8"
      ]
     },
     "execution_count": 79,
     "metadata": {},
     "output_type": "execute_result"
    }
   ],
   "source": [
    "df[[\"revol_util\"]].head()"
   ]
  },
  {
   "cell_type": "code",
   "execution_count": 80,
   "id": "272a6526",
   "metadata": {},
   "outputs": [
    {
     "data": {
      "text/html": [
       "<div>\n",
       "<style scoped>\n",
       "    .dataframe tbody tr th:only-of-type {\n",
       "        vertical-align: middle;\n",
       "    }\n",
       "\n",
       "    .dataframe tbody tr th {\n",
       "        vertical-align: top;\n",
       "    }\n",
       "\n",
       "    .dataframe thead th {\n",
       "        text-align: right;\n",
       "    }\n",
       "</style>\n",
       "<table border=\"1\" class=\"dataframe\">\n",
       "  <thead>\n",
       "    <tr style=\"text-align: right;\">\n",
       "      <th></th>\n",
       "      <th>total_acc</th>\n",
       "    </tr>\n",
       "  </thead>\n",
       "  <tbody>\n",
       "    <tr>\n",
       "      <th>0</th>\n",
       "      <td>25.0</td>\n",
       "    </tr>\n",
       "    <tr>\n",
       "      <th>1</th>\n",
       "      <td>27.0</td>\n",
       "    </tr>\n",
       "    <tr>\n",
       "      <th>2</th>\n",
       "      <td>26.0</td>\n",
       "    </tr>\n",
       "    <tr>\n",
       "      <th>3</th>\n",
       "      <td>13.0</td>\n",
       "    </tr>\n",
       "    <tr>\n",
       "      <th>4</th>\n",
       "      <td>43.0</td>\n",
       "    </tr>\n",
       "  </tbody>\n",
       "</table>\n",
       "</div>"
      ],
      "text/plain": [
       "   total_acc\n",
       "0       25.0\n",
       "1       27.0\n",
       "2       26.0\n",
       "3       13.0\n",
       "4       43.0"
      ]
     },
     "execution_count": 80,
     "metadata": {},
     "output_type": "execute_result"
    }
   ],
   "source": [
    "df[[\"total_acc\"]].head()"
   ]
  },
  {
   "cell_type": "markdown",
   "id": "09a10f58",
   "metadata": {},
   "source": [
    "- <strong>initial_list_status :</strong> The initial listing status of the loan. Possible values are – W, F\n",
    "- <strong>application_type :</strong> Indicates whether the loan is an individual application or a joint application with two co-borrowers"
   ]
  },
  {
   "cell_type": "code",
   "execution_count": 81,
   "id": "e5d4430f",
   "metadata": {},
   "outputs": [
    {
     "data": {
      "text/plain": [
       "initial_list_status\n",
       "f                      0.599827\n",
       "w                      0.400173\n",
       "dtype: float64"
      ]
     },
     "execution_count": 81,
     "metadata": {},
     "output_type": "execute_result"
    }
   ],
   "source": [
    "df[[\"initial_list_status\"]].value_counts(normalize=True)"
   ]
  },
  {
   "cell_type": "code",
   "execution_count": 82,
   "id": "782887c5",
   "metadata": {},
   "outputs": [],
   "source": [
    "df[\"application_type\"]=df[\"application_type\"].str.lower()"
   ]
  },
  {
   "cell_type": "code",
   "execution_count": 83,
   "id": "26ec20df",
   "metadata": {},
   "outputs": [
    {
     "data": {
      "text/plain": [
       "application_type\n",
       "individual          370066\n",
       "joint                  311\n",
       "direct_pay             245\n",
       "dtype: int64"
      ]
     },
     "execution_count": 83,
     "metadata": {},
     "output_type": "execute_result"
    }
   ],
   "source": [
    "df[[\"application_type\"]].value_counts()"
   ]
  },
  {
   "cell_type": "markdown",
   "id": "a0581cb5",
   "metadata": {},
   "source": [
    "- <strong>mort_acc :</strong> Number of mortgage accounts.\n",
    "- <strong>pub_rec_bankruptcies :</strong> Number of public record bankruptcies\n",
    "- <strong>Address:</strong> Address of the individual"
   ]
  },
  {
   "cell_type": "code",
   "execution_count": 84,
   "id": "7494511c",
   "metadata": {},
   "outputs": [
    {
     "data": {
      "text/plain": [
       "mort_acc    33\n",
       "dtype: int64"
      ]
     },
     "execution_count": 84,
     "metadata": {},
     "output_type": "execute_result"
    }
   ],
   "source": [
    "df[[\"mort_acc\"]].nunique()"
   ]
  },
  {
   "cell_type": "code",
   "execution_count": 85,
   "id": "2c65e58d",
   "metadata": {},
   "outputs": [
    {
     "data": {
      "text/html": [
       "<div>\n",
       "<style scoped>\n",
       "    .dataframe tbody tr th:only-of-type {\n",
       "        vertical-align: middle;\n",
       "    }\n",
       "\n",
       "    .dataframe tbody tr th {\n",
       "        vertical-align: top;\n",
       "    }\n",
       "\n",
       "    .dataframe thead th {\n",
       "        text-align: right;\n",
       "    }\n",
       "</style>\n",
       "<table border=\"1\" class=\"dataframe\">\n",
       "  <thead>\n",
       "    <tr style=\"text-align: right;\">\n",
       "      <th></th>\n",
       "      <th>mort_acc</th>\n",
       "    </tr>\n",
       "  </thead>\n",
       "  <tbody>\n",
       "    <tr>\n",
       "      <th>0</th>\n",
       "      <td>0.0</td>\n",
       "    </tr>\n",
       "    <tr>\n",
       "      <th>1</th>\n",
       "      <td>3.0</td>\n",
       "    </tr>\n",
       "    <tr>\n",
       "      <th>2</th>\n",
       "      <td>0.0</td>\n",
       "    </tr>\n",
       "    <tr>\n",
       "      <th>3</th>\n",
       "      <td>0.0</td>\n",
       "    </tr>\n",
       "    <tr>\n",
       "      <th>4</th>\n",
       "      <td>1.0</td>\n",
       "    </tr>\n",
       "  </tbody>\n",
       "</table>\n",
       "</div>"
      ],
      "text/plain": [
       "   mort_acc\n",
       "0       0.0\n",
       "1       3.0\n",
       "2       0.0\n",
       "3       0.0\n",
       "4       1.0"
      ]
     },
     "execution_count": 85,
     "metadata": {},
     "output_type": "execute_result"
    }
   ],
   "source": [
    "df[[\"mort_acc\"]].head()"
   ]
  },
  {
   "cell_type": "code",
   "execution_count": 86,
   "id": "82a22893",
   "metadata": {},
   "outputs": [
    {
     "data": {
      "text/html": [
       "<div>\n",
       "<style scoped>\n",
       "    .dataframe tbody tr th:only-of-type {\n",
       "        vertical-align: middle;\n",
       "    }\n",
       "\n",
       "    .dataframe tbody tr th {\n",
       "        vertical-align: top;\n",
       "    }\n",
       "\n",
       "    .dataframe thead th {\n",
       "        text-align: right;\n",
       "    }\n",
       "</style>\n",
       "<table border=\"1\" class=\"dataframe\">\n",
       "  <thead>\n",
       "    <tr style=\"text-align: right;\">\n",
       "      <th></th>\n",
       "      <th>mort_acc</th>\n",
       "    </tr>\n",
       "  </thead>\n",
       "  <tbody>\n",
       "    <tr>\n",
       "      <th>370617</th>\n",
       "      <td>0.0</td>\n",
       "    </tr>\n",
       "    <tr>\n",
       "      <th>370618</th>\n",
       "      <td>1.0</td>\n",
       "    </tr>\n",
       "    <tr>\n",
       "      <th>370619</th>\n",
       "      <td>0.0</td>\n",
       "    </tr>\n",
       "    <tr>\n",
       "      <th>370620</th>\n",
       "      <td>5.0</td>\n",
       "    </tr>\n",
       "    <tr>\n",
       "      <th>370621</th>\n",
       "      <td>NaN</td>\n",
       "    </tr>\n",
       "  </tbody>\n",
       "</table>\n",
       "</div>"
      ],
      "text/plain": [
       "        mort_acc\n",
       "370617       0.0\n",
       "370618       1.0\n",
       "370619       0.0\n",
       "370620       5.0\n",
       "370621       NaN"
      ]
     },
     "execution_count": 86,
     "metadata": {},
     "output_type": "execute_result"
    }
   ],
   "source": [
    "df[[\"mort_acc\"]].tail()"
   ]
  },
  {
   "cell_type": "code",
   "execution_count": 87,
   "id": "8a672dd6",
   "metadata": {},
   "outputs": [
    {
     "data": {
      "text/plain": [
       "pub_rec_bankruptcies\n",
       "0.0                     329883\n",
       "1.0                      38599\n",
       "2.0                       1703\n",
       "3.0                        325\n",
       "4.0                         71\n",
       "5.0                         30\n",
       "6.0                          5\n",
       "7.0                          4\n",
       "8.0                          2\n",
       "dtype: int64"
      ]
     },
     "execution_count": 87,
     "metadata": {},
     "output_type": "execute_result"
    }
   ],
   "source": [
    "df[[\"pub_rec_bankruptcies\"]].value_counts()"
   ]
  },
  {
   "cell_type": "code",
   "execution_count": 88,
   "id": "1be3ec57",
   "metadata": {},
   "outputs": [
    {
     "data": {
      "text/html": [
       "<div>\n",
       "<style scoped>\n",
       "    .dataframe tbody tr th:only-of-type {\n",
       "        vertical-align: middle;\n",
       "    }\n",
       "\n",
       "    .dataframe tbody tr th {\n",
       "        vertical-align: top;\n",
       "    }\n",
       "\n",
       "    .dataframe thead th {\n",
       "        text-align: right;\n",
       "    }\n",
       "</style>\n",
       "<table border=\"1\" class=\"dataframe\">\n",
       "  <thead>\n",
       "    <tr style=\"text-align: right;\">\n",
       "      <th></th>\n",
       "      <th>address</th>\n",
       "    </tr>\n",
       "  </thead>\n",
       "  <tbody>\n",
       "    <tr>\n",
       "      <th>0</th>\n",
       "      <td>0174 Michelle Gateway\\r\\nMendozaberg, OK 22690</td>\n",
       "    </tr>\n",
       "    <tr>\n",
       "      <th>1</th>\n",
       "      <td>1076 Carney Fort Apt. 347\\r\\nLoganmouth, SD 05113</td>\n",
       "    </tr>\n",
       "    <tr>\n",
       "      <th>2</th>\n",
       "      <td>87025 Mark Dale Apt. 269\\r\\nNew Sabrina, WV 05113</td>\n",
       "    </tr>\n",
       "    <tr>\n",
       "      <th>3</th>\n",
       "      <td>823 Reid Ford\\r\\nDelacruzside, MA 00813</td>\n",
       "    </tr>\n",
       "    <tr>\n",
       "      <th>4</th>\n",
       "      <td>679 Luna Roads\\r\\nGreggshire, VA 11650</td>\n",
       "    </tr>\n",
       "  </tbody>\n",
       "</table>\n",
       "</div>"
      ],
      "text/plain": [
       "                                             address\n",
       "0     0174 Michelle Gateway\\r\\nMendozaberg, OK 22690\n",
       "1  1076 Carney Fort Apt. 347\\r\\nLoganmouth, SD 05113\n",
       "2  87025 Mark Dale Apt. 269\\r\\nNew Sabrina, WV 05113\n",
       "3            823 Reid Ford\\r\\nDelacruzside, MA 00813\n",
       "4             679 Luna Roads\\r\\nGreggshire, VA 11650"
      ]
     },
     "execution_count": 88,
     "metadata": {},
     "output_type": "execute_result"
    }
   ],
   "source": [
    "df[[\"address\"]].head()"
   ]
  },
  {
   "cell_type": "code",
   "execution_count": 89,
   "id": "f26a3e81",
   "metadata": {},
   "outputs": [],
   "source": [
    "df[\"address\"]=df[\"address\"].str.extract(\"(\\w{2}\\s\\d{5})\")[0].str.extract(\"(^\\w{2})\")"
   ]
  },
  {
   "cell_type": "code",
   "execution_count": 90,
   "id": "838f870e",
   "metadata": {},
   "outputs": [
    {
     "data": {
      "text/html": [
       "<div>\n",
       "<style scoped>\n",
       "    .dataframe tbody tr th:only-of-type {\n",
       "        vertical-align: middle;\n",
       "    }\n",
       "\n",
       "    .dataframe tbody tr th {\n",
       "        vertical-align: top;\n",
       "    }\n",
       "\n",
       "    .dataframe thead th {\n",
       "        text-align: right;\n",
       "    }\n",
       "</style>\n",
       "<table border=\"1\" class=\"dataframe\">\n",
       "  <thead>\n",
       "    <tr style=\"text-align: right;\">\n",
       "      <th></th>\n",
       "      <th>address</th>\n",
       "    </tr>\n",
       "  </thead>\n",
       "  <tbody>\n",
       "    <tr>\n",
       "      <th>0</th>\n",
       "      <td>OK</td>\n",
       "    </tr>\n",
       "    <tr>\n",
       "      <th>1</th>\n",
       "      <td>SD</td>\n",
       "    </tr>\n",
       "    <tr>\n",
       "      <th>2</th>\n",
       "      <td>WV</td>\n",
       "    </tr>\n",
       "    <tr>\n",
       "      <th>3</th>\n",
       "      <td>MA</td>\n",
       "    </tr>\n",
       "    <tr>\n",
       "      <th>4</th>\n",
       "      <td>VA</td>\n",
       "    </tr>\n",
       "  </tbody>\n",
       "</table>\n",
       "</div>"
      ],
      "text/plain": [
       "  address\n",
       "0      OK\n",
       "1      SD\n",
       "2      WV\n",
       "3      MA\n",
       "4      VA"
      ]
     },
     "execution_count": 90,
     "metadata": {},
     "output_type": "execute_result"
    }
   ],
   "source": [
    "df[[\"address\"]].head()"
   ]
  },
  {
   "cell_type": "code",
   "execution_count": 91,
   "id": "d8e9fcf5",
   "metadata": {},
   "outputs": [
    {
     "data": {
      "text/plain": [
       "address    object\n",
       "dtype: object"
      ]
     },
     "execution_count": 91,
     "metadata": {},
     "output_type": "execute_result"
    }
   ],
   "source": [
    "df[[\"address\"]].dtypes"
   ]
  },
  {
   "cell_type": "code",
   "execution_count": 92,
   "id": "70f2c624",
   "metadata": {},
   "outputs": [
    {
     "data": {
      "text/plain": [
       "54"
      ]
     },
     "execution_count": 92,
     "metadata": {},
     "output_type": "execute_result"
    }
   ],
   "source": [
    "df[\"address\"].nunique()"
   ]
  },
  {
   "cell_type": "code",
   "execution_count": 93,
   "id": "8d1f558d",
   "metadata": {},
   "outputs": [
    {
     "data": {
      "text/plain": [
       "array(['OK', 'SD', 'WV', 'MA', 'VA', 'DE', 'TX', 'AE', 'AP', 'NM', 'MS',\n",
       "       'OR', 'NH', 'HI', 'PA', 'CO', 'AL', 'FL', 'AZ', 'WI', 'NC', 'IN',\n",
       "       'MO', 'AA', 'KS', 'CT', 'WY', 'NE', 'RI', 'AR', 'MI', 'LA', 'NY',\n",
       "       'ND', 'IA', 'AK', 'UT', 'MD', 'IL', 'WA', 'MN', 'OH', 'MT', 'NJ',\n",
       "       'TN', 'DC', 'NV', 'VT', 'CA', 'ME', 'ID', 'GA', 'KY', 'SC'],\n",
       "      dtype=object)"
      ]
     },
     "execution_count": 93,
     "metadata": {},
     "output_type": "execute_result"
    }
   ],
   "source": [
    "df[\"address\"].unique()"
   ]
  },
  {
   "cell_type": "markdown",
   "id": "2fd3084a",
   "metadata": {},
   "source": [
    "### columns which need to be dropped"
   ]
  },
  {
   "cell_type": "markdown",
   "id": "3a9fbaf0",
   "metadata": {},
   "source": [
    "- <strike><strong>emp_title :</strong>The job title supplied by the Borrower when applying for the loan.</strike>\n",
    "- <strike><strong>issue_d :</strong> The month which the loan was funded</strike>\n",
    "- <strike><strong>title :</strong> The loan title provided by the borrower</strike>\n",
    "- <strike><strong>earliest_cr_line :</strong>The month the borrower's earliest reported credit line was opened</strike>"
   ]
  },
  {
   "cell_type": "code",
   "execution_count": 94,
   "id": "1ccb226a",
   "metadata": {},
   "outputs": [
    {
     "data": {
      "text/html": [
       "<div>\n",
       "<style scoped>\n",
       "    .dataframe tbody tr th:only-of-type {\n",
       "        vertical-align: middle;\n",
       "    }\n",
       "\n",
       "    .dataframe tbody tr th {\n",
       "        vertical-align: top;\n",
       "    }\n",
       "\n",
       "    .dataframe thead th {\n",
       "        text-align: right;\n",
       "    }\n",
       "</style>\n",
       "<table border=\"1\" class=\"dataframe\">\n",
       "  <thead>\n",
       "    <tr style=\"text-align: right;\">\n",
       "      <th></th>\n",
       "      <th>loan_amnt</th>\n",
       "      <th>term</th>\n",
       "      <th>int_rate</th>\n",
       "      <th>installment</th>\n",
       "      <th>grade</th>\n",
       "      <th>sub_grade</th>\n",
       "      <th>emp_length</th>\n",
       "      <th>home_ownership</th>\n",
       "      <th>annual_inc</th>\n",
       "      <th>verification_status</th>\n",
       "      <th>...</th>\n",
       "      <th>open_acc</th>\n",
       "      <th>pub_rec</th>\n",
       "      <th>revol_bal</th>\n",
       "      <th>revol_util</th>\n",
       "      <th>total_acc</th>\n",
       "      <th>initial_list_status</th>\n",
       "      <th>application_type</th>\n",
       "      <th>mort_acc</th>\n",
       "      <th>pub_rec_bankruptcies</th>\n",
       "      <th>address</th>\n",
       "    </tr>\n",
       "  </thead>\n",
       "  <tbody>\n",
       "    <tr>\n",
       "      <th>0</th>\n",
       "      <td>10000.0</td>\n",
       "      <td>36.0</td>\n",
       "      <td>11.44</td>\n",
       "      <td>329.48</td>\n",
       "      <td>b</td>\n",
       "      <td>4.0</td>\n",
       "      <td>10.0</td>\n",
       "      <td>rent</td>\n",
       "      <td>117000.0</td>\n",
       "      <td>not_verified</td>\n",
       "      <td>...</td>\n",
       "      <td>16.0</td>\n",
       "      <td>0.0</td>\n",
       "      <td>36369.0</td>\n",
       "      <td>41.8</td>\n",
       "      <td>25.0</td>\n",
       "      <td>w</td>\n",
       "      <td>individual</td>\n",
       "      <td>0.0</td>\n",
       "      <td>0.0</td>\n",
       "      <td>OK</td>\n",
       "    </tr>\n",
       "    <tr>\n",
       "      <th>1</th>\n",
       "      <td>8000.0</td>\n",
       "      <td>36.0</td>\n",
       "      <td>11.99</td>\n",
       "      <td>265.68</td>\n",
       "      <td>b</td>\n",
       "      <td>5.0</td>\n",
       "      <td>4.0</td>\n",
       "      <td>mortgage</td>\n",
       "      <td>65000.0</td>\n",
       "      <td>not_verified</td>\n",
       "      <td>...</td>\n",
       "      <td>17.0</td>\n",
       "      <td>0.0</td>\n",
       "      <td>20131.0</td>\n",
       "      <td>53.3</td>\n",
       "      <td>27.0</td>\n",
       "      <td>f</td>\n",
       "      <td>individual</td>\n",
       "      <td>3.0</td>\n",
       "      <td>0.0</td>\n",
       "      <td>SD</td>\n",
       "    </tr>\n",
       "    <tr>\n",
       "      <th>2</th>\n",
       "      <td>15600.0</td>\n",
       "      <td>36.0</td>\n",
       "      <td>10.49</td>\n",
       "      <td>506.97</td>\n",
       "      <td>b</td>\n",
       "      <td>3.0</td>\n",
       "      <td>1.0</td>\n",
       "      <td>rent</td>\n",
       "      <td>43057.0</td>\n",
       "      <td>source_verified</td>\n",
       "      <td>...</td>\n",
       "      <td>13.0</td>\n",
       "      <td>0.0</td>\n",
       "      <td>11987.0</td>\n",
       "      <td>92.2</td>\n",
       "      <td>26.0</td>\n",
       "      <td>f</td>\n",
       "      <td>individual</td>\n",
       "      <td>0.0</td>\n",
       "      <td>0.0</td>\n",
       "      <td>WV</td>\n",
       "    </tr>\n",
       "    <tr>\n",
       "      <th>3</th>\n",
       "      <td>7200.0</td>\n",
       "      <td>36.0</td>\n",
       "      <td>6.49</td>\n",
       "      <td>220.65</td>\n",
       "      <td>a</td>\n",
       "      <td>2.0</td>\n",
       "      <td>6.0</td>\n",
       "      <td>rent</td>\n",
       "      <td>54000.0</td>\n",
       "      <td>not_verified</td>\n",
       "      <td>...</td>\n",
       "      <td>6.0</td>\n",
       "      <td>0.0</td>\n",
       "      <td>5472.0</td>\n",
       "      <td>21.5</td>\n",
       "      <td>13.0</td>\n",
       "      <td>f</td>\n",
       "      <td>individual</td>\n",
       "      <td>0.0</td>\n",
       "      <td>0.0</td>\n",
       "      <td>MA</td>\n",
       "    </tr>\n",
       "    <tr>\n",
       "      <th>4</th>\n",
       "      <td>24375.0</td>\n",
       "      <td>60.0</td>\n",
       "      <td>17.27</td>\n",
       "      <td>609.33</td>\n",
       "      <td>c</td>\n",
       "      <td>5.0</td>\n",
       "      <td>9.0</td>\n",
       "      <td>mortgage</td>\n",
       "      <td>55000.0</td>\n",
       "      <td>verified</td>\n",
       "      <td>...</td>\n",
       "      <td>13.0</td>\n",
       "      <td>0.0</td>\n",
       "      <td>24584.0</td>\n",
       "      <td>69.8</td>\n",
       "      <td>43.0</td>\n",
       "      <td>f</td>\n",
       "      <td>individual</td>\n",
       "      <td>1.0</td>\n",
       "      <td>0.0</td>\n",
       "      <td>VA</td>\n",
       "    </tr>\n",
       "    <tr>\n",
       "      <th>...</th>\n",
       "      <td>...</td>\n",
       "      <td>...</td>\n",
       "      <td>...</td>\n",
       "      <td>...</td>\n",
       "      <td>...</td>\n",
       "      <td>...</td>\n",
       "      <td>...</td>\n",
       "      <td>...</td>\n",
       "      <td>...</td>\n",
       "      <td>...</td>\n",
       "      <td>...</td>\n",
       "      <td>...</td>\n",
       "      <td>...</td>\n",
       "      <td>...</td>\n",
       "      <td>...</td>\n",
       "      <td>...</td>\n",
       "      <td>...</td>\n",
       "      <td>...</td>\n",
       "      <td>...</td>\n",
       "      <td>...</td>\n",
       "      <td>...</td>\n",
       "    </tr>\n",
       "    <tr>\n",
       "      <th>370617</th>\n",
       "      <td>10000.0</td>\n",
       "      <td>60.0</td>\n",
       "      <td>10.99</td>\n",
       "      <td>217.38</td>\n",
       "      <td>b</td>\n",
       "      <td>4.0</td>\n",
       "      <td>2.0</td>\n",
       "      <td>rent</td>\n",
       "      <td>40000.0</td>\n",
       "      <td>source_verified</td>\n",
       "      <td>...</td>\n",
       "      <td>6.0</td>\n",
       "      <td>0.0</td>\n",
       "      <td>1990.0</td>\n",
       "      <td>34.3</td>\n",
       "      <td>23.0</td>\n",
       "      <td>w</td>\n",
       "      <td>individual</td>\n",
       "      <td>0.0</td>\n",
       "      <td>0.0</td>\n",
       "      <td>DC</td>\n",
       "    </tr>\n",
       "    <tr>\n",
       "      <th>370618</th>\n",
       "      <td>21000.0</td>\n",
       "      <td>36.0</td>\n",
       "      <td>12.29</td>\n",
       "      <td>700.42</td>\n",
       "      <td>c</td>\n",
       "      <td>1.0</td>\n",
       "      <td>5.0</td>\n",
       "      <td>mortgage</td>\n",
       "      <td>110000.0</td>\n",
       "      <td>source_verified</td>\n",
       "      <td>...</td>\n",
       "      <td>6.0</td>\n",
       "      <td>0.0</td>\n",
       "      <td>43263.0</td>\n",
       "      <td>95.7</td>\n",
       "      <td>8.0</td>\n",
       "      <td>f</td>\n",
       "      <td>individual</td>\n",
       "      <td>1.0</td>\n",
       "      <td>0.0</td>\n",
       "      <td>LA</td>\n",
       "    </tr>\n",
       "    <tr>\n",
       "      <th>370619</th>\n",
       "      <td>5000.0</td>\n",
       "      <td>36.0</td>\n",
       "      <td>9.99</td>\n",
       "      <td>161.32</td>\n",
       "      <td>b</td>\n",
       "      <td>1.0</td>\n",
       "      <td>10.0</td>\n",
       "      <td>rent</td>\n",
       "      <td>56500.0</td>\n",
       "      <td>verified</td>\n",
       "      <td>...</td>\n",
       "      <td>15.0</td>\n",
       "      <td>0.0</td>\n",
       "      <td>32704.0</td>\n",
       "      <td>66.9</td>\n",
       "      <td>23.0</td>\n",
       "      <td>f</td>\n",
       "      <td>individual</td>\n",
       "      <td>0.0</td>\n",
       "      <td>0.0</td>\n",
       "      <td>NY</td>\n",
       "    </tr>\n",
       "    <tr>\n",
       "      <th>370620</th>\n",
       "      <td>21000.0</td>\n",
       "      <td>60.0</td>\n",
       "      <td>15.31</td>\n",
       "      <td>503.02</td>\n",
       "      <td>c</td>\n",
       "      <td>2.0</td>\n",
       "      <td>10.0</td>\n",
       "      <td>mortgage</td>\n",
       "      <td>64000.0</td>\n",
       "      <td>verified</td>\n",
       "      <td>...</td>\n",
       "      <td>9.0</td>\n",
       "      <td>0.0</td>\n",
       "      <td>15704.0</td>\n",
       "      <td>53.8</td>\n",
       "      <td>20.0</td>\n",
       "      <td>f</td>\n",
       "      <td>individual</td>\n",
       "      <td>5.0</td>\n",
       "      <td>0.0</td>\n",
       "      <td>FL</td>\n",
       "    </tr>\n",
       "    <tr>\n",
       "      <th>370621</th>\n",
       "      <td>2000.0</td>\n",
       "      <td>36.0</td>\n",
       "      <td>13.61</td>\n",
       "      <td>67.98</td>\n",
       "      <td>c</td>\n",
       "      <td>2.0</td>\n",
       "      <td>10.0</td>\n",
       "      <td>rent</td>\n",
       "      <td>42996.0</td>\n",
       "      <td>verified</td>\n",
       "      <td>...</td>\n",
       "      <td>3.0</td>\n",
       "      <td>0.0</td>\n",
       "      <td>4292.0</td>\n",
       "      <td>91.3</td>\n",
       "      <td>19.0</td>\n",
       "      <td>f</td>\n",
       "      <td>individual</td>\n",
       "      <td>NaN</td>\n",
       "      <td>0.0</td>\n",
       "      <td>AR</td>\n",
       "    </tr>\n",
       "  </tbody>\n",
       "</table>\n",
       "<p>370622 rows × 23 columns</p>\n",
       "</div>"
      ],
      "text/plain": [
       "        loan_amnt  term  int_rate  installment grade  sub_grade  emp_length  \\\n",
       "0         10000.0  36.0     11.44       329.48     b        4.0        10.0   \n",
       "1          8000.0  36.0     11.99       265.68     b        5.0         4.0   \n",
       "2         15600.0  36.0     10.49       506.97     b        3.0         1.0   \n",
       "3          7200.0  36.0      6.49       220.65     a        2.0         6.0   \n",
       "4         24375.0  60.0     17.27       609.33     c        5.0         9.0   \n",
       "...           ...   ...       ...          ...   ...        ...         ...   \n",
       "370617    10000.0  60.0     10.99       217.38     b        4.0         2.0   \n",
       "370618    21000.0  36.0     12.29       700.42     c        1.0         5.0   \n",
       "370619     5000.0  36.0      9.99       161.32     b        1.0        10.0   \n",
       "370620    21000.0  60.0     15.31       503.02     c        2.0        10.0   \n",
       "370621     2000.0  36.0     13.61        67.98     c        2.0        10.0   \n",
       "\n",
       "       home_ownership  annual_inc verification_status  ... open_acc pub_rec  \\\n",
       "0                rent    117000.0        not_verified  ...     16.0     0.0   \n",
       "1            mortgage     65000.0        not_verified  ...     17.0     0.0   \n",
       "2                rent     43057.0     source_verified  ...     13.0     0.0   \n",
       "3                rent     54000.0        not_verified  ...      6.0     0.0   \n",
       "4            mortgage     55000.0            verified  ...     13.0     0.0   \n",
       "...               ...         ...                 ...  ...      ...     ...   \n",
       "370617           rent     40000.0     source_verified  ...      6.0     0.0   \n",
       "370618       mortgage    110000.0     source_verified  ...      6.0     0.0   \n",
       "370619           rent     56500.0            verified  ...     15.0     0.0   \n",
       "370620       mortgage     64000.0            verified  ...      9.0     0.0   \n",
       "370621           rent     42996.0            verified  ...      3.0     0.0   \n",
       "\n",
       "        revol_bal  revol_util  total_acc  initial_list_status  \\\n",
       "0         36369.0        41.8       25.0                    w   \n",
       "1         20131.0        53.3       27.0                    f   \n",
       "2         11987.0        92.2       26.0                    f   \n",
       "3          5472.0        21.5       13.0                    f   \n",
       "4         24584.0        69.8       43.0                    f   \n",
       "...           ...         ...        ...                  ...   \n",
       "370617     1990.0        34.3       23.0                    w   \n",
       "370618    43263.0        95.7        8.0                    f   \n",
       "370619    32704.0        66.9       23.0                    f   \n",
       "370620    15704.0        53.8       20.0                    f   \n",
       "370621     4292.0        91.3       19.0                    f   \n",
       "\n",
       "        application_type  mort_acc pub_rec_bankruptcies address  \n",
       "0             individual       0.0                  0.0      OK  \n",
       "1             individual       3.0                  0.0      SD  \n",
       "2             individual       0.0                  0.0      WV  \n",
       "3             individual       0.0                  0.0      MA  \n",
       "4             individual       1.0                  0.0      VA  \n",
       "...                  ...       ...                  ...     ...  \n",
       "370617        individual       0.0                  0.0      DC  \n",
       "370618        individual       1.0                  0.0      LA  \n",
       "370619        individual       0.0                  0.0      NY  \n",
       "370620        individual       5.0                  0.0      FL  \n",
       "370621        individual       NaN                  0.0      AR  \n",
       "\n",
       "[370622 rows x 23 columns]"
      ]
     },
     "execution_count": 94,
     "metadata": {},
     "output_type": "execute_result"
    }
   ],
   "source": [
    "df.drop(columns=[\"emp_title\",\"issue_d\",\"title\",\"earliest_cr_line\"], inplace=False)"
   ]
  },
  {
   "cell_type": "code",
   "execution_count": 95,
   "id": "d66a9120",
   "metadata": {},
   "outputs": [],
   "source": [
    "df_bkp1 = df #backup till this point"
   ]
  },
  {
   "cell_type": "code",
   "execution_count": 96,
   "id": "491002ab",
   "metadata": {},
   "outputs": [],
   "source": [
    "df = df_bkp1.drop(columns=[\"emp_title\",\"issue_d\",\"title\",\"earliest_cr_line\"], inplace=False)"
   ]
  },
  {
   "cell_type": "code",
   "execution_count": 97,
   "id": "2e7763e9",
   "metadata": {},
   "outputs": [
    {
     "name": "stdout",
     "output_type": "stream",
     "text": [
      "<class 'pandas.core.frame.DataFrame'>\n",
      "RangeIndex: 370622 entries, 0 to 370621\n",
      "Data columns (total 23 columns):\n",
      " #   Column                Non-Null Count   Dtype  \n",
      "---  ------                --------------   -----  \n",
      " 0   loan_amnt             370622 non-null  float64\n",
      " 1   term                  370622 non-null  float64\n",
      " 2   int_rate              370622 non-null  float64\n",
      " 3   installment           370622 non-null  float64\n",
      " 4   grade                 370622 non-null  object \n",
      " 5   sub_grade             370622 non-null  float64\n",
      " 6   emp_length            370622 non-null  float64\n",
      " 7   home_ownership        370622 non-null  object \n",
      " 8   annual_inc            370622 non-null  float64\n",
      " 9   verification_status   370622 non-null  object \n",
      " 10  loan_status           370622 non-null  object \n",
      " 11  purpose               370622 non-null  object \n",
      " 12  dti                   370622 non-null  float64\n",
      " 13  open_acc              370622 non-null  float64\n",
      " 14  pub_rec               370622 non-null  float64\n",
      " 15  revol_bal             370622 non-null  float64\n",
      " 16  revol_util            370622 non-null  float64\n",
      " 17  total_acc             370622 non-null  float64\n",
      " 18  initial_list_status   370622 non-null  object \n",
      " 19  application_type      370622 non-null  object \n",
      " 20  mort_acc              335868 non-null  float64\n",
      " 21  pub_rec_bankruptcies  370622 non-null  float64\n",
      " 22  address               370622 non-null  object \n",
      "dtypes: float64(15), object(8)\n",
      "memory usage: 65.0+ MB\n"
     ]
    }
   ],
   "source": [
    "df.info()"
   ]
  },
  {
   "cell_type": "markdown",
   "id": "d02f9e2c",
   "metadata": {},
   "source": [
    "# (E) Features Analysis"
   ]
  },
  {
   "cell_type": "code",
   "execution_count": 98,
   "id": "1c0891d7",
   "metadata": {},
   "outputs": [
    {
     "data": {
      "text/plain": [
       "Index(['loan_amnt', 'term', 'int_rate', 'installment', 'sub_grade',\n",
       "       'emp_length', 'annual_inc', 'dti', 'open_acc', 'pub_rec', 'revol_bal',\n",
       "       'revol_util', 'total_acc', 'mort_acc', 'pub_rec_bankruptcies'],\n",
       "      dtype='object')"
      ]
     },
     "execution_count": 98,
     "metadata": {},
     "output_type": "execute_result"
    }
   ],
   "source": [
    "df.columns[df.dtypes==\"float64\"]"
   ]
  },
  {
   "cell_type": "code",
   "execution_count": 99,
   "id": "d428d45e",
   "metadata": {},
   "outputs": [
    {
     "data": {
      "text/html": [
       "<div>\n",
       "<style scoped>\n",
       "    .dataframe tbody tr th:only-of-type {\n",
       "        vertical-align: middle;\n",
       "    }\n",
       "\n",
       "    .dataframe tbody tr th {\n",
       "        vertical-align: top;\n",
       "    }\n",
       "\n",
       "    .dataframe thead th {\n",
       "        text-align: right;\n",
       "    }\n",
       "</style>\n",
       "<table border=\"1\" class=\"dataframe\">\n",
       "  <thead>\n",
       "    <tr style=\"text-align: right;\">\n",
       "      <th></th>\n",
       "      <th>count</th>\n",
       "      <th>mean</th>\n",
       "      <th>std</th>\n",
       "      <th>min</th>\n",
       "      <th>25%</th>\n",
       "      <th>50%</th>\n",
       "      <th>75%</th>\n",
       "      <th>max</th>\n",
       "    </tr>\n",
       "  </thead>\n",
       "  <tbody>\n",
       "    <tr>\n",
       "      <th>loan_amnt</th>\n",
       "      <td>370622.0</td>\n",
       "      <td>14250.170322</td>\n",
       "      <td>8357.778271</td>\n",
       "      <td>500.00</td>\n",
       "      <td>8000.00</td>\n",
       "      <td>12000.00</td>\n",
       "      <td>20000.00</td>\n",
       "      <td>40000.00</td>\n",
       "    </tr>\n",
       "    <tr>\n",
       "      <th>term</th>\n",
       "      <td>370622.0</td>\n",
       "      <td>41.836912</td>\n",
       "      <td>10.296438</td>\n",
       "      <td>36.00</td>\n",
       "      <td>36.00</td>\n",
       "      <td>36.00</td>\n",
       "      <td>36.00</td>\n",
       "      <td>60.00</td>\n",
       "    </tr>\n",
       "    <tr>\n",
       "      <th>int_rate</th>\n",
       "      <td>370622.0</td>\n",
       "      <td>13.637453</td>\n",
       "      <td>4.471630</td>\n",
       "      <td>5.32</td>\n",
       "      <td>10.49</td>\n",
       "      <td>13.33</td>\n",
       "      <td>16.49</td>\n",
       "      <td>30.99</td>\n",
       "    </tr>\n",
       "    <tr>\n",
       "      <th>installment</th>\n",
       "      <td>370622.0</td>\n",
       "      <td>435.217906</td>\n",
       "      <td>250.358669</td>\n",
       "      <td>16.08</td>\n",
       "      <td>254.17</td>\n",
       "      <td>379.19</td>\n",
       "      <td>571.56</td>\n",
       "      <td>1533.81</td>\n",
       "    </tr>\n",
       "    <tr>\n",
       "      <th>sub_grade</th>\n",
       "      <td>370622.0</td>\n",
       "      <td>2.972587</td>\n",
       "      <td>1.406755</td>\n",
       "      <td>1.00</td>\n",
       "      <td>2.00</td>\n",
       "      <td>3.00</td>\n",
       "      <td>4.00</td>\n",
       "      <td>5.00</td>\n",
       "    </tr>\n",
       "    <tr>\n",
       "      <th>emp_length</th>\n",
       "      <td>370622.0</td>\n",
       "      <td>6.018545</td>\n",
       "      <td>3.516745</td>\n",
       "      <td>1.00</td>\n",
       "      <td>3.00</td>\n",
       "      <td>6.00</td>\n",
       "      <td>10.00</td>\n",
       "      <td>10.00</td>\n",
       "    </tr>\n",
       "    <tr>\n",
       "      <th>annual_inc</th>\n",
       "      <td>370622.0</td>\n",
       "      <td>75187.979404</td>\n",
       "      <td>62090.207381</td>\n",
       "      <td>4000.00</td>\n",
       "      <td>46000.00</td>\n",
       "      <td>65000.00</td>\n",
       "      <td>90000.00</td>\n",
       "      <td>8706582.00</td>\n",
       "    </tr>\n",
       "    <tr>\n",
       "      <th>dti</th>\n",
       "      <td>370622.0</td>\n",
       "      <td>17.337353</td>\n",
       "      <td>8.103810</td>\n",
       "      <td>0.00</td>\n",
       "      <td>11.32</td>\n",
       "      <td>16.90</td>\n",
       "      <td>22.93</td>\n",
       "      <td>380.53</td>\n",
       "    </tr>\n",
       "    <tr>\n",
       "      <th>open_acc</th>\n",
       "      <td>370622.0</td>\n",
       "      <td>11.393325</td>\n",
       "      <td>5.146307</td>\n",
       "      <td>1.00</td>\n",
       "      <td>8.00</td>\n",
       "      <td>11.00</td>\n",
       "      <td>14.00</td>\n",
       "      <td>90.00</td>\n",
       "    </tr>\n",
       "    <tr>\n",
       "      <th>pub_rec</th>\n",
       "      <td>370622.0</td>\n",
       "      <td>0.172278</td>\n",
       "      <td>0.523620</td>\n",
       "      <td>0.00</td>\n",
       "      <td>0.00</td>\n",
       "      <td>0.00</td>\n",
       "      <td>0.00</td>\n",
       "      <td>86.00</td>\n",
       "    </tr>\n",
       "    <tr>\n",
       "      <th>revol_bal</th>\n",
       "      <td>370622.0</td>\n",
       "      <td>15950.665039</td>\n",
       "      <td>20538.921831</td>\n",
       "      <td>0.00</td>\n",
       "      <td>6115.00</td>\n",
       "      <td>11303.00</td>\n",
       "      <td>19767.00</td>\n",
       "      <td>1743266.00</td>\n",
       "    </tr>\n",
       "    <tr>\n",
       "      <th>revol_util</th>\n",
       "      <td>370622.0</td>\n",
       "      <td>53.991268</td>\n",
       "      <td>24.389994</td>\n",
       "      <td>0.00</td>\n",
       "      <td>36.10</td>\n",
       "      <td>55.00</td>\n",
       "      <td>73.00</td>\n",
       "      <td>892.30</td>\n",
       "    </tr>\n",
       "    <tr>\n",
       "      <th>total_acc</th>\n",
       "      <td>370622.0</td>\n",
       "      <td>25.518464</td>\n",
       "      <td>11.886711</td>\n",
       "      <td>2.00</td>\n",
       "      <td>17.00</td>\n",
       "      <td>24.00</td>\n",
       "      <td>32.00</td>\n",
       "      <td>151.00</td>\n",
       "    </tr>\n",
       "    <tr>\n",
       "      <th>mort_acc</th>\n",
       "      <td>335868.0</td>\n",
       "      <td>1.802699</td>\n",
       "      <td>2.139647</td>\n",
       "      <td>0.00</td>\n",
       "      <td>0.00</td>\n",
       "      <td>1.00</td>\n",
       "      <td>3.00</td>\n",
       "      <td>34.00</td>\n",
       "    </tr>\n",
       "    <tr>\n",
       "      <th>pub_rec_bankruptcies</th>\n",
       "      <td>370622.0</td>\n",
       "      <td>0.117338</td>\n",
       "      <td>0.350855</td>\n",
       "      <td>0.00</td>\n",
       "      <td>0.00</td>\n",
       "      <td>0.00</td>\n",
       "      <td>0.00</td>\n",
       "      <td>8.00</td>\n",
       "    </tr>\n",
       "  </tbody>\n",
       "</table>\n",
       "</div>"
      ],
      "text/plain": [
       "                         count          mean           std      min       25%  \\\n",
       "loan_amnt             370622.0  14250.170322   8357.778271   500.00   8000.00   \n",
       "term                  370622.0     41.836912     10.296438    36.00     36.00   \n",
       "int_rate              370622.0     13.637453      4.471630     5.32     10.49   \n",
       "installment           370622.0    435.217906    250.358669    16.08    254.17   \n",
       "sub_grade             370622.0      2.972587      1.406755     1.00      2.00   \n",
       "emp_length            370622.0      6.018545      3.516745     1.00      3.00   \n",
       "annual_inc            370622.0  75187.979404  62090.207381  4000.00  46000.00   \n",
       "dti                   370622.0     17.337353      8.103810     0.00     11.32   \n",
       "open_acc              370622.0     11.393325      5.146307     1.00      8.00   \n",
       "pub_rec               370622.0      0.172278      0.523620     0.00      0.00   \n",
       "revol_bal             370622.0  15950.665039  20538.921831     0.00   6115.00   \n",
       "revol_util            370622.0     53.991268     24.389994     0.00     36.10   \n",
       "total_acc             370622.0     25.518464     11.886711     2.00     17.00   \n",
       "mort_acc              335868.0      1.802699      2.139647     0.00      0.00   \n",
       "pub_rec_bankruptcies  370622.0      0.117338      0.350855     0.00      0.00   \n",
       "\n",
       "                           50%       75%         max  \n",
       "loan_amnt             12000.00  20000.00    40000.00  \n",
       "term                     36.00     36.00       60.00  \n",
       "int_rate                 13.33     16.49       30.99  \n",
       "installment             379.19    571.56     1533.81  \n",
       "sub_grade                 3.00      4.00        5.00  \n",
       "emp_length                6.00     10.00       10.00  \n",
       "annual_inc            65000.00  90000.00  8706582.00  \n",
       "dti                      16.90     22.93      380.53  \n",
       "open_acc                 11.00     14.00       90.00  \n",
       "pub_rec                   0.00      0.00       86.00  \n",
       "revol_bal             11303.00  19767.00  1743266.00  \n",
       "revol_util               55.00     73.00      892.30  \n",
       "total_acc                24.00     32.00      151.00  \n",
       "mort_acc                  1.00      3.00       34.00  \n",
       "pub_rec_bankruptcies      0.00      0.00        8.00  "
      ]
     },
     "execution_count": 99,
     "metadata": {},
     "output_type": "execute_result"
    }
   ],
   "source": [
    "df.describe().T"
   ]
  },
  {
   "cell_type": "code",
   "execution_count": 100,
   "id": "13141f00",
   "metadata": {},
   "outputs": [
    {
     "data": {
      "text/html": [
       "<div>\n",
       "<style scoped>\n",
       "    .dataframe tbody tr th:only-of-type {\n",
       "        vertical-align: middle;\n",
       "    }\n",
       "\n",
       "    .dataframe tbody tr th {\n",
       "        vertical-align: top;\n",
       "    }\n",
       "\n",
       "    .dataframe thead th {\n",
       "        text-align: right;\n",
       "    }\n",
       "</style>\n",
       "<table border=\"1\" class=\"dataframe\">\n",
       "  <thead>\n",
       "    <tr style=\"text-align: right;\">\n",
       "      <th></th>\n",
       "      <th>mean-median</th>\n",
       "    </tr>\n",
       "  </thead>\n",
       "  <tbody>\n",
       "    <tr>\n",
       "      <th>loan_amnt</th>\n",
       "      <td>2250.170322</td>\n",
       "    </tr>\n",
       "    <tr>\n",
       "      <th>term</th>\n",
       "      <td>5.836912</td>\n",
       "    </tr>\n",
       "    <tr>\n",
       "      <th>int_rate</th>\n",
       "      <td>0.307453</td>\n",
       "    </tr>\n",
       "    <tr>\n",
       "      <th>installment</th>\n",
       "      <td>56.027906</td>\n",
       "    </tr>\n",
       "    <tr>\n",
       "      <th>sub_grade</th>\n",
       "      <td>-0.027413</td>\n",
       "    </tr>\n",
       "    <tr>\n",
       "      <th>emp_length</th>\n",
       "      <td>0.018545</td>\n",
       "    </tr>\n",
       "    <tr>\n",
       "      <th>annual_inc</th>\n",
       "      <td>10187.979404</td>\n",
       "    </tr>\n",
       "    <tr>\n",
       "      <th>dti</th>\n",
       "      <td>0.437353</td>\n",
       "    </tr>\n",
       "    <tr>\n",
       "      <th>open_acc</th>\n",
       "      <td>0.393325</td>\n",
       "    </tr>\n",
       "    <tr>\n",
       "      <th>pub_rec</th>\n",
       "      <td>0.172278</td>\n",
       "    </tr>\n",
       "    <tr>\n",
       "      <th>revol_bal</th>\n",
       "      <td>4647.665039</td>\n",
       "    </tr>\n",
       "    <tr>\n",
       "      <th>revol_util</th>\n",
       "      <td>-1.008732</td>\n",
       "    </tr>\n",
       "    <tr>\n",
       "      <th>total_acc</th>\n",
       "      <td>1.518464</td>\n",
       "    </tr>\n",
       "    <tr>\n",
       "      <th>mort_acc</th>\n",
       "      <td>0.802699</td>\n",
       "    </tr>\n",
       "    <tr>\n",
       "      <th>pub_rec_bankruptcies</th>\n",
       "      <td>0.117338</td>\n",
       "    </tr>\n",
       "  </tbody>\n",
       "</table>\n",
       "</div>"
      ],
      "text/plain": [
       "                       mean-median\n",
       "loan_amnt              2250.170322\n",
       "term                      5.836912\n",
       "int_rate                  0.307453\n",
       "installment              56.027906\n",
       "sub_grade                -0.027413\n",
       "emp_length                0.018545\n",
       "annual_inc            10187.979404\n",
       "dti                       0.437353\n",
       "open_acc                  0.393325\n",
       "pub_rec                   0.172278\n",
       "revol_bal              4647.665039\n",
       "revol_util               -1.008732\n",
       "total_acc                 1.518464\n",
       "mort_acc                  0.802699\n",
       "pub_rec_bankruptcies      0.117338"
      ]
     },
     "execution_count": 100,
     "metadata": {},
     "output_type": "execute_result"
    }
   ],
   "source": [
    "pd.DataFrame(df.describe().T[\"mean\"]-df.describe().T[\"50%\"], columns=[\"mean-median\"])\n",
    "#checking difference between mean and median"
   ]
  },
  {
   "cell_type": "code",
   "execution_count": 101,
   "id": "c7280fa0",
   "metadata": {
    "scrolled": false
   },
   "outputs": [
    {
     "data": {
      "text/plain": [
       "<AxesSubplot:xlabel='loan_amnt'>"
      ]
     },
     "execution_count": 101,
     "metadata": {},
     "output_type": "execute_result"
    },
    {
     "data": {
      "image/png": "[encoded data removed]",
      "text/plain": [
       "<Figure size 1080x360 with 2 Axes>"
      ]
     },
     "metadata": {
      "needs_background": "light"
     },
     "output_type": "display_data"
    }
   ],
   "source": [
    "plt.figure(figsize=(15,5))\n",
    "plt.subplot(2,1,1)\n",
    "sns.histplot(data=df, x=\"loan_amnt\")\n",
    "plt.subplot(2,1,2)\n",
    "sns.boxplot(data=df, x=\"loan_amnt\")"
   ]
  },
  {
   "cell_type": "markdown",
   "id": "3957d9f6",
   "metadata": {},
   "source": [
    "<mark>loan data is not normally distributed</mark>"
   ]
  },
  {
   "cell_type": "code",
   "execution_count": 102,
   "id": "e559c348",
   "metadata": {},
   "outputs": [
    {
     "data": {
      "text/html": [
       "<div>\n",
       "<style scoped>\n",
       "    .dataframe tbody tr th:only-of-type {\n",
       "        vertical-align: middle;\n",
       "    }\n",
       "\n",
       "    .dataframe tbody tr th {\n",
       "        vertical-align: top;\n",
       "    }\n",
       "\n",
       "    .dataframe thead th {\n",
       "        text-align: right;\n",
       "    }\n",
       "</style>\n",
       "<table border=\"1\" class=\"dataframe\">\n",
       "  <thead>\n",
       "    <tr style=\"text-align: right;\">\n",
       "      <th></th>\n",
       "      <th>count</th>\n",
       "      <th>mean</th>\n",
       "      <th>std</th>\n",
       "      <th>min</th>\n",
       "      <th>25%</th>\n",
       "      <th>50%</th>\n",
       "      <th>75%</th>\n",
       "      <th>max</th>\n",
       "    </tr>\n",
       "  </thead>\n",
       "  <tbody>\n",
       "    <tr>\n",
       "      <th>annual_inc</th>\n",
       "      <td>370622.0</td>\n",
       "      <td>75187.979404</td>\n",
       "      <td>62090.207381</td>\n",
       "      <td>4000.0</td>\n",
       "      <td>46000.0</td>\n",
       "      <td>65000.0</td>\n",
       "      <td>90000.0</td>\n",
       "      <td>8706582.0</td>\n",
       "    </tr>\n",
       "    <tr>\n",
       "      <th>revol_bal</th>\n",
       "      <td>370622.0</td>\n",
       "      <td>15950.665039</td>\n",
       "      <td>20538.921831</td>\n",
       "      <td>0.0</td>\n",
       "      <td>6115.0</td>\n",
       "      <td>11303.0</td>\n",
       "      <td>19767.0</td>\n",
       "      <td>1743266.0</td>\n",
       "    </tr>\n",
       "  </tbody>\n",
       "</table>\n",
       "</div>"
      ],
      "text/plain": [
       "               count          mean           std     min      25%      50%  \\\n",
       "annual_inc  370622.0  75187.979404  62090.207381  4000.0  46000.0  65000.0   \n",
       "revol_bal   370622.0  15950.665039  20538.921831     0.0   6115.0  11303.0   \n",
       "\n",
       "                75%        max  \n",
       "annual_inc  90000.0  8706582.0  \n",
       "revol_bal   19767.0  1743266.0  "
      ]
     },
     "execution_count": 102,
     "metadata": {},
     "output_type": "execute_result"
    }
   ],
   "source": [
    "df[[\"annual_inc\",\"revol_bal\"]].describe().T"
   ]
  },
  {
   "cell_type": "markdown",
   "id": "a561aa87",
   "metadata": {},
   "source": [
    "## bivariate analysis"
   ]
  },
  {
   "cell_type": "code",
   "execution_count": 103,
   "id": "1e5e6074",
   "metadata": {},
   "outputs": [],
   "source": [
    "DF = df.dropna()"
   ]
  },
  {
   "cell_type": "code",
   "execution_count": 104,
   "id": "698d1882",
   "metadata": {},
   "outputs": [
    {
     "data": {
      "text/plain": [
       "Index(['loan_amnt', 'term', 'int_rate', 'installment', 'grade', 'sub_grade',\n",
       "       'emp_length', 'home_ownership', 'annual_inc', 'verification_status',\n",
       "       'loan_status', 'purpose', 'dti', 'open_acc', 'pub_rec', 'revol_bal',\n",
       "       'revol_util', 'total_acc', 'initial_list_status', 'application_type',\n",
       "       'mort_acc', 'pub_rec_bankruptcies', 'address'],\n",
       "      dtype='object')"
      ]
     },
     "execution_count": 104,
     "metadata": {},
     "output_type": "execute_result"
    }
   ],
   "source": [
    "DF.columns"
   ]
  },
  {
   "cell_type": "code",
   "execution_count": 105,
   "id": "d3c60e23",
   "metadata": {},
   "outputs": [
    {
     "data": {
      "text/plain": [
       "Index(['loan_amnt', 'term', 'int_rate', 'installment', 'grade', 'sub_grade',\n",
       "       'emp_title', 'emp_length', 'home_ownership', 'annual_inc',\n",
       "       'verification_status', 'issue_d', 'loan_status', 'purpose', 'title',\n",
       "       'dti', 'earliest_cr_line', 'open_acc', 'pub_rec', 'revol_bal',\n",
       "       'revol_util', 'total_acc', 'initial_list_status', 'application_type',\n",
       "       'mort_acc', 'pub_rec_bankruptcies', 'address'],\n",
       "      dtype='object')"
      ]
     },
     "execution_count": 105,
     "metadata": {},
     "output_type": "execute_result"
    }
   ],
   "source": [
    "Data.columns"
   ]
  },
  {
   "cell_type": "code",
   "execution_count": 106,
   "id": "4873b9ba",
   "metadata": {},
   "outputs": [
    {
     "data": {
      "text/plain": [
       "<AxesSubplot:xlabel='loan_status', ylabel='count'>"
      ]
     },
     "execution_count": 106,
     "metadata": {},
     "output_type": "execute_result"
    },
    {
     "data": {
      "image/png": "[encoded data removed]",
      "text/plain": [
       "<Figure size 864x288 with 2 Axes>"
      ]
     },
     "metadata": {
      "needs_background": "light"
     },
     "output_type": "display_data"
    }
   ],
   "source": [
    "plt.figure(figsize=(12,4))\n",
    "plt.subplot(1,2,1)\n",
    "sns.countplot(data=DF, x=\"loan_status\")\n",
    "plt.subplot(1,2,2)\n",
    "sns.countplot(data=DF, x=\"loan_status\", hue=\"grade\")"
   ]
  },
  {
   "cell_type": "code",
   "execution_count": 107,
   "id": "9977567f",
   "metadata": {},
   "outputs": [
    {
     "data": {
      "text/plain": [
       "loan_status\n",
       "Fully Paid     0.807734\n",
       "Charged Off    0.192266\n",
       "dtype: float64"
      ]
     },
     "execution_count": 107,
     "metadata": {},
     "output_type": "execute_result"
    }
   ],
   "source": [
    "df[[\"loan_status\"]].value_counts(normalize=True) #highly imbalance data"
   ]
  },
  {
   "cell_type": "markdown",
   "id": "9af4cd14",
   "metadata": {},
   "source": [
    "<mark>approximately 80% individuals fully paid back the loan</mark>"
   ]
  },
  {
   "cell_type": "markdown",
   "id": "05f72b53",
   "metadata": {},
   "source": [
    "<mark>People with grades ‘B’ are more likely to fully pay their loan.</mark>"
   ]
  },
  {
   "cell_type": "code",
   "execution_count": 108,
   "id": "ffbf7102",
   "metadata": {},
   "outputs": [
    {
     "data": {
      "text/plain": [
       "<AxesSubplot:xlabel='loan_status', ylabel='loan_amnt'>"
      ]
     },
     "execution_count": 108,
     "metadata": {},
     "output_type": "execute_result"
    },
    {
     "data": {
      "image/png": "[encoded data removed]",
      "text/plain": [
       "<Figure size 432x288 with 1 Axes>"
      ]
     },
     "metadata": {
      "needs_background": "light"
     },
     "output_type": "display_data"
    }
   ],
   "source": [
    "sns.barplot(data=DF, x=\"loan_status\", y=\"loan_amnt\", estimator=np.sum)"
   ]
  },
  {
   "cell_type": "code",
   "execution_count": 109,
   "id": "1aa22bd7",
   "metadata": {},
   "outputs": [
    {
     "data": {
      "text/html": [
       "<div>\n",
       "<style scoped>\n",
       "    .dataframe tbody tr th:only-of-type {\n",
       "        vertical-align: middle;\n",
       "    }\n",
       "\n",
       "    .dataframe tbody tr th {\n",
       "        vertical-align: top;\n",
       "    }\n",
       "\n",
       "    .dataframe thead th {\n",
       "        text-align: right;\n",
       "    }\n",
       "</style>\n",
       "<table border=\"1\" class=\"dataframe\">\n",
       "  <thead>\n",
       "    <tr style=\"text-align: right;\">\n",
       "      <th></th>\n",
       "      <th>loan_amnt</th>\n",
       "    </tr>\n",
       "    <tr>\n",
       "      <th>loan_status</th>\n",
       "      <th></th>\n",
       "    </tr>\n",
       "  </thead>\n",
       "  <tbody>\n",
       "    <tr>\n",
       "      <th>Charged Off</th>\n",
       "      <td>0.207579</td>\n",
       "    </tr>\n",
       "    <tr>\n",
       "      <th>Fully Paid</th>\n",
       "      <td>0.792421</td>\n",
       "    </tr>\n",
       "  </tbody>\n",
       "</table>\n",
       "</div>"
      ],
      "text/plain": [
       "             loan_amnt\n",
       "loan_status           \n",
       "Charged Off   0.207579\n",
       "Fully Paid    0.792421"
      ]
     },
     "execution_count": 109,
     "metadata": {},
     "output_type": "execute_result"
    }
   ],
   "source": [
    "df[[\"loan_status\",\"loan_amnt\"]].groupby([\"loan_status\"]).aggregate(\"sum\")/df[\"loan_amnt\"].sum()"
   ]
  },
  {
   "cell_type": "markdown",
   "id": "516d070f",
   "metadata": {},
   "source": [
    "<mark>approx 79% of total loan amount is fully paid back</mark>"
   ]
  },
  {
   "cell_type": "code",
   "execution_count": 110,
   "id": "8d58f846",
   "metadata": {},
   "outputs": [
    {
     "data": {
      "text/plain": [
       "<AxesSubplot:xlabel='loan_status', ylabel='annual_inc'>"
      ]
     },
     "execution_count": 110,
     "metadata": {},
     "output_type": "execute_result"
    },
    {
     "data": {
      "image/png": "[encoded data removed]",
      "text/plain": [
       "<Figure size 432x288 with 1 Axes>"
      ]
     },
     "metadata": {
      "needs_background": "light"
     },
     "output_type": "display_data"
    }
   ],
   "source": [
    "sns.barplot(data=DF, x=\"loan_status\", y=\"annual_inc\", estimator=np.mean)"
   ]
  },
  {
   "cell_type": "markdown",
   "id": "f290754f",
   "metadata": {},
   "source": [
    "<mark>customers in fully paid category haave slightly high mean income</mark>"
   ]
  },
  {
   "cell_type": "code",
   "execution_count": 111,
   "id": "4cc1f697",
   "metadata": {},
   "outputs": [
    {
     "data": {
      "text/plain": [
       "<AxesSubplot:xlabel='home_ownership', ylabel='count'>"
      ]
     },
     "execution_count": 111,
     "metadata": {},
     "output_type": "execute_result"
    },
    {
     "data": {
      "image/png": "[encoded data removed]",
      "text/plain": [
       "<Figure size 432x288 with 1 Axes>"
      ]
     },
     "metadata": {
      "needs_background": "light"
     },
     "output_type": "display_data"
    }
   ],
   "source": [
    "sns.countplot(data=DF, x=\"home_ownership\")"
   ]
  },
  {
   "cell_type": "markdown",
   "id": "ba4a1f9d",
   "metadata": {},
   "source": [
    "<mark>The majority of people have home ownership as <strong>mortgage</strong></mark>"
   ]
  },
  {
   "cell_type": "code",
   "execution_count": 112,
   "id": "1b29f0a6",
   "metadata": {},
   "outputs": [
    {
     "data": {
      "text/plain": [
       "<AxesSubplot:xlabel='address', ylabel='count'>"
      ]
     },
     "execution_count": 112,
     "metadata": {},
     "output_type": "execute_result"
    },
    {
     "data": {
      "image/png": "[encoded data removed]",
      "text/plain": [
       "<Figure size 1080x360 with 1 Axes>"
      ]
     },
     "metadata": {
      "needs_background": "light"
     },
     "output_type": "display_data"
    }
   ],
   "source": [
    "plt.figure(figsize=(15,5))\n",
    "sns.countplot(data=DF, x=\"address\", hue=\"loan_status\")"
   ]
  },
  {
   "cell_type": "markdown",
   "id": "ab22c522",
   "metadata": {},
   "source": [
    "<mark>customers from AE, AP, AA are more compared to other regions</mark>"
   ]
  },
  {
   "cell_type": "markdown",
   "id": "31945a24",
   "metadata": {},
   "source": [
    "# (F) Checking outliers"
   ]
  },
  {
   "cell_type": "markdown",
   "id": "925e34c8",
   "metadata": {},
   "source": [
    "### <mark>creating a function to remove outliers from a given array (using IQR method)</mark>"
   ]
  },
  {
   "cell_type": "code",
   "execution_count": 113,
   "id": "30c87fe7",
   "metadata": {},
   "outputs": [],
   "source": [
    "def remove_outliers(arr):\n",
    "    IQR = np.quantile(arr, 0.75)-np.quantile(arr, 0.25)\n",
    "    LL = np.quantile(arr, 0.25)-1.5*IQR\n",
    "    UL = np.quantile(arr, 0.75)+1.5*IQR\n",
    "    arr = arr[arr>LL]\n",
    "    arr = arr[arr<UL]\n",
    "    return (arr)"
   ]
  },
  {
   "cell_type": "markdown",
   "id": "d4b0591f",
   "metadata": {},
   "source": [
    "### outliers% in columns"
   ]
  },
  {
   "cell_type": "code",
   "execution_count": 114,
   "id": "30ceb59d",
   "metadata": {},
   "outputs": [
    {
     "data": {
      "text/plain": [
       "['loan_amnt',\n",
       " 'int_rate',\n",
       " 'installment',\n",
       " 'annual_inc',\n",
       " 'dti',\n",
       " 'revol_bal',\n",
       " 'revol_util',\n",
       " 'total_acc']"
      ]
     },
     "execution_count": 114,
     "metadata": {},
     "output_type": "execute_result"
    }
   ],
   "source": [
    "arr_temp = []\n",
    "for col in df.columns[df.dtypes==\"float64\"]:\n",
    "    if df[col].nunique()>100:\n",
    "        arr_temp.append(col)\n",
    "arr_temp"
   ]
  },
  {
   "cell_type": "code",
   "execution_count": 115,
   "id": "c5f3f9d1",
   "metadata": {},
   "outputs": [
    {
     "name": "stdout",
     "output_type": "stream",
     "text": [
      "loan_amnt :   0.05 %\n",
      "int_rate :   0.95 %\n",
      "installment :   2.77 %\n",
      "annual_inc :   4.38 %\n",
      "dti :   0.06 %\n",
      "revol_bal :   5.34 %\n",
      "revol_util :   0.0 %\n",
      "total_acc :   2.17 %\n"
     ]
    }
   ],
   "source": [
    "for col in arr_temp:\n",
    "    arr = df[col].values; N=len(arr)\n",
    "    percnt = (N-len(remove_outliers(arr)))/N*100\n",
    "    print(col,\":  \",round(percnt,2),\"%\")"
   ]
  },
  {
   "cell_type": "markdown",
   "id": "fb350b05",
   "metadata": {},
   "source": [
    "# (G) Checking Multicolliniarity"
   ]
  },
  {
   "cell_type": "markdown",
   "id": "d3a361eb",
   "metadata": {},
   "source": [
    "<strong>Basic assumptions</strong> that must be met for `logistic regression` include <strong>independence of errors, linearity in the logit for continuous variables, absence of multicollinearity, and lack of strongly influential outliers.</strong>"
   ]
  },
  {
   "cell_type": "code",
   "execution_count": 116,
   "id": "b29e5743",
   "metadata": {},
   "outputs": [],
   "source": [
    "corr_val=df[df.columns[df.dtypes==\"float64\"]].corr()"
   ]
  },
  {
   "cell_type": "code",
   "execution_count": 117,
   "id": "04db7e43",
   "metadata": {},
   "outputs": [
    {
     "data": {
      "text/plain": [
       "(15, 15)"
      ]
     },
     "execution_count": 117,
     "metadata": {},
     "output_type": "execute_result"
    }
   ],
   "source": [
    "corr_val.shape"
   ]
  },
  {
   "cell_type": "code",
   "execution_count": 118,
   "id": "73671e30",
   "metadata": {},
   "outputs": [
    {
     "data": {
      "text/plain": [
       "4.0"
      ]
     },
     "execution_count": 118,
     "metadata": {},
     "output_type": "execute_result"
    }
   ],
   "source": [
    "((abs(corr_val)>=0.4).sum().sum()-corr_val.shape[0])/2 #total highly correlated pairs"
   ]
  },
  {
   "cell_type": "code",
   "execution_count": 119,
   "id": "7194770d",
   "metadata": {},
   "outputs": [
    {
     "data": {
      "text/plain": [
       "0"
      ]
     },
     "execution_count": 119,
     "metadata": {},
     "output_type": "execute_result"
    }
   ],
   "source": [
    "(corr_val<=(-0.5)).sum().sum() #highly negative correlated pairs"
   ]
  },
  {
   "cell_type": "code",
   "execution_count": 120,
   "id": "6f7b0444",
   "metadata": {},
   "outputs": [
    {
     "data": {
      "text/plain": [
       "4.0"
      ]
     },
     "execution_count": 120,
     "metadata": {},
     "output_type": "execute_result"
    }
   ],
   "source": [
    "((corr_val>=0.4).sum().sum()-corr_val.shape[0])/2 #highly positive correlated pairs"
   ]
  },
  {
   "cell_type": "code",
   "execution_count": 121,
   "id": "3d4d357b",
   "metadata": {},
   "outputs": [
    {
     "data": {
      "text/plain": [
       "<AxesSubplot:>"
      ]
     },
     "execution_count": 121,
     "metadata": {},
     "output_type": "execute_result"
    },
    {
     "data": {
      "image/png": "[encoded data removed]",
      "text/plain": [
       "<Figure size 1080x360 with 2 Axes>"
      ]
     },
     "metadata": {
      "needs_background": "light"
     },
     "output_type": "display_data"
    }
   ],
   "source": [
    "plt.figure(figsize=(15,5))\n",
    "sns.heatmap(corr_val[corr_val>=0.4], annot=True, cmap=\"Blues\")"
   ]
  },
  {
   "cell_type": "markdown",
   "id": "c3676296",
   "metadata": {},
   "source": [
    "<mark>correlation between Loan Amount and Installment features is 0.95 which is very high correlation.</mark>"
   ]
  },
  {
   "cell_type": "code",
   "execution_count": 122,
   "id": "b7bc802a",
   "metadata": {},
   "outputs": [],
   "source": [
    "# VIF \n",
    "from statsmodels.stats.outliers_influence import variance_inflation_factor"
   ]
  },
  {
   "cell_type": "code",
   "execution_count": 123,
   "id": "5165d96d",
   "metadata": {},
   "outputs": [
    {
     "data": {
      "text/html": [
       "<div>\n",
       "<style scoped>\n",
       "    .dataframe tbody tr th:only-of-type {\n",
       "        vertical-align: middle;\n",
       "    }\n",
       "\n",
       "    .dataframe tbody tr th {\n",
       "        vertical-align: top;\n",
       "    }\n",
       "\n",
       "    .dataframe thead th {\n",
       "        text-align: right;\n",
       "    }\n",
       "</style>\n",
       "<table border=\"1\" class=\"dataframe\">\n",
       "  <thead>\n",
       "    <tr style=\"text-align: right;\">\n",
       "      <th></th>\n",
       "      <th>Features</th>\n",
       "      <th>VIF</th>\n",
       "    </tr>\n",
       "  </thead>\n",
       "  <tbody>\n",
       "    <tr>\n",
       "      <th>0</th>\n",
       "      <td>loan_amnt</td>\n",
       "      <td>125.88</td>\n",
       "    </tr>\n",
       "    <tr>\n",
       "      <th>3</th>\n",
       "      <td>installment</td>\n",
       "      <td>112.59</td>\n",
       "    </tr>\n",
       "    <tr>\n",
       "      <th>1</th>\n",
       "      <td>term</td>\n",
       "      <td>48.52</td>\n",
       "    </tr>\n",
       "    <tr>\n",
       "      <th>2</th>\n",
       "      <td>int_rate</td>\n",
       "      <td>20.69</td>\n",
       "    </tr>\n",
       "    <tr>\n",
       "      <th>12</th>\n",
       "      <td>total_acc</td>\n",
       "      <td>13.18</td>\n",
       "    </tr>\n",
       "    <tr>\n",
       "      <th>8</th>\n",
       "      <td>open_acc</td>\n",
       "      <td>12.65</td>\n",
       "    </tr>\n",
       "    <tr>\n",
       "      <th>11</th>\n",
       "      <td>revol_util</td>\n",
       "      <td>7.49</td>\n",
       "    </tr>\n",
       "    <tr>\n",
       "      <th>7</th>\n",
       "      <td>dti</td>\n",
       "      <td>7.29</td>\n",
       "    </tr>\n",
       "    <tr>\n",
       "      <th>4</th>\n",
       "      <td>sub_grade</td>\n",
       "      <td>5.22</td>\n",
       "    </tr>\n",
       "    <tr>\n",
       "      <th>5</th>\n",
       "      <td>emp_length</td>\n",
       "      <td>4.13</td>\n",
       "    </tr>\n",
       "    <tr>\n",
       "      <th>6</th>\n",
       "      <td>annual_inc</td>\n",
       "      <td>3.20</td>\n",
       "    </tr>\n",
       "    <tr>\n",
       "      <th>13</th>\n",
       "      <td>mort_acc</td>\n",
       "      <td>2.33</td>\n",
       "    </tr>\n",
       "    <tr>\n",
       "      <th>14</th>\n",
       "      <td>pub_rec_bankruptcies</td>\n",
       "      <td>2.21</td>\n",
       "    </tr>\n",
       "    <tr>\n",
       "      <th>9</th>\n",
       "      <td>pub_rec</td>\n",
       "      <td>2.17</td>\n",
       "    </tr>\n",
       "    <tr>\n",
       "      <th>10</th>\n",
       "      <td>revol_bal</td>\n",
       "      <td>2.12</td>\n",
       "    </tr>\n",
       "  </tbody>\n",
       "</table>\n",
       "</div>"
      ],
      "text/plain": [
       "                Features     VIF\n",
       "0              loan_amnt  125.88\n",
       "3            installment  112.59\n",
       "1                   term   48.52\n",
       "2               int_rate   20.69\n",
       "12             total_acc   13.18\n",
       "8               open_acc   12.65\n",
       "11            revol_util    7.49\n",
       "7                    dti    7.29\n",
       "4              sub_grade    5.22\n",
       "5             emp_length    4.13\n",
       "6             annual_inc    3.20\n",
       "13              mort_acc    2.33\n",
       "14  pub_rec_bankruptcies    2.21\n",
       "9                pub_rec    2.17\n",
       "10             revol_bal    2.12"
      ]
     },
     "execution_count": 123,
     "metadata": {},
     "output_type": "execute_result"
    }
   ],
   "source": [
    "vif = pd.DataFrame()\n",
    "X_t = df.loc[:,df.columns[df.dtypes==\"float64\"]].dropna() #mandatory to drop nulls\n",
    "vif['Features'] = X_t.columns\n",
    "vif['VIF'] = [variance_inflation_factor(X_t.values, i) for i in range(X_t.shape[1])]\n",
    "vif['VIF'] = round(vif['VIF'], 2)\n",
    "vif = vif.sort_values(by = \"VIF\", ascending = False)\n",
    "vif"
   ]
  },
  {
   "cell_type": "code",
   "execution_count": 124,
   "id": "063685f1",
   "metadata": {},
   "outputs": [],
   "source": [
    "from sklearn.preprocessing import LabelEncoder"
   ]
  },
  {
   "cell_type": "code",
   "execution_count": 125,
   "id": "33321be2",
   "metadata": {},
   "outputs": [
    {
     "name": "stdout",
     "output_type": "stream",
     "text": [
      "Optimization terminated successfully.\n",
      "         Current function value: 0.474174\n",
      "         Iterations 6\n",
      "                           Logit Regression Results                           \n",
      "==============================================================================\n",
      "Dep. Variable:                      y   No. Observations:               335868\n",
      "Model:                          Logit   Df Residuals:                   335853\n",
      "Method:                           MLE   Df Model:                           14\n",
      "Date:                Fri, 20 Jan 2023   Pseudo R-squ.:                 0.04559\n",
      "Time:                        12:57:39   Log-Likelihood:            -1.5926e+05\n",
      "converged:                       True   LL-Null:                   -1.6687e+05\n",
      "Covariance Type:            nonrobust   LLR p-value:                     0.000\n",
      "========================================================================================\n",
      "                           coef    std err          z      P>|z|      [0.025      0.975]\n",
      "----------------------------------------------------------------------------------------\n",
      "loan_amnt               -0.0003   2.85e-06   -109.001      0.000      -0.000      -0.000\n",
      "term                     0.0690      0.001     93.650      0.000       0.068       0.070\n",
      "int_rate                -0.1487      0.001   -107.271      0.000      -0.151      -0.146\n",
      "installment              0.0091   9.02e-05    101.400      0.000       0.009       0.009\n",
      "sub_grade                0.0761      0.003     24.687      0.000       0.070       0.082\n",
      "emp_length               0.0313      0.001     24.450      0.000       0.029       0.034\n",
      "annual_inc            6.471e-06   1.61e-07     40.230      0.000    6.16e-06    6.79e-06\n",
      "dti                     -0.0155      0.001    -25.165      0.000      -0.017      -0.014\n",
      "open_acc                -0.0033      0.001     -2.615      0.009      -0.006      -0.001\n",
      "pub_rec                 -0.1081      0.012     -9.294      0.000      -0.131      -0.085\n",
      "revol_bal             3.605e-07    3.1e-07      1.164      0.244   -2.47e-07    9.68e-07\n",
      "revol_util               0.0024      0.000     11.509      0.000       0.002       0.003\n",
      "total_acc                0.0101      0.001     17.285      0.000       0.009       0.011\n",
      "mort_acc                 0.0564      0.003     20.953      0.000       0.051       0.062\n",
      "pub_rec_bankruptcies     0.1275      0.017      7.331      0.000       0.093       0.162\n",
      "========================================================================================\n"
     ]
    }
   ],
   "source": [
    "# importing libraries\n",
    "import statsmodels.api as sm\n",
    "import pandas as pd \n",
    "  \n",
    "# loading the training dataset \n",
    "df_sm = df.loc[:,list(df.columns[df.dtypes==\"float64\"])+[\"loan_status\"]].dropna() #mandatory to drop nulls\n",
    "  \n",
    "# defining the dependent and independent variables\n",
    "Xtrain = df_sm.drop(columns=[\"loan_status\"])\n",
    "ytrain = LabelEncoder().fit_transform(df_sm[\"loan_status\"])\n",
    "   \n",
    "# building the model and fitting the data\n",
    "log_reg = sm.Logit(ytrain, Xtrain).fit()\n",
    "print(log_reg.summary())"
   ]
  },
  {
   "cell_type": "markdown",
   "id": "13cd6ba3",
   "metadata": {},
   "source": [
    "<mark><strong>both VIF>5 and pvalue>0.05 </strong></mark>`not found for any numerical column`"
   ]
  },
  {
   "cell_type": "markdown",
   "id": "0c96fede",
   "metadata": {},
   "source": [
    "# (H) Column transformation and model building"
   ]
  },
  {
   "cell_type": "code",
   "execution_count": 126,
   "id": "c336d571",
   "metadata": {},
   "outputs": [
    {
     "data": {
      "text/html": [
       "<div>\n",
       "<style scoped>\n",
       "    .dataframe tbody tr th:only-of-type {\n",
       "        vertical-align: middle;\n",
       "    }\n",
       "\n",
       "    .dataframe tbody tr th {\n",
       "        vertical-align: top;\n",
       "    }\n",
       "\n",
       "    .dataframe thead th {\n",
       "        text-align: right;\n",
       "    }\n",
       "</style>\n",
       "<table border=\"1\" class=\"dataframe\">\n",
       "  <thead>\n",
       "    <tr style=\"text-align: right;\">\n",
       "      <th></th>\n",
       "      <th>grade</th>\n",
       "      <th>home_ownership</th>\n",
       "      <th>verification_status</th>\n",
       "      <th>loan_status</th>\n",
       "      <th>purpose</th>\n",
       "      <th>initial_list_status</th>\n",
       "      <th>application_type</th>\n",
       "      <th>address</th>\n",
       "    </tr>\n",
       "  </thead>\n",
       "  <tbody>\n",
       "    <tr>\n",
       "      <th>0</th>\n",
       "      <td>b</td>\n",
       "      <td>rent</td>\n",
       "      <td>not_verified</td>\n",
       "      <td>Fully Paid</td>\n",
       "      <td>vacation</td>\n",
       "      <td>w</td>\n",
       "      <td>individual</td>\n",
       "      <td>OK</td>\n",
       "    </tr>\n",
       "    <tr>\n",
       "      <th>1</th>\n",
       "      <td>b</td>\n",
       "      <td>mortgage</td>\n",
       "      <td>not_verified</td>\n",
       "      <td>Fully Paid</td>\n",
       "      <td>debt_consolidation</td>\n",
       "      <td>f</td>\n",
       "      <td>individual</td>\n",
       "      <td>SD</td>\n",
       "    </tr>\n",
       "    <tr>\n",
       "      <th>2</th>\n",
       "      <td>b</td>\n",
       "      <td>rent</td>\n",
       "      <td>source_verified</td>\n",
       "      <td>Fully Paid</td>\n",
       "      <td>credit_card</td>\n",
       "      <td>f</td>\n",
       "      <td>individual</td>\n",
       "      <td>WV</td>\n",
       "    </tr>\n",
       "    <tr>\n",
       "      <th>3</th>\n",
       "      <td>a</td>\n",
       "      <td>rent</td>\n",
       "      <td>not_verified</td>\n",
       "      <td>Fully Paid</td>\n",
       "      <td>credit_card</td>\n",
       "      <td>f</td>\n",
       "      <td>individual</td>\n",
       "      <td>MA</td>\n",
       "    </tr>\n",
       "    <tr>\n",
       "      <th>4</th>\n",
       "      <td>c</td>\n",
       "      <td>mortgage</td>\n",
       "      <td>verified</td>\n",
       "      <td>Charged Off</td>\n",
       "      <td>credit_card</td>\n",
       "      <td>f</td>\n",
       "      <td>individual</td>\n",
       "      <td>VA</td>\n",
       "    </tr>\n",
       "  </tbody>\n",
       "</table>\n",
       "</div>"
      ],
      "text/plain": [
       "  grade home_ownership verification_status  loan_status             purpose  \\\n",
       "0     b           rent        not_verified   Fully Paid            vacation   \n",
       "1     b       mortgage        not_verified   Fully Paid  debt_consolidation   \n",
       "2     b           rent     source_verified   Fully Paid         credit_card   \n",
       "3     a           rent        not_verified   Fully Paid         credit_card   \n",
       "4     c       mortgage            verified  Charged Off         credit_card   \n",
       "\n",
       "  initial_list_status application_type address  \n",
       "0                   w       individual      OK  \n",
       "1                   f       individual      SD  \n",
       "2                   f       individual      WV  \n",
       "3                   f       individual      MA  \n",
       "4                   f       individual      VA  "
      ]
     },
     "execution_count": 126,
     "metadata": {},
     "output_type": "execute_result"
    }
   ],
   "source": [
    "df[df.columns[df.dtypes==\"object\"]].head()"
   ]
  },
  {
   "cell_type": "markdown",
   "id": "ff24302a",
   "metadata": {},
   "source": [
    "- `One-hot/dummy encoding:` <strong>home_ownership, purpose, application_type, address, verification_status</strong>\n",
    "- `Ordinal encoding:` <strong>grade, initial_list_status</strong>\n",
    "- <mark>Target/Label encoding:</mark> <strong>loan_status</strong>"
   ]
  },
  {
   "cell_type": "code",
   "execution_count": 127,
   "id": "74d74456",
   "metadata": {},
   "outputs": [
    {
     "data": {
      "text/plain": [
       "(370622, 23)"
      ]
     },
     "execution_count": 127,
     "metadata": {},
     "output_type": "execute_result"
    }
   ],
   "source": [
    "df.shape"
   ]
  },
  {
   "cell_type": "code",
   "execution_count": 128,
   "id": "9c686c72",
   "metadata": {},
   "outputs": [
    {
     "data": {
      "text/plain": [
       "['a', 'b', 'c', 'd', 'e', 'f', 'g']"
      ]
     },
     "execution_count": 128,
     "metadata": {},
     "output_type": "execute_result"
    }
   ],
   "source": [
    "sorted(df[\"grade\"].unique())"
   ]
  },
  {
   "cell_type": "code",
   "execution_count": 129,
   "id": "9a38dce7",
   "metadata": {},
   "outputs": [
    {
     "data": {
      "text/plain": [
       "['f', 'w']"
      ]
     },
     "execution_count": 129,
     "metadata": {},
     "output_type": "execute_result"
    }
   ],
   "source": [
    "sorted(df[\"initial_list_status\"].unique())"
   ]
  },
  {
   "cell_type": "code",
   "execution_count": 130,
   "id": "6ad4589f",
   "metadata": {},
   "outputs": [],
   "source": [
    "from sklearn.preprocessing import LabelEncoder\n",
    "from sklearn.preprocessing import OrdinalEncoder\n",
    "from sklearn.preprocessing import OneHotEncoder"
   ]
  },
  {
   "cell_type": "code",
   "execution_count": 131,
   "id": "8e82eeb0",
   "metadata": {},
   "outputs": [],
   "source": [
    "from sklearn.impute import SimpleImputer"
   ]
  },
  {
   "cell_type": "code",
   "execution_count": 132,
   "id": "e0a3552c",
   "metadata": {},
   "outputs": [],
   "source": [
    "from sklearn.preprocessing import StandardScaler\n",
    "from sklearn.preprocessing import MinMaxScaler"
   ]
  },
  {
   "cell_type": "code",
   "execution_count": 133,
   "id": "54111130",
   "metadata": {},
   "outputs": [],
   "source": [
    "X=df.drop(columns=[\"loan_status\"],inplace=False)"
   ]
  },
  {
   "cell_type": "code",
   "execution_count": 134,
   "id": "4f595777",
   "metadata": {},
   "outputs": [],
   "source": [
    "y=df[\"loan_status\"].values"
   ]
  },
  {
   "cell_type": "markdown",
   "id": "3bd4cc7f",
   "metadata": {},
   "source": [
    "### train_test_split"
   ]
  },
  {
   "cell_type": "code",
   "execution_count": 135,
   "id": "f3f38d40",
   "metadata": {},
   "outputs": [],
   "source": [
    "from sklearn.model_selection import train_test_split"
   ]
  },
  {
   "cell_type": "code",
   "execution_count": 136,
   "id": "8405f4b3",
   "metadata": {},
   "outputs": [
    {
     "data": {
      "text/plain": [
       "<function sklearn.model_selection._split.train_test_split(*arrays, test_size=None, train_size=None, random_state=None, shuffle=True, stratify=None)>"
      ]
     },
     "execution_count": 136,
     "metadata": {},
     "output_type": "execute_result"
    }
   ],
   "source": [
    "train_test_split"
   ]
  },
  {
   "cell_type": "code",
   "execution_count": 157,
   "id": "22765495",
   "metadata": {},
   "outputs": [],
   "source": [
    "X_train, X_test, y_train, y_test = train_test_split(X,y,test_size=0.2,random_state=40)"
   ]
  },
  {
   "cell_type": "markdown",
   "id": "8d38b41d",
   "metadata": {},
   "source": [
    "### label encoding"
   ]
  },
  {
   "cell_type": "code",
   "execution_count": 158,
   "id": "f9afcd2b",
   "metadata": {},
   "outputs": [],
   "source": [
    "le = LabelEncoder()"
   ]
  },
  {
   "cell_type": "code",
   "execution_count": 159,
   "id": "845f6ff6",
   "metadata": {},
   "outputs": [
    {
     "data": {
      "text/html": [
       "<style>#sk-a387e1e0-5451-4bb6-821b-1d7c7dcf527d {color: black;background-color: white;}#sk-a387e1e0-5451-4bb6-821b-1d7c7dcf527d pre{padding: 0;}#sk-a387e1e0-5451-4bb6-821b-1d7c7dcf527d div.sk-toggleable {background-color: white;}#sk-a387e1e0-5451-4bb6-821b-1d7c7dcf527d label.sk-toggleable__label {cursor: pointer;display: block;width: 100%;margin-bottom: 0;padding: 0.3em;box-sizing: border-box;text-align: center;}#sk-a387e1e0-5451-4bb6-821b-1d7c7dcf527d label.sk-toggleable__label-arrow:before {content: \"▸\";float: left;margin-right: 0.25em;color: #696969;}#sk-a387e1e0-5451-4bb6-821b-1d7c7dcf527d label.sk-toggleable__label-arrow:hover:before {color: black;}#sk-a387e1e0-5451-4bb6-821b-1d7c7dcf527d div.sk-estimator:hover label.sk-toggleable__label-arrow:before {color: black;}#sk-a387e1e0-5451-4bb6-821b-1d7c7dcf527d div.sk-toggleable__content {max-height: 0;max-width: 0;overflow: hidden;text-align: left;background-color: #f0f8ff;}#sk-a387e1e0-5451-4bb6-821b-1d7c7dcf527d div.sk-toggleable__content pre {margin: 0.2em;color: black;border-radius: 0.25em;background-color: #f0f8ff;}#sk-a387e1e0-5451-4bb6-821b-1d7c7dcf527d input.sk-toggleable__control:checked~div.sk-toggleable__content {max-height: 200px;max-width: 100%;overflow: auto;}#sk-a387e1e0-5451-4bb6-821b-1d7c7dcf527d input.sk-toggleable__control:checked~label.sk-toggleable__label-arrow:before {content: \"▾\";}#sk-a387e1e0-5451-4bb6-821b-1d7c7dcf527d div.sk-estimator input.sk-toggleable__control:checked~label.sk-toggleable__label {background-color: #d4ebff;}#sk-a387e1e0-5451-4bb6-821b-1d7c7dcf527d div.sk-label input.sk-toggleable__control:checked~label.sk-toggleable__label {background-color: #d4ebff;}#sk-a387e1e0-5451-4bb6-821b-1d7c7dcf527d input.sk-hidden--visually {border: 0;clip: rect(1px 1px 1px 1px);clip: rect(1px, 1px, 1px, 1px);height: 1px;margin: -1px;overflow: hidden;padding: 0;position: absolute;width: 1px;}#sk-a387e1e0-5451-4bb6-821b-1d7c7dcf527d div.sk-estimator {font-family: monospace;background-color: #f0f8ff;border: 1px dotted black;border-radius: 0.25em;box-sizing: border-box;margin-bottom: 0.5em;}#sk-a387e1e0-5451-4bb6-821b-1d7c7dcf527d div.sk-estimator:hover {background-color: #d4ebff;}#sk-a387e1e0-5451-4bb6-821b-1d7c7dcf527d div.sk-parallel-item::after {content: \"\";width: 100%;border-bottom: 1px solid gray;flex-grow: 1;}#sk-a387e1e0-5451-4bb6-821b-1d7c7dcf527d div.sk-label:hover label.sk-toggleable__label {background-color: #d4ebff;}#sk-a387e1e0-5451-4bb6-821b-1d7c7dcf527d div.sk-serial::before {content: \"\";position: absolute;border-left: 1px solid gray;box-sizing: border-box;top: 2em;bottom: 0;left: 50%;}#sk-a387e1e0-5451-4bb6-821b-1d7c7dcf527d div.sk-serial {display: flex;flex-direction: column;align-items: center;background-color: white;padding-right: 0.2em;padding-left: 0.2em;}#sk-a387e1e0-5451-4bb6-821b-1d7c7dcf527d div.sk-item {z-index: 1;}#sk-a387e1e0-5451-4bb6-821b-1d7c7dcf527d div.sk-parallel {display: flex;align-items: stretch;justify-content: center;background-color: white;}#sk-a387e1e0-5451-4bb6-821b-1d7c7dcf527d div.sk-parallel::before {content: \"\";position: absolute;border-left: 1px solid gray;box-sizing: border-box;top: 2em;bottom: 0;left: 50%;}#sk-a387e1e0-5451-4bb6-821b-1d7c7dcf527d div.sk-parallel-item {display: flex;flex-direction: column;position: relative;background-color: white;}#sk-a387e1e0-5451-4bb6-821b-1d7c7dcf527d div.sk-parallel-item:first-child::after {align-self: flex-end;width: 50%;}#sk-a387e1e0-5451-4bb6-821b-1d7c7dcf527d div.sk-parallel-item:last-child::after {align-self: flex-start;width: 50%;}#sk-a387e1e0-5451-4bb6-821b-1d7c7dcf527d div.sk-parallel-item:only-child::after {width: 0;}#sk-a387e1e0-5451-4bb6-821b-1d7c7dcf527d div.sk-dashed-wrapped {border: 1px dashed gray;margin: 0 0.4em 0.5em 0.4em;box-sizing: border-box;padding-bottom: 0.4em;background-color: white;position: relative;}#sk-a387e1e0-5451-4bb6-821b-1d7c7dcf527d div.sk-label label {font-family: monospace;font-weight: bold;background-color: white;display: inline-block;line-height: 1.2em;}#sk-a387e1e0-5451-4bb6-821b-1d7c7dcf527d div.sk-label-container {position: relative;z-index: 2;text-align: center;}#sk-a387e1e0-5451-4bb6-821b-1d7c7dcf527d div.sk-container {/* jupyter's `normalize.less` sets `[hidden] { display: none; }` but bootstrap.min.css set `[hidden] { display: none !important; }` so we also need the `!important` here to be able to override the default hidden behavior on the sphinx rendered scikit-learn.org. See: https://github.com/scikit-learn/scikit-learn/issues/21755 */display: inline-block !important;position: relative;}#sk-a387e1e0-5451-4bb6-821b-1d7c7dcf527d div.sk-text-repr-fallback {display: none;}</style><div id=\"sk-a387e1e0-5451-4bb6-821b-1d7c7dcf527d\" class=\"sk-top-container\"><div class=\"sk-text-repr-fallback\"><pre>LabelEncoder()</pre><b>Please rerun this cell to show the HTML repr or trust the notebook.</b></div><div class=\"sk-container\" hidden><div class=\"sk-item\"><div class=\"sk-estimator sk-toggleable\"><input class=\"sk-toggleable__control sk-hidden--visually\" id=\"58d3713e-5a47-42a3-8c9a-2f39d0a730f4\" type=\"checkbox\" checked><label for=\"58d3713e-5a47-42a3-8c9a-2f39d0a730f4\" class=\"sk-toggleable__label sk-toggleable__label-arrow\">LabelEncoder</label><div class=\"sk-toggleable__content\"><pre>LabelEncoder()</pre></div></div></div></div></div>"
      ],
      "text/plain": [
       "LabelEncoder()"
      ]
     },
     "execution_count": 159,
     "metadata": {},
     "output_type": "execute_result"
    }
   ],
   "source": [
    "le.fit(y_train)"
   ]
  },
  {
   "cell_type": "code",
   "execution_count": 160,
   "id": "6b50e6eb",
   "metadata": {},
   "outputs": [],
   "source": [
    "y_train=le.transform(y_train)"
   ]
  },
  {
   "cell_type": "code",
   "execution_count": 161,
   "id": "05069022",
   "metadata": {},
   "outputs": [],
   "source": [
    "y_test=le.transform(y_test)"
   ]
  },
  {
   "cell_type": "markdown",
   "id": "0e357e18",
   "metadata": {},
   "source": [
    "### ColumnTransformers and pipeline"
   ]
  },
  {
   "cell_type": "code",
   "execution_count": 162,
   "id": "2a807991",
   "metadata": {},
   "outputs": [],
   "source": [
    "from sklearn.compose import ColumnTransformer"
   ]
  },
  {
   "cell_type": "code",
   "execution_count": 163,
   "id": "3df62168",
   "metadata": {},
   "outputs": [],
   "source": [
    "# transformer = ColumnTransformer(transformers=[], remainder= )"
   ]
  },
  {
   "cell_type": "code",
   "execution_count": 164,
   "id": "6b9fd09a",
   "metadata": {},
   "outputs": [],
   "source": [
    "transformer = ColumnTransformer(transformers=[\n",
    "(\"step1\",SimpleImputer(strategy=\"most_frequent\"),[\"mort_acc\"]),\n",
    "(\"step2\",OrdinalEncoder(categories=[sorted(df[\"grade\"].unique()),sorted(df[\"initial_list_status\"].unique())]),[\"grade\",\"initial_list_status\"]),\n",
    "(\"step3\",OneHotEncoder(drop=\"first\",sparse=False,handle_unknown=\"ignore\"),[\"home_ownership\", \"purpose\", \"application_type\", \"address\", \"verification_status\"])\n",
    "], remainder=\"passthrough\" )"
   ]
  },
  {
   "cell_type": "markdown",
   "id": "cccc2370",
   "metadata": {},
   "source": [
    "### pipeline"
   ]
  },
  {
   "cell_type": "code",
   "execution_count": 165,
   "id": "11682c9e",
   "metadata": {},
   "outputs": [],
   "source": [
    "from sklearn.pipeline import Pipeline, make_pipeline"
   ]
  },
  {
   "cell_type": "code",
   "execution_count": 166,
   "id": "10ba21fd",
   "metadata": {},
   "outputs": [],
   "source": [
    "# imputer transformer\n",
    "trf1 = ColumnTransformer([(\"impute_mort\",SimpleImputer(strategy=\"most_frequent\"),[19])],\n",
    "                          remainder=\"passthrough\")"
   ]
  },
  {
   "cell_type": "code",
   "execution_count": 167,
   "id": "db48e0c5",
   "metadata": {},
   "outputs": [],
   "source": [
    "# ordinal encoder transformer\n",
    "trf2 = ColumnTransformer([\"encode_grade_ils\",OrdinalEncoder(categories=[['a', 'b', 'c', 'd', 'e', 'f', 'g'],['f', 'w']]),[4,17]],\n",
    "                          remainder=\"passthrough\")"
   ]
  },
  {
   "cell_type": "code",
   "execution_count": 168,
   "id": "14153bf0",
   "metadata": {},
   "outputs": [],
   "source": [
    "# one hot encoder transformer\n",
    "trf3 = ColumnTransformer([\"ohe_7/9/10/18/21\",OneHotEncoder(drop=\"first\",sparse=False,handle_unknown=\"ignore\"),[7,9,10,18,21]],\n",
    "                         remainder=\"passthrough\")"
   ]
  },
  {
   "cell_type": "code",
   "execution_count": 169,
   "id": "30ec2d18",
   "metadata": {},
   "outputs": [],
   "source": [
    "# scaling\n",
    "trf4 = ColumnTransformer([(\"scale\",StandardScaler(),slice(0,92))],\n",
    "                         remainder=\"passthrough\")"
   ]
  },
  {
   "cell_type": "code",
   "execution_count": 170,
   "id": "bf1378c3",
   "metadata": {},
   "outputs": [],
   "source": [
    "# logisticRegression model\n",
    "from sklearn.linear_model import LogisticRegression\n",
    "trf5 = LogisticRegression(max_iter=500)"
   ]
  },
  {
   "cell_type": "code",
   "execution_count": 171,
   "id": "cde426b4",
   "metadata": {},
   "outputs": [],
   "source": [
    "pipe = Pipeline([(\"trf1\",trf1),(\"trf2\",trf2),(\"trf3\",trf3),(\"trf4\",trf4),(\"trf5\",trf5)])"
   ]
  },
  {
   "cell_type": "code",
   "execution_count": 172,
   "id": "3b293f60",
   "metadata": {},
   "outputs": [],
   "source": [
    "# pipe.fit(X_train, y_train)"
   ]
  },
  {
   "cell_type": "code",
   "execution_count": 173,
   "id": "4b184bed",
   "metadata": {},
   "outputs": [],
   "source": [
    "pipe2 = Pipeline([(\"transformer\",transformer),(\"trf4\",trf4),(\"trf5\",trf5)])"
   ]
  },
  {
   "cell_type": "markdown",
   "id": "7425fc70",
   "metadata": {},
   "source": [
    "### model training"
   ]
  },
  {
   "cell_type": "code",
   "execution_count": 174,
   "id": "c22b1acb",
   "metadata": {},
   "outputs": [],
   "source": [
    "# display pipeline\n",
    "from sklearn import set_config\n",
    "set_config(display=\"diagram\")"
   ]
  },
  {
   "cell_type": "code",
   "execution_count": 175,
   "id": "f935fac8",
   "metadata": {},
   "outputs": [
    {
     "data": {
      "text/html": [
       "<style>#sk-72700de6-51c8-4d2a-8bf9-004faf0e7927 {color: black;background-color: white;}#sk-72700de6-51c8-4d2a-8bf9-004faf0e7927 pre{padding: 0;}#sk-72700de6-51c8-4d2a-8bf9-004faf0e7927 div.sk-toggleable {background-color: white;}#sk-72700de6-51c8-4d2a-8bf9-004faf0e7927 label.sk-toggleable__label {cursor: pointer;display: block;width: 100%;margin-bottom: 0;padding: 0.3em;box-sizing: border-box;text-align: center;}#sk-72700de6-51c8-4d2a-8bf9-004faf0e7927 label.sk-toggleable__label-arrow:before {content: \"▸\";float: left;margin-right: 0.25em;color: #696969;}#sk-72700de6-51c8-4d2a-8bf9-004faf0e7927 label.sk-toggleable__label-arrow:hover:before {color: black;}#sk-72700de6-51c8-4d2a-8bf9-004faf0e7927 div.sk-estimator:hover label.sk-toggleable__label-arrow:before {color: black;}#sk-72700de6-51c8-4d2a-8bf9-004faf0e7927 div.sk-toggleable__content {max-height: 0;max-width: 0;overflow: hidden;text-align: left;background-color: #f0f8ff;}#sk-72700de6-51c8-4d2a-8bf9-004faf0e7927 div.sk-toggleable__content pre {margin: 0.2em;color: black;border-radius: 0.25em;background-color: #f0f8ff;}#sk-72700de6-51c8-4d2a-8bf9-004faf0e7927 input.sk-toggleable__control:checked~div.sk-toggleable__content {max-height: 200px;max-width: 100%;overflow: auto;}#sk-72700de6-51c8-4d2a-8bf9-004faf0e7927 input.sk-toggleable__control:checked~label.sk-toggleable__label-arrow:before {content: \"▾\";}#sk-72700de6-51c8-4d2a-8bf9-004faf0e7927 div.sk-estimator input.sk-toggleable__control:checked~label.sk-toggleable__label {background-color: #d4ebff;}#sk-72700de6-51c8-4d2a-8bf9-004faf0e7927 div.sk-label input.sk-toggleable__control:checked~label.sk-toggleable__label {background-color: #d4ebff;}#sk-72700de6-51c8-4d2a-8bf9-004faf0e7927 input.sk-hidden--visually {border: 0;clip: rect(1px 1px 1px 1px);clip: rect(1px, 1px, 1px, 1px);height: 1px;margin: -1px;overflow: hidden;padding: 0;position: absolute;width: 1px;}#sk-72700de6-51c8-4d2a-8bf9-004faf0e7927 div.sk-estimator {font-family: monospace;background-color: #f0f8ff;border: 1px dotted black;border-radius: 0.25em;box-sizing: border-box;margin-bottom: 0.5em;}#sk-72700de6-51c8-4d2a-8bf9-004faf0e7927 div.sk-estimator:hover {background-color: #d4ebff;}#sk-72700de6-51c8-4d2a-8bf9-004faf0e7927 div.sk-parallel-item::after {content: \"\";width: 100%;border-bottom: 1px solid gray;flex-grow: 1;}#sk-72700de6-51c8-4d2a-8bf9-004faf0e7927 div.sk-label:hover label.sk-toggleable__label {background-color: #d4ebff;}#sk-72700de6-51c8-4d2a-8bf9-004faf0e7927 div.sk-serial::before {content: \"\";position: absolute;border-left: 1px solid gray;box-sizing: border-box;top: 2em;bottom: 0;left: 50%;}#sk-72700de6-51c8-4d2a-8bf9-004faf0e7927 div.sk-serial {display: flex;flex-direction: column;align-items: center;background-color: white;padding-right: 0.2em;padding-left: 0.2em;}#sk-72700de6-51c8-4d2a-8bf9-004faf0e7927 div.sk-item {z-index: 1;}#sk-72700de6-51c8-4d2a-8bf9-004faf0e7927 div.sk-parallel {display: flex;align-items: stretch;justify-content: center;background-color: white;}#sk-72700de6-51c8-4d2a-8bf9-004faf0e7927 div.sk-parallel::before {content: \"\";position: absolute;border-left: 1px solid gray;box-sizing: border-box;top: 2em;bottom: 0;left: 50%;}#sk-72700de6-51c8-4d2a-8bf9-004faf0e7927 div.sk-parallel-item {display: flex;flex-direction: column;position: relative;background-color: white;}#sk-72700de6-51c8-4d2a-8bf9-004faf0e7927 div.sk-parallel-item:first-child::after {align-self: flex-end;width: 50%;}#sk-72700de6-51c8-4d2a-8bf9-004faf0e7927 div.sk-parallel-item:last-child::after {align-self: flex-start;width: 50%;}#sk-72700de6-51c8-4d2a-8bf9-004faf0e7927 div.sk-parallel-item:only-child::after {width: 0;}#sk-72700de6-51c8-4d2a-8bf9-004faf0e7927 div.sk-dashed-wrapped {border: 1px dashed gray;margin: 0 0.4em 0.5em 0.4em;box-sizing: border-box;padding-bottom: 0.4em;background-color: white;position: relative;}#sk-72700de6-51c8-4d2a-8bf9-004faf0e7927 div.sk-label label {font-family: monospace;font-weight: bold;background-color: white;display: inline-block;line-height: 1.2em;}#sk-72700de6-51c8-4d2a-8bf9-004faf0e7927 div.sk-label-container {position: relative;z-index: 2;text-align: center;}#sk-72700de6-51c8-4d2a-8bf9-004faf0e7927 div.sk-container {/* jupyter's `normalize.less` sets `[hidden] { display: none; }` but bootstrap.min.css set `[hidden] { display: none !important; }` so we also need the `!important` here to be able to override the default hidden behavior on the sphinx rendered scikit-learn.org. See: https://github.com/scikit-learn/scikit-learn/issues/21755 */display: inline-block !important;position: relative;}#sk-72700de6-51c8-4d2a-8bf9-004faf0e7927 div.sk-text-repr-fallback {display: none;}</style><div id=\"sk-72700de6-51c8-4d2a-8bf9-004faf0e7927\" class=\"sk-top-container\"><div class=\"sk-text-repr-fallback\"><pre>Pipeline(steps=[(&#x27;transformer&#x27;,\n",
       "                 ColumnTransformer(remainder=&#x27;passthrough&#x27;,\n",
       "                                   transformers=[(&#x27;step1&#x27;,\n",
       "                                                  SimpleImputer(strategy=&#x27;most_frequent&#x27;),\n",
       "                                                  [&#x27;mort_acc&#x27;]),\n",
       "                                                 (&#x27;step2&#x27;,\n",
       "                                                  OrdinalEncoder(categories=[[&#x27;a&#x27;,\n",
       "                                                                              &#x27;b&#x27;,\n",
       "                                                                              &#x27;c&#x27;,\n",
       "                                                                              &#x27;d&#x27;,\n",
       "                                                                              &#x27;e&#x27;,\n",
       "                                                                              &#x27;f&#x27;,\n",
       "                                                                              &#x27;g&#x27;],\n",
       "                                                                             [&#x27;f&#x27;,\n",
       "                                                                              &#x27;w&#x27;]]),\n",
       "                                                  [&#x27;grade&#x27;,\n",
       "                                                   &#x27;initial_list_status&#x27;]),\n",
       "                                                 (&#x27;step3&#x27;,\n",
       "                                                  OneHotEncoder(drop=&#x27;first&#x27;,\n",
       "                                                                handle_unknown=&#x27;ignore&#x27;,\n",
       "                                                                sparse=False),\n",
       "                                                  [&#x27;home_ownership&#x27;, &#x27;purpose&#x27;,\n",
       "                                                   &#x27;application_type&#x27;,\n",
       "                                                   &#x27;address&#x27;,\n",
       "                                                   &#x27;verification_status&#x27;])])),\n",
       "                (&#x27;trf4&#x27;,\n",
       "                 ColumnTransformer(remainder=&#x27;passthrough&#x27;,\n",
       "                                   transformers=[(&#x27;scale&#x27;, StandardScaler(),\n",
       "                                                  slice(0, 92, None))])),\n",
       "                (&#x27;trf5&#x27;, LogisticRegression(max_iter=500))])</pre><b>Please rerun this cell to show the HTML repr or trust the notebook.</b></div><div class=\"sk-container\" hidden><div class=\"sk-item sk-dashed-wrapped\"><div class=\"sk-label-container\"><div class=\"sk-label sk-toggleable\"><input class=\"sk-toggleable__control sk-hidden--visually\" id=\"81de7234-e74c-4a9a-a791-0477bcd8795f\" type=\"checkbox\" ><label for=\"81de7234-e74c-4a9a-a791-0477bcd8795f\" class=\"sk-toggleable__label sk-toggleable__label-arrow\">Pipeline</label><div class=\"sk-toggleable__content\"><pre>Pipeline(steps=[(&#x27;transformer&#x27;,\n",
       "                 ColumnTransformer(remainder=&#x27;passthrough&#x27;,\n",
       "                                   transformers=[(&#x27;step1&#x27;,\n",
       "                                                  SimpleImputer(strategy=&#x27;most_frequent&#x27;),\n",
       "                                                  [&#x27;mort_acc&#x27;]),\n",
       "                                                 (&#x27;step2&#x27;,\n",
       "                                                  OrdinalEncoder(categories=[[&#x27;a&#x27;,\n",
       "                                                                              &#x27;b&#x27;,\n",
       "                                                                              &#x27;c&#x27;,\n",
       "                                                                              &#x27;d&#x27;,\n",
       "                                                                              &#x27;e&#x27;,\n",
       "                                                                              &#x27;f&#x27;,\n",
       "                                                                              &#x27;g&#x27;],\n",
       "                                                                             [&#x27;f&#x27;,\n",
       "                                                                              &#x27;w&#x27;]]),\n",
       "                                                  [&#x27;grade&#x27;,\n",
       "                                                   &#x27;initial_list_status&#x27;]),\n",
       "                                                 (&#x27;step3&#x27;,\n",
       "                                                  OneHotEncoder(drop=&#x27;first&#x27;,\n",
       "                                                                handle_unknown=&#x27;ignore&#x27;,\n",
       "                                                                sparse=False),\n",
       "                                                  [&#x27;home_ownership&#x27;, &#x27;purpose&#x27;,\n",
       "                                                   &#x27;application_type&#x27;,\n",
       "                                                   &#x27;address&#x27;,\n",
       "                                                   &#x27;verification_status&#x27;])])),\n",
       "                (&#x27;trf4&#x27;,\n",
       "                 ColumnTransformer(remainder=&#x27;passthrough&#x27;,\n",
       "                                   transformers=[(&#x27;scale&#x27;, StandardScaler(),\n",
       "                                                  slice(0, 92, None))])),\n",
       "                (&#x27;trf5&#x27;, LogisticRegression(max_iter=500))])</pre></div></div></div><div class=\"sk-serial\"><div class=\"sk-item sk-dashed-wrapped\"><div class=\"sk-label-container\"><div class=\"sk-label sk-toggleable\"><input class=\"sk-toggleable__control sk-hidden--visually\" id=\"2dde85be-f069-49a4-9f9d-763e61bcc236\" type=\"checkbox\" ><label for=\"2dde85be-f069-49a4-9f9d-763e61bcc236\" class=\"sk-toggleable__label sk-toggleable__label-arrow\">transformer: ColumnTransformer</label><div class=\"sk-toggleable__content\"><pre>ColumnTransformer(remainder=&#x27;passthrough&#x27;,\n",
       "                  transformers=[(&#x27;step1&#x27;,\n",
       "                                 SimpleImputer(strategy=&#x27;most_frequent&#x27;),\n",
       "                                 [&#x27;mort_acc&#x27;]),\n",
       "                                (&#x27;step2&#x27;,\n",
       "                                 OrdinalEncoder(categories=[[&#x27;a&#x27;, &#x27;b&#x27;, &#x27;c&#x27;, &#x27;d&#x27;,\n",
       "                                                             &#x27;e&#x27;, &#x27;f&#x27;, &#x27;g&#x27;],\n",
       "                                                            [&#x27;f&#x27;, &#x27;w&#x27;]]),\n",
       "                                 [&#x27;grade&#x27;, &#x27;initial_list_status&#x27;]),\n",
       "                                (&#x27;step3&#x27;,\n",
       "                                 OneHotEncoder(drop=&#x27;first&#x27;,\n",
       "                                               handle_unknown=&#x27;ignore&#x27;,\n",
       "                                               sparse=False),\n",
       "                                 [&#x27;home_ownership&#x27;, &#x27;purpose&#x27;,\n",
       "                                  &#x27;application_type&#x27;, &#x27;address&#x27;,\n",
       "                                  &#x27;verification_status&#x27;])])</pre></div></div></div><div class=\"sk-parallel\"><div class=\"sk-parallel-item\"><div class=\"sk-item\"><div class=\"sk-label-container\"><div class=\"sk-label sk-toggleable\"><input class=\"sk-toggleable__control sk-hidden--visually\" id=\"39c63471-75e7-4d8f-96aa-607046f05e1e\" type=\"checkbox\" ><label for=\"39c63471-75e7-4d8f-96aa-607046f05e1e\" class=\"sk-toggleable__label sk-toggleable__label-arrow\">step1</label><div class=\"sk-toggleable__content\"><pre>[&#x27;mort_acc&#x27;]</pre></div></div></div><div class=\"sk-serial\"><div class=\"sk-item\"><div class=\"sk-estimator sk-toggleable\"><input class=\"sk-toggleable__control sk-hidden--visually\" id=\"2b4e2ea0-3075-4339-bb4b-c6e69e7851d3\" type=\"checkbox\" ><label for=\"2b4e2ea0-3075-4339-bb4b-c6e69e7851d3\" class=\"sk-toggleable__label sk-toggleable__label-arrow\">SimpleImputer</label><div class=\"sk-toggleable__content\"><pre>SimpleImputer(strategy=&#x27;most_frequent&#x27;)</pre></div></div></div></div></div></div><div class=\"sk-parallel-item\"><div class=\"sk-item\"><div class=\"sk-label-container\"><div class=\"sk-label sk-toggleable\"><input class=\"sk-toggleable__control sk-hidden--visually\" id=\"7b12d516-5cf7-411a-8032-abdb41e2db16\" type=\"checkbox\" ><label for=\"7b12d516-5cf7-411a-8032-abdb41e2db16\" class=\"sk-toggleable__label sk-toggleable__label-arrow\">step2</label><div class=\"sk-toggleable__content\"><pre>[&#x27;grade&#x27;, &#x27;initial_list_status&#x27;]</pre></div></div></div><div class=\"sk-serial\"><div class=\"sk-item\"><div class=\"sk-estimator sk-toggleable\"><input class=\"sk-toggleable__control sk-hidden--visually\" id=\"837e1aef-f2e3-4b28-8314-9c689f5353d6\" type=\"checkbox\" ><label for=\"837e1aef-f2e3-4b28-8314-9c689f5353d6\" class=\"sk-toggleable__label sk-toggleable__label-arrow\">OrdinalEncoder</label><div class=\"sk-toggleable__content\"><pre>OrdinalEncoder(categories=[[&#x27;a&#x27;, &#x27;b&#x27;, &#x27;c&#x27;, &#x27;d&#x27;, &#x27;e&#x27;, &#x27;f&#x27;, &#x27;g&#x27;], [&#x27;f&#x27;, &#x27;w&#x27;]])</pre></div></div></div></div></div></div><div class=\"sk-parallel-item\"><div class=\"sk-item\"><div class=\"sk-label-container\"><div class=\"sk-label sk-toggleable\"><input class=\"sk-toggleable__control sk-hidden--visually\" id=\"5ecf16b8-e159-4e94-9abf-b51517c7d55f\" type=\"checkbox\" ><label for=\"5ecf16b8-e159-4e94-9abf-b51517c7d55f\" class=\"sk-toggleable__label sk-toggleable__label-arrow\">step3</label><div class=\"sk-toggleable__content\"><pre>[&#x27;home_ownership&#x27;, &#x27;purpose&#x27;, &#x27;application_type&#x27;, &#x27;address&#x27;, &#x27;verification_status&#x27;]</pre></div></div></div><div class=\"sk-serial\"><div class=\"sk-item\"><div class=\"sk-estimator sk-toggleable\"><input class=\"sk-toggleable__control sk-hidden--visually\" id=\"11d6b832-326e-4206-8a3b-1d0fe8e48e71\" type=\"checkbox\" ><label for=\"11d6b832-326e-4206-8a3b-1d0fe8e48e71\" class=\"sk-toggleable__label sk-toggleable__label-arrow\">OneHotEncoder</label><div class=\"sk-toggleable__content\"><pre>OneHotEncoder(drop=&#x27;first&#x27;, handle_unknown=&#x27;ignore&#x27;, sparse=False)</pre></div></div></div></div></div></div><div class=\"sk-parallel-item\"><div class=\"sk-item\"><div class=\"sk-label-container\"><div class=\"sk-label sk-toggleable\"><input class=\"sk-toggleable__control sk-hidden--visually\" id=\"472fe877-8f83-49d9-a596-ef63dd38a92b\" type=\"checkbox\" ><label for=\"472fe877-8f83-49d9-a596-ef63dd38a92b\" class=\"sk-toggleable__label sk-toggleable__label-arrow\">remainder</label><div class=\"sk-toggleable__content\"><pre>[&#x27;loan_amnt&#x27;, &#x27;term&#x27;, &#x27;int_rate&#x27;, &#x27;installment&#x27;, &#x27;sub_grade&#x27;, &#x27;emp_length&#x27;, &#x27;annual_inc&#x27;, &#x27;dti&#x27;, &#x27;open_acc&#x27;, &#x27;pub_rec&#x27;, &#x27;revol_bal&#x27;, &#x27;revol_util&#x27;, &#x27;total_acc&#x27;, &#x27;pub_rec_bankruptcies&#x27;]</pre></div></div></div><div class=\"sk-serial\"><div class=\"sk-item\"><div class=\"sk-estimator sk-toggleable\"><input class=\"sk-toggleable__control sk-hidden--visually\" id=\"760bf797-7a8b-4ef3-870c-3887d26904b0\" type=\"checkbox\" ><label for=\"760bf797-7a8b-4ef3-870c-3887d26904b0\" class=\"sk-toggleable__label sk-toggleable__label-arrow\">passthrough</label><div class=\"sk-toggleable__content\"><pre>passthrough</pre></div></div></div></div></div></div></div></div><div class=\"sk-item sk-dashed-wrapped\"><div class=\"sk-label-container\"><div class=\"sk-label sk-toggleable\"><input class=\"sk-toggleable__control sk-hidden--visually\" id=\"fbc61fbc-28f1-4499-99d5-d67572b9941c\" type=\"checkbox\" ><label for=\"fbc61fbc-28f1-4499-99d5-d67572b9941c\" class=\"sk-toggleable__label sk-toggleable__label-arrow\">trf4: ColumnTransformer</label><div class=\"sk-toggleable__content\"><pre>ColumnTransformer(remainder=&#x27;passthrough&#x27;,\n",
       "                  transformers=[(&#x27;scale&#x27;, StandardScaler(),\n",
       "                                 slice(0, 92, None))])</pre></div></div></div><div class=\"sk-parallel\"><div class=\"sk-parallel-item\"><div class=\"sk-item\"><div class=\"sk-label-container\"><div class=\"sk-label sk-toggleable\"><input class=\"sk-toggleable__control sk-hidden--visually\" id=\"dd3164f6-ed9d-4cf9-809a-5117f0994ace\" type=\"checkbox\" ><label for=\"dd3164f6-ed9d-4cf9-809a-5117f0994ace\" class=\"sk-toggleable__label sk-toggleable__label-arrow\">scale</label><div class=\"sk-toggleable__content\"><pre>slice(0, 92, None)</pre></div></div></div><div class=\"sk-serial\"><div class=\"sk-item\"><div class=\"sk-estimator sk-toggleable\"><input class=\"sk-toggleable__control sk-hidden--visually\" id=\"c6911f3f-27ab-427c-90ef-a58b3226a90e\" type=\"checkbox\" ><label for=\"c6911f3f-27ab-427c-90ef-a58b3226a90e\" class=\"sk-toggleable__label sk-toggleable__label-arrow\">StandardScaler</label><div class=\"sk-toggleable__content\"><pre>StandardScaler()</pre></div></div></div></div></div></div><div class=\"sk-parallel-item\"><div class=\"sk-item\"><div class=\"sk-label-container\"><div class=\"sk-label sk-toggleable\"><input class=\"sk-toggleable__control sk-hidden--visually\" id=\"a74bd257-3de3-40f2-b580-207c2d56fc97\" type=\"checkbox\" ><label for=\"a74bd257-3de3-40f2-b580-207c2d56fc97\" class=\"sk-toggleable__label sk-toggleable__label-arrow\">remainder</label><div class=\"sk-toggleable__content\"><pre>[]</pre></div></div></div><div class=\"sk-serial\"><div class=\"sk-item\"><div class=\"sk-estimator sk-toggleable\"><input class=\"sk-toggleable__control sk-hidden--visually\" id=\"3fc28006-32b1-42f5-b265-7bd5f5ca6f5f\" type=\"checkbox\" ><label for=\"3fc28006-32b1-42f5-b265-7bd5f5ca6f5f\" class=\"sk-toggleable__label sk-toggleable__label-arrow\">passthrough</label><div class=\"sk-toggleable__content\"><pre>passthrough</pre></div></div></div></div></div></div></div></div><div class=\"sk-item\"><div class=\"sk-estimator sk-toggleable\"><input class=\"sk-toggleable__control sk-hidden--visually\" id=\"93cfdc5d-0d41-41a0-8ccf-303ace4091e5\" type=\"checkbox\" ><label for=\"93cfdc5d-0d41-41a0-8ccf-303ace4091e5\" class=\"sk-toggleable__label sk-toggleable__label-arrow\">LogisticRegression</label><div class=\"sk-toggleable__content\"><pre>LogisticRegression(max_iter=500)</pre></div></div></div></div></div></div></div>"
      ],
      "text/plain": [
       "Pipeline(steps=[('transformer',\n",
       "                 ColumnTransformer(remainder='passthrough',\n",
       "                                   transformers=[('step1',\n",
       "                                                  SimpleImputer(strategy='most_frequent'),\n",
       "                                                  ['mort_acc']),\n",
       "                                                 ('step2',\n",
       "                                                  OrdinalEncoder(categories=[['a',\n",
       "                                                                              'b',\n",
       "                                                                              'c',\n",
       "                                                                              'd',\n",
       "                                                                              'e',\n",
       "                                                                              'f',\n",
       "                                                                              'g'],\n",
       "                                                                             ['f',\n",
       "                                                                              'w']]),\n",
       "                                                  ['grade',\n",
       "                                                   'initial_list_status']),\n",
       "                                                 ('step3',\n",
       "                                                  OneHotEncoder(drop='first',\n",
       "                                                                handle_unknown='ignore',\n",
       "                                                                sparse=False),\n",
       "                                                  ['home_ownership', 'purpose',\n",
       "                                                   'application_type',\n",
       "                                                   'address',\n",
       "                                                   'verification_status'])])),\n",
       "                ('trf4',\n",
       "                 ColumnTransformer(remainder='passthrough',\n",
       "                                   transformers=[('scale', StandardScaler(),\n",
       "                                                  slice(0, 92, None))])),\n",
       "                ('trf5', LogisticRegression(max_iter=500))])"
      ]
     },
     "execution_count": 175,
     "metadata": {},
     "output_type": "execute_result"
    }
   ],
   "source": [
    "pipe2.fit(X_train, y_train)"
   ]
  },
  {
   "cell_type": "markdown",
   "id": "6e62e2ed",
   "metadata": {},
   "source": [
    "### Exploring the pipeline"
   ]
  },
  {
   "cell_type": "code",
   "execution_count": 180,
   "id": "1ce986d3",
   "metadata": {},
   "outputs": [
    {
     "data": {
      "text/plain": [
       "{'transformer': ColumnTransformer(remainder='passthrough',\n",
       "                   transformers=[('step1',\n",
       "                                  SimpleImputer(strategy='most_frequent'),\n",
       "                                  ['mort_acc']),\n",
       "                                 ('step2',\n",
       "                                  OrdinalEncoder(categories=[['a', 'b', 'c', 'd',\n",
       "                                                              'e', 'f', 'g'],\n",
       "                                                             ['f', 'w']]),\n",
       "                                  ['grade', 'initial_list_status']),\n",
       "                                 ('step3',\n",
       "                                  OneHotEncoder(drop='first',\n",
       "                                                handle_unknown='ignore',\n",
       "                                                sparse=False),\n",
       "                                  ['home_ownership', 'purpose',\n",
       "                                   'application_type', 'address',\n",
       "                                   'verification_status'])]),\n",
       " 'trf4': ColumnTransformer(remainder='passthrough',\n",
       "                   transformers=[('scale', StandardScaler(),\n",
       "                                  slice(0, 92, None))]),\n",
       " 'trf5': LogisticRegression(max_iter=500)}"
      ]
     },
     "execution_count": 180,
     "metadata": {},
     "output_type": "execute_result"
    }
   ],
   "source": [
    "pipe2.named_steps"
   ]
  },
  {
   "cell_type": "code",
   "execution_count": 181,
   "id": "ba208b10",
   "metadata": {},
   "outputs": [
    {
     "data": {
      "text/html": [
       "<style>#sk-0a4d900e-b040-4aa1-b28d-a3b4995143c9 {color: black;background-color: white;}#sk-0a4d900e-b040-4aa1-b28d-a3b4995143c9 pre{padding: 0;}#sk-0a4d900e-b040-4aa1-b28d-a3b4995143c9 div.sk-toggleable {background-color: white;}#sk-0a4d900e-b040-4aa1-b28d-a3b4995143c9 label.sk-toggleable__label {cursor: pointer;display: block;width: 100%;margin-bottom: 0;padding: 0.3em;box-sizing: border-box;text-align: center;}#sk-0a4d900e-b040-4aa1-b28d-a3b4995143c9 label.sk-toggleable__label-arrow:before {content: \"▸\";float: left;margin-right: 0.25em;color: #696969;}#sk-0a4d900e-b040-4aa1-b28d-a3b4995143c9 label.sk-toggleable__label-arrow:hover:before {color: black;}#sk-0a4d900e-b040-4aa1-b28d-a3b4995143c9 div.sk-estimator:hover label.sk-toggleable__label-arrow:before {color: black;}#sk-0a4d900e-b040-4aa1-b28d-a3b4995143c9 div.sk-toggleable__content {max-height: 0;max-width: 0;overflow: hidden;text-align: left;background-color: #f0f8ff;}#sk-0a4d900e-b040-4aa1-b28d-a3b4995143c9 div.sk-toggleable__content pre {margin: 0.2em;color: black;border-radius: 0.25em;background-color: #f0f8ff;}#sk-0a4d900e-b040-4aa1-b28d-a3b4995143c9 input.sk-toggleable__control:checked~div.sk-toggleable__content {max-height: 200px;max-width: 100%;overflow: auto;}#sk-0a4d900e-b040-4aa1-b28d-a3b4995143c9 input.sk-toggleable__control:checked~label.sk-toggleable__label-arrow:before {content: \"▾\";}#sk-0a4d900e-b040-4aa1-b28d-a3b4995143c9 div.sk-estimator input.sk-toggleable__control:checked~label.sk-toggleable__label {background-color: #d4ebff;}#sk-0a4d900e-b040-4aa1-b28d-a3b4995143c9 div.sk-label input.sk-toggleable__control:checked~label.sk-toggleable__label {background-color: #d4ebff;}#sk-0a4d900e-b040-4aa1-b28d-a3b4995143c9 input.sk-hidden--visually {border: 0;clip: rect(1px 1px 1px 1px);clip: rect(1px, 1px, 1px, 1px);height: 1px;margin: -1px;overflow: hidden;padding: 0;position: absolute;width: 1px;}#sk-0a4d900e-b040-4aa1-b28d-a3b4995143c9 div.sk-estimator {font-family: monospace;background-color: #f0f8ff;border: 1px dotted black;border-radius: 0.25em;box-sizing: border-box;margin-bottom: 0.5em;}#sk-0a4d900e-b040-4aa1-b28d-a3b4995143c9 div.sk-estimator:hover {background-color: #d4ebff;}#sk-0a4d900e-b040-4aa1-b28d-a3b4995143c9 div.sk-parallel-item::after {content: \"\";width: 100%;border-bottom: 1px solid gray;flex-grow: 1;}#sk-0a4d900e-b040-4aa1-b28d-a3b4995143c9 div.sk-label:hover label.sk-toggleable__label {background-color: #d4ebff;}#sk-0a4d900e-b040-4aa1-b28d-a3b4995143c9 div.sk-serial::before {content: \"\";position: absolute;border-left: 1px solid gray;box-sizing: border-box;top: 2em;bottom: 0;left: 50%;}#sk-0a4d900e-b040-4aa1-b28d-a3b4995143c9 div.sk-serial {display: flex;flex-direction: column;align-items: center;background-color: white;padding-right: 0.2em;padding-left: 0.2em;}#sk-0a4d900e-b040-4aa1-b28d-a3b4995143c9 div.sk-item {z-index: 1;}#sk-0a4d900e-b040-4aa1-b28d-a3b4995143c9 div.sk-parallel {display: flex;align-items: stretch;justify-content: center;background-color: white;}#sk-0a4d900e-b040-4aa1-b28d-a3b4995143c9 div.sk-parallel::before {content: \"\";position: absolute;border-left: 1px solid gray;box-sizing: border-box;top: 2em;bottom: 0;left: 50%;}#sk-0a4d900e-b040-4aa1-b28d-a3b4995143c9 div.sk-parallel-item {display: flex;flex-direction: column;position: relative;background-color: white;}#sk-0a4d900e-b040-4aa1-b28d-a3b4995143c9 div.sk-parallel-item:first-child::after {align-self: flex-end;width: 50%;}#sk-0a4d900e-b040-4aa1-b28d-a3b4995143c9 div.sk-parallel-item:last-child::after {align-self: flex-start;width: 50%;}#sk-0a4d900e-b040-4aa1-b28d-a3b4995143c9 div.sk-parallel-item:only-child::after {width: 0;}#sk-0a4d900e-b040-4aa1-b28d-a3b4995143c9 div.sk-dashed-wrapped {border: 1px dashed gray;margin: 0 0.4em 0.5em 0.4em;box-sizing: border-box;padding-bottom: 0.4em;background-color: white;position: relative;}#sk-0a4d900e-b040-4aa1-b28d-a3b4995143c9 div.sk-label label {font-family: monospace;font-weight: bold;background-color: white;display: inline-block;line-height: 1.2em;}#sk-0a4d900e-b040-4aa1-b28d-a3b4995143c9 div.sk-label-container {position: relative;z-index: 2;text-align: center;}#sk-0a4d900e-b040-4aa1-b28d-a3b4995143c9 div.sk-container {/* jupyter's `normalize.less` sets `[hidden] { display: none; }` but bootstrap.min.css set `[hidden] { display: none !important; }` so we also need the `!important` here to be able to override the default hidden behavior on the sphinx rendered scikit-learn.org. See: https://github.com/scikit-learn/scikit-learn/issues/21755 */display: inline-block !important;position: relative;}#sk-0a4d900e-b040-4aa1-b28d-a3b4995143c9 div.sk-text-repr-fallback {display: none;}</style><div id=\"sk-0a4d900e-b040-4aa1-b28d-a3b4995143c9\" class=\"sk-top-container\"><div class=\"sk-text-repr-fallback\"><pre>ColumnTransformer(remainder=&#x27;passthrough&#x27;,\n",
       "                  transformers=[(&#x27;step1&#x27;,\n",
       "                                 SimpleImputer(strategy=&#x27;most_frequent&#x27;),\n",
       "                                 [&#x27;mort_acc&#x27;]),\n",
       "                                (&#x27;step2&#x27;,\n",
       "                                 OrdinalEncoder(categories=[[&#x27;a&#x27;, &#x27;b&#x27;, &#x27;c&#x27;, &#x27;d&#x27;,\n",
       "                                                             &#x27;e&#x27;, &#x27;f&#x27;, &#x27;g&#x27;],\n",
       "                                                            [&#x27;f&#x27;, &#x27;w&#x27;]]),\n",
       "                                 [&#x27;grade&#x27;, &#x27;initial_list_status&#x27;]),\n",
       "                                (&#x27;step3&#x27;,\n",
       "                                 OneHotEncoder(drop=&#x27;first&#x27;,\n",
       "                                               handle_unknown=&#x27;ignore&#x27;,\n",
       "                                               sparse=False),\n",
       "                                 [&#x27;home_ownership&#x27;, &#x27;purpose&#x27;,\n",
       "                                  &#x27;application_type&#x27;, &#x27;address&#x27;,\n",
       "                                  &#x27;verification_status&#x27;])])</pre><b>Please rerun this cell to show the HTML repr or trust the notebook.</b></div><div class=\"sk-container\" hidden><div class=\"sk-item sk-dashed-wrapped\"><div class=\"sk-label-container\"><div class=\"sk-label sk-toggleable\"><input class=\"sk-toggleable__control sk-hidden--visually\" id=\"75b2e4d7-df71-4eba-8097-3d9bfc13e0c7\" type=\"checkbox\" ><label for=\"75b2e4d7-df71-4eba-8097-3d9bfc13e0c7\" class=\"sk-toggleable__label sk-toggleable__label-arrow\">ColumnTransformer</label><div class=\"sk-toggleable__content\"><pre>ColumnTransformer(remainder=&#x27;passthrough&#x27;,\n",
       "                  transformers=[(&#x27;step1&#x27;,\n",
       "                                 SimpleImputer(strategy=&#x27;most_frequent&#x27;),\n",
       "                                 [&#x27;mort_acc&#x27;]),\n",
       "                                (&#x27;step2&#x27;,\n",
       "                                 OrdinalEncoder(categories=[[&#x27;a&#x27;, &#x27;b&#x27;, &#x27;c&#x27;, &#x27;d&#x27;,\n",
       "                                                             &#x27;e&#x27;, &#x27;f&#x27;, &#x27;g&#x27;],\n",
       "                                                            [&#x27;f&#x27;, &#x27;w&#x27;]]),\n",
       "                                 [&#x27;grade&#x27;, &#x27;initial_list_status&#x27;]),\n",
       "                                (&#x27;step3&#x27;,\n",
       "                                 OneHotEncoder(drop=&#x27;first&#x27;,\n",
       "                                               handle_unknown=&#x27;ignore&#x27;,\n",
       "                                               sparse=False),\n",
       "                                 [&#x27;home_ownership&#x27;, &#x27;purpose&#x27;,\n",
       "                                  &#x27;application_type&#x27;, &#x27;address&#x27;,\n",
       "                                  &#x27;verification_status&#x27;])])</pre></div></div></div><div class=\"sk-parallel\"><div class=\"sk-parallel-item\"><div class=\"sk-item\"><div class=\"sk-label-container\"><div class=\"sk-label sk-toggleable\"><input class=\"sk-toggleable__control sk-hidden--visually\" id=\"92230b01-d6c7-4c36-839d-cef240172697\" type=\"checkbox\" ><label for=\"92230b01-d6c7-4c36-839d-cef240172697\" class=\"sk-toggleable__label sk-toggleable__label-arrow\">step1</label><div class=\"sk-toggleable__content\"><pre>[&#x27;mort_acc&#x27;]</pre></div></div></div><div class=\"sk-serial\"><div class=\"sk-item\"><div class=\"sk-estimator sk-toggleable\"><input class=\"sk-toggleable__control sk-hidden--visually\" id=\"a0b020ee-1208-4635-85c1-9ba88eb5c095\" type=\"checkbox\" ><label for=\"a0b020ee-1208-4635-85c1-9ba88eb5c095\" class=\"sk-toggleable__label sk-toggleable__label-arrow\">SimpleImputer</label><div class=\"sk-toggleable__content\"><pre>SimpleImputer(strategy=&#x27;most_frequent&#x27;)</pre></div></div></div></div></div></div><div class=\"sk-parallel-item\"><div class=\"sk-item\"><div class=\"sk-label-container\"><div class=\"sk-label sk-toggleable\"><input class=\"sk-toggleable__control sk-hidden--visually\" id=\"33a30401-fa3f-4d5e-99c5-675c19b1bb5c\" type=\"checkbox\" ><label for=\"33a30401-fa3f-4d5e-99c5-675c19b1bb5c\" class=\"sk-toggleable__label sk-toggleable__label-arrow\">step2</label><div class=\"sk-toggleable__content\"><pre>[&#x27;grade&#x27;, &#x27;initial_list_status&#x27;]</pre></div></div></div><div class=\"sk-serial\"><div class=\"sk-item\"><div class=\"sk-estimator sk-toggleable\"><input class=\"sk-toggleable__control sk-hidden--visually\" id=\"b3606dfe-0aba-4ccd-a391-1b9aace8a024\" type=\"checkbox\" ><label for=\"b3606dfe-0aba-4ccd-a391-1b9aace8a024\" class=\"sk-toggleable__label sk-toggleable__label-arrow\">OrdinalEncoder</label><div class=\"sk-toggleable__content\"><pre>OrdinalEncoder(categories=[[&#x27;a&#x27;, &#x27;b&#x27;, &#x27;c&#x27;, &#x27;d&#x27;, &#x27;e&#x27;, &#x27;f&#x27;, &#x27;g&#x27;], [&#x27;f&#x27;, &#x27;w&#x27;]])</pre></div></div></div></div></div></div><div class=\"sk-parallel-item\"><div class=\"sk-item\"><div class=\"sk-label-container\"><div class=\"sk-label sk-toggleable\"><input class=\"sk-toggleable__control sk-hidden--visually\" id=\"36b069de-c602-4a65-8b9b-f79db5ba51c9\" type=\"checkbox\" ><label for=\"36b069de-c602-4a65-8b9b-f79db5ba51c9\" class=\"sk-toggleable__label sk-toggleable__label-arrow\">step3</label><div class=\"sk-toggleable__content\"><pre>[&#x27;home_ownership&#x27;, &#x27;purpose&#x27;, &#x27;application_type&#x27;, &#x27;address&#x27;, &#x27;verification_status&#x27;]</pre></div></div></div><div class=\"sk-serial\"><div class=\"sk-item\"><div class=\"sk-estimator sk-toggleable\"><input class=\"sk-toggleable__control sk-hidden--visually\" id=\"877001f7-a0dd-4aeb-b727-739ff99e9d83\" type=\"checkbox\" ><label for=\"877001f7-a0dd-4aeb-b727-739ff99e9d83\" class=\"sk-toggleable__label sk-toggleable__label-arrow\">OneHotEncoder</label><div class=\"sk-toggleable__content\"><pre>OneHotEncoder(drop=&#x27;first&#x27;, handle_unknown=&#x27;ignore&#x27;, sparse=False)</pre></div></div></div></div></div></div><div class=\"sk-parallel-item\"><div class=\"sk-item\"><div class=\"sk-label-container\"><div class=\"sk-label sk-toggleable\"><input class=\"sk-toggleable__control sk-hidden--visually\" id=\"531fb8c0-40e5-40b7-8d26-7db7a97b4138\" type=\"checkbox\" ><label for=\"531fb8c0-40e5-40b7-8d26-7db7a97b4138\" class=\"sk-toggleable__label sk-toggleable__label-arrow\">remainder</label><div class=\"sk-toggleable__content\"><pre>[&#x27;loan_amnt&#x27;, &#x27;term&#x27;, &#x27;int_rate&#x27;, &#x27;installment&#x27;, &#x27;sub_grade&#x27;, &#x27;emp_length&#x27;, &#x27;annual_inc&#x27;, &#x27;dti&#x27;, &#x27;open_acc&#x27;, &#x27;pub_rec&#x27;, &#x27;revol_bal&#x27;, &#x27;revol_util&#x27;, &#x27;total_acc&#x27;, &#x27;pub_rec_bankruptcies&#x27;]</pre></div></div></div><div class=\"sk-serial\"><div class=\"sk-item\"><div class=\"sk-estimator sk-toggleable\"><input class=\"sk-toggleable__control sk-hidden--visually\" id=\"8db20089-9468-4106-a2e2-6ab9ff4c9f80\" type=\"checkbox\" ><label for=\"8db20089-9468-4106-a2e2-6ab9ff4c9f80\" class=\"sk-toggleable__label sk-toggleable__label-arrow\">passthrough</label><div class=\"sk-toggleable__content\"><pre>passthrough</pre></div></div></div></div></div></div></div></div></div></div>"
      ],
      "text/plain": [
       "ColumnTransformer(remainder='passthrough',\n",
       "                  transformers=[('step1',\n",
       "                                 SimpleImputer(strategy='most_frequent'),\n",
       "                                 ['mort_acc']),\n",
       "                                ('step2',\n",
       "                                 OrdinalEncoder(categories=[['a', 'b', 'c', 'd',\n",
       "                                                             'e', 'f', 'g'],\n",
       "                                                            ['f', 'w']]),\n",
       "                                 ['grade', 'initial_list_status']),\n",
       "                                ('step3',\n",
       "                                 OneHotEncoder(drop='first',\n",
       "                                               handle_unknown='ignore',\n",
       "                                               sparse=False),\n",
       "                                 ['home_ownership', 'purpose',\n",
       "                                  'application_type', 'address',\n",
       "                                  'verification_status'])])"
      ]
     },
     "execution_count": 181,
     "metadata": {},
     "output_type": "execute_result"
    }
   ],
   "source": [
    "pipe2.named_steps[\"transformer\"]"
   ]
  },
  {
   "cell_type": "code",
   "execution_count": 182,
   "id": "90984604",
   "metadata": {},
   "outputs": [
    {
     "data": {
      "text/plain": [
       "array([0.])"
      ]
     },
     "execution_count": 182,
     "metadata": {},
     "output_type": "execute_result"
    }
   ],
   "source": [
    "pipe2.named_steps[\"transformer\"].transformers_[0][1].statistics_ #we get the highest frequency data imputed by imputer\n"
   ]
  },
  {
   "cell_type": "code",
   "execution_count": 183,
   "id": "41e4bdcd",
   "metadata": {},
   "outputs": [
    {
     "data": {
      "text/html": [
       "<style>#sk-235c9c74-5b07-4a2d-9688-e691e6551951 {color: black;background-color: white;}#sk-235c9c74-5b07-4a2d-9688-e691e6551951 pre{padding: 0;}#sk-235c9c74-5b07-4a2d-9688-e691e6551951 div.sk-toggleable {background-color: white;}#sk-235c9c74-5b07-4a2d-9688-e691e6551951 label.sk-toggleable__label {cursor: pointer;display: block;width: 100%;margin-bottom: 0;padding: 0.3em;box-sizing: border-box;text-align: center;}#sk-235c9c74-5b07-4a2d-9688-e691e6551951 label.sk-toggleable__label-arrow:before {content: \"▸\";float: left;margin-right: 0.25em;color: #696969;}#sk-235c9c74-5b07-4a2d-9688-e691e6551951 label.sk-toggleable__label-arrow:hover:before {color: black;}#sk-235c9c74-5b07-4a2d-9688-e691e6551951 div.sk-estimator:hover label.sk-toggleable__label-arrow:before {color: black;}#sk-235c9c74-5b07-4a2d-9688-e691e6551951 div.sk-toggleable__content {max-height: 0;max-width: 0;overflow: hidden;text-align: left;background-color: #f0f8ff;}#sk-235c9c74-5b07-4a2d-9688-e691e6551951 div.sk-toggleable__content pre {margin: 0.2em;color: black;border-radius: 0.25em;background-color: #f0f8ff;}#sk-235c9c74-5b07-4a2d-9688-e691e6551951 input.sk-toggleable__control:checked~div.sk-toggleable__content {max-height: 200px;max-width: 100%;overflow: auto;}#sk-235c9c74-5b07-4a2d-9688-e691e6551951 input.sk-toggleable__control:checked~label.sk-toggleable__label-arrow:before {content: \"▾\";}#sk-235c9c74-5b07-4a2d-9688-e691e6551951 div.sk-estimator input.sk-toggleable__control:checked~label.sk-toggleable__label {background-color: #d4ebff;}#sk-235c9c74-5b07-4a2d-9688-e691e6551951 div.sk-label input.sk-toggleable__control:checked~label.sk-toggleable__label {background-color: #d4ebff;}#sk-235c9c74-5b07-4a2d-9688-e691e6551951 input.sk-hidden--visually {border: 0;clip: rect(1px 1px 1px 1px);clip: rect(1px, 1px, 1px, 1px);height: 1px;margin: -1px;overflow: hidden;padding: 0;position: absolute;width: 1px;}#sk-235c9c74-5b07-4a2d-9688-e691e6551951 div.sk-estimator {font-family: monospace;background-color: #f0f8ff;border: 1px dotted black;border-radius: 0.25em;box-sizing: border-box;margin-bottom: 0.5em;}#sk-235c9c74-5b07-4a2d-9688-e691e6551951 div.sk-estimator:hover {background-color: #d4ebff;}#sk-235c9c74-5b07-4a2d-9688-e691e6551951 div.sk-parallel-item::after {content: \"\";width: 100%;border-bottom: 1px solid gray;flex-grow: 1;}#sk-235c9c74-5b07-4a2d-9688-e691e6551951 div.sk-label:hover label.sk-toggleable__label {background-color: #d4ebff;}#sk-235c9c74-5b07-4a2d-9688-e691e6551951 div.sk-serial::before {content: \"\";position: absolute;border-left: 1px solid gray;box-sizing: border-box;top: 2em;bottom: 0;left: 50%;}#sk-235c9c74-5b07-4a2d-9688-e691e6551951 div.sk-serial {display: flex;flex-direction: column;align-items: center;background-color: white;padding-right: 0.2em;padding-left: 0.2em;}#sk-235c9c74-5b07-4a2d-9688-e691e6551951 div.sk-item {z-index: 1;}#sk-235c9c74-5b07-4a2d-9688-e691e6551951 div.sk-parallel {display: flex;align-items: stretch;justify-content: center;background-color: white;}#sk-235c9c74-5b07-4a2d-9688-e691e6551951 div.sk-parallel::before {content: \"\";position: absolute;border-left: 1px solid gray;box-sizing: border-box;top: 2em;bottom: 0;left: 50%;}#sk-235c9c74-5b07-4a2d-9688-e691e6551951 div.sk-parallel-item {display: flex;flex-direction: column;position: relative;background-color: white;}#sk-235c9c74-5b07-4a2d-9688-e691e6551951 div.sk-parallel-item:first-child::after {align-self: flex-end;width: 50%;}#sk-235c9c74-5b07-4a2d-9688-e691e6551951 div.sk-parallel-item:last-child::after {align-self: flex-start;width: 50%;}#sk-235c9c74-5b07-4a2d-9688-e691e6551951 div.sk-parallel-item:only-child::after {width: 0;}#sk-235c9c74-5b07-4a2d-9688-e691e6551951 div.sk-dashed-wrapped {border: 1px dashed gray;margin: 0 0.4em 0.5em 0.4em;box-sizing: border-box;padding-bottom: 0.4em;background-color: white;position: relative;}#sk-235c9c74-5b07-4a2d-9688-e691e6551951 div.sk-label label {font-family: monospace;font-weight: bold;background-color: white;display: inline-block;line-height: 1.2em;}#sk-235c9c74-5b07-4a2d-9688-e691e6551951 div.sk-label-container {position: relative;z-index: 2;text-align: center;}#sk-235c9c74-5b07-4a2d-9688-e691e6551951 div.sk-container {/* jupyter's `normalize.less` sets `[hidden] { display: none; }` but bootstrap.min.css set `[hidden] { display: none !important; }` so we also need the `!important` here to be able to override the default hidden behavior on the sphinx rendered scikit-learn.org. See: https://github.com/scikit-learn/scikit-learn/issues/21755 */display: inline-block !important;position: relative;}#sk-235c9c74-5b07-4a2d-9688-e691e6551951 div.sk-text-repr-fallback {display: none;}</style><div id=\"sk-235c9c74-5b07-4a2d-9688-e691e6551951\" class=\"sk-top-container\"><div class=\"sk-text-repr-fallback\"><pre>ColumnTransformer(remainder=&#x27;passthrough&#x27;,\n",
       "                  transformers=[(&#x27;scale&#x27;, StandardScaler(),\n",
       "                                 slice(0, 92, None))])</pre><b>Please rerun this cell to show the HTML repr or trust the notebook.</b></div><div class=\"sk-container\" hidden><div class=\"sk-item sk-dashed-wrapped\"><div class=\"sk-label-container\"><div class=\"sk-label sk-toggleable\"><input class=\"sk-toggleable__control sk-hidden--visually\" id=\"afeb1322-6c37-43a6-be0e-9156a86eb7e6\" type=\"checkbox\" ><label for=\"afeb1322-6c37-43a6-be0e-9156a86eb7e6\" class=\"sk-toggleable__label sk-toggleable__label-arrow\">ColumnTransformer</label><div class=\"sk-toggleable__content\"><pre>ColumnTransformer(remainder=&#x27;passthrough&#x27;,\n",
       "                  transformers=[(&#x27;scale&#x27;, StandardScaler(),\n",
       "                                 slice(0, 92, None))])</pre></div></div></div><div class=\"sk-parallel\"><div class=\"sk-parallel-item\"><div class=\"sk-item\"><div class=\"sk-label-container\"><div class=\"sk-label sk-toggleable\"><input class=\"sk-toggleable__control sk-hidden--visually\" id=\"d6dec1ea-9d34-4ae2-82af-36ebe7296ed5\" type=\"checkbox\" ><label for=\"d6dec1ea-9d34-4ae2-82af-36ebe7296ed5\" class=\"sk-toggleable__label sk-toggleable__label-arrow\">scale</label><div class=\"sk-toggleable__content\"><pre>slice(0, 92, None)</pre></div></div></div><div class=\"sk-serial\"><div class=\"sk-item\"><div class=\"sk-estimator sk-toggleable\"><input class=\"sk-toggleable__control sk-hidden--visually\" id=\"d3b54e5f-1bd4-43dc-a9f5-e04bbc3acb0b\" type=\"checkbox\" ><label for=\"d3b54e5f-1bd4-43dc-a9f5-e04bbc3acb0b\" class=\"sk-toggleable__label sk-toggleable__label-arrow\">StandardScaler</label><div class=\"sk-toggleable__content\"><pre>StandardScaler()</pre></div></div></div></div></div></div><div class=\"sk-parallel-item\"><div class=\"sk-item\"><div class=\"sk-label-container\"><div class=\"sk-label sk-toggleable\"><input class=\"sk-toggleable__control sk-hidden--visually\" id=\"5b9c1664-61c7-4ce4-b6e3-24de2f2fa8e1\" type=\"checkbox\" ><label for=\"5b9c1664-61c7-4ce4-b6e3-24de2f2fa8e1\" class=\"sk-toggleable__label sk-toggleable__label-arrow\">remainder</label><div class=\"sk-toggleable__content\"><pre>[]</pre></div></div></div><div class=\"sk-serial\"><div class=\"sk-item\"><div class=\"sk-estimator sk-toggleable\"><input class=\"sk-toggleable__control sk-hidden--visually\" id=\"e38069df-7493-4cd2-96f0-0461772a9ad1\" type=\"checkbox\" ><label for=\"e38069df-7493-4cd2-96f0-0461772a9ad1\" class=\"sk-toggleable__label sk-toggleable__label-arrow\">passthrough</label><div class=\"sk-toggleable__content\"><pre>passthrough</pre></div></div></div></div></div></div></div></div></div></div>"
      ],
      "text/plain": [
       "ColumnTransformer(remainder='passthrough',\n",
       "                  transformers=[('scale', StandardScaler(),\n",
       "                                 slice(0, 92, None))])"
      ]
     },
     "execution_count": 183,
     "metadata": {},
     "output_type": "execute_result"
    }
   ],
   "source": [
    "pipe2.named_steps[\"trf4\"]"
   ]
  },
  {
   "cell_type": "markdown",
   "id": "dbc67905",
   "metadata": {},
   "source": [
    "### prediction"
   ]
  },
  {
   "cell_type": "code",
   "execution_count": 176,
   "id": "8f74c2cf",
   "metadata": {},
   "outputs": [],
   "source": [
    "# predict\n",
    "y_pred = pipe2.predict(X_test)"
   ]
  },
  {
   "cell_type": "code",
   "execution_count": 177,
   "id": "0cd7fc53",
   "metadata": {},
   "outputs": [
    {
     "data": {
      "text/plain": [
       "array([1, 1, 1, ..., 1, 1, 1])"
      ]
     },
     "execution_count": 177,
     "metadata": {},
     "output_type": "execute_result"
    }
   ],
   "source": [
    "y_pred"
   ]
  },
  {
   "cell_type": "code",
   "execution_count": 178,
   "id": "6aa26d08",
   "metadata": {},
   "outputs": [
    {
     "data": {
      "text/plain": [
       "array(['Fully Paid', 'Fully Paid', 'Fully Paid', ..., 'Fully Paid',\n",
       "       'Fully Paid', 'Fully Paid'], dtype=object)"
      ]
     },
     "execution_count": 178,
     "metadata": {},
     "output_type": "execute_result"
    }
   ],
   "source": [
    "le.inverse_transform(y_pred)"
   ]
  },
  {
   "cell_type": "code",
   "execution_count": 179,
   "id": "9ef0cc7a",
   "metadata": {},
   "outputs": [
    {
     "data": {
      "text/plain": [
       "array(['Charged Off', 'Fully Paid'], dtype=object)"
      ]
     },
     "execution_count": 179,
     "metadata": {},
     "output_type": "execute_result"
    }
   ],
   "source": [
    "le.inverse_transform([0,1])"
   ]
  },
  {
   "cell_type": "markdown",
   "id": "a9e9ff46",
   "metadata": {},
   "source": [
    "### predicting by probability"
   ]
  },
  {
   "cell_type": "code",
   "execution_count": 211,
   "id": "6847c2a2",
   "metadata": {},
   "outputs": [
    {
     "data": {
      "text/plain": [
       "array([[0.2616624 , 0.7383376 ],\n",
       "       [0.1232854 , 0.8767146 ],\n",
       "       [0.09777997, 0.90222003],\n",
       "       ...,\n",
       "       [0.3752574 , 0.6247426 ],\n",
       "       [0.10413369, 0.89586631],\n",
       "       [0.35414901, 0.64585099]])"
      ]
     },
     "execution_count": 211,
     "metadata": {},
     "output_type": "execute_result"
    }
   ],
   "source": [
    "pipe2.predict_proba(X_test)"
   ]
  },
  {
   "cell_type": "code",
   "execution_count": 213,
   "id": "a452bcf2",
   "metadata": {},
   "outputs": [
    {
     "data": {
      "text/plain": [
       "array([0.7383376 , 0.8767146 , 0.90222003, ..., 0.6247426 , 0.89586631,\n",
       "       0.64585099])"
      ]
     },
     "execution_count": 213,
     "metadata": {},
     "output_type": "execute_result"
    }
   ],
   "source": [
    "pipe2.predict_proba(X_test)[:,1]"
   ]
  },
  {
   "cell_type": "markdown",
   "id": "9e38e291",
   "metadata": {},
   "source": [
    "### `probability threshold regularisation` using `precision-recall curve`"
   ]
  },
  {
   "cell_type": "code",
   "execution_count": 219,
   "id": "f4adebba",
   "metadata": {},
   "outputs": [],
   "source": [
    "thresh_prob = np.vectorize(lambda x,thresh=0.5: 1 if x>=thresh else 0)"
   ]
  },
  {
   "cell_type": "code",
   "execution_count": 223,
   "id": "d9c06d97",
   "metadata": {},
   "outputs": [
    {
     "data": {
      "text/plain": [
       "array([1, 1, 1, ..., 1, 1, 1])"
      ]
     },
     "execution_count": 223,
     "metadata": {},
     "output_type": "execute_result"
    }
   ],
   "source": [
    "thresh_prob(pipe2.predict_proba(X_test)[:,1],thresh=0.5)"
   ]
  },
  {
   "cell_type": "code",
   "execution_count": 227,
   "id": "a3f27ba4",
   "metadata": {},
   "outputs": [],
   "source": [
    "from sklearn.metrics import precision_score, recall_score, f1_score"
   ]
  },
  {
   "cell_type": "code",
   "execution_count": 254,
   "id": "da25ad34",
   "metadata": {},
   "outputs": [],
   "source": [
    "threshold = np.arange(0.1,0.9,0.1)"
   ]
  },
  {
   "cell_type": "code",
   "execution_count": 255,
   "id": "a76df350",
   "metadata": {},
   "outputs": [],
   "source": [
    "y_pred_prob = pipe2.predict_proba(X_test)[:,1]\n",
    "f1 = []; pr=[]; re=[]\n",
    "for prob in threshold:\n",
    "    y_hat = thresh_prob(y_pred_prob, thresh = prob)\n",
    "    sc_pr = precision_score(y_test, y_hat)\n",
    "    pr.append(sc_pr)\n",
    "    sc_re = recall_score(y_test, y_hat)\n",
    "    re.append(sc_re)\n",
    "    sc_f1 = f1_score(y_test, y_hat)\n",
    "    f1.append(sc_f1)"
   ]
  },
  {
   "cell_type": "code",
   "execution_count": 269,
   "id": "18f7a4fa",
   "metadata": {},
   "outputs": [
    {
     "data": {
      "text/plain": [
       "Text(0.5, 1.0, 'Precision-Recall-Curve')"
      ]
     },
     "execution_count": 269,
     "metadata": {},
     "output_type": "execute_result"
    },
    {
     "data": {
      "image/png": "[encoded data removed]",
      "text/plain": [
       "<Figure size 432x288 with 1 Axes>"
      ]
     },
     "metadata": {
      "needs_background": "light"
     },
     "output_type": "display_data"
    }
   ],
   "source": [
    "plt.plot(threshold, pr, label=\"precision\")\n",
    "plt.plot(threshold, re, label=\"recall\")\n",
    "plt.plot(threshold, f1, label=\"f1_score\")\n",
    "plt.xlabel(\"probability_threshold\")\n",
    "plt.axvline(0.5,c=\"k\",linestyle=\"--\")\n",
    "plt.legend()\n",
    "plt.title(\"Precision-Recall-Curve\")"
   ]
  },
  {
   "cell_type": "markdown",
   "id": "91d5cc44",
   "metadata": {},
   "source": [
    "<mark><strong>since in this case-study we are ok with high recall(i.e, approx 0.98) and less precision(i.e, approx 0.82),</strong></mark><br>\n",
    "<mark><strong>default probability_threshold=0.5 is good to go</strong></mark>"
   ]
  },
  {
   "cell_type": "markdown",
   "id": "de50b937",
   "metadata": {},
   "source": [
    "# (I) Checking all metrics"
   ]
  },
  {
   "cell_type": "code",
   "execution_count": 270,
   "id": "8fc45a1b",
   "metadata": {},
   "outputs": [],
   "source": [
    "### coefficients and intercepts"
   ]
  },
  {
   "cell_type": "code",
   "execution_count": 209,
   "id": "320e3eda",
   "metadata": {},
   "outputs": [],
   "source": [
    "# pipe2.coef_"
   ]
  },
  {
   "cell_type": "code",
   "execution_count": 210,
   "id": "05e0f4f3",
   "metadata": {},
   "outputs": [],
   "source": [
    "# pipe2.intercept_"
   ]
  },
  {
   "cell_type": "markdown",
   "id": "f4a25bc0",
   "metadata": {},
   "source": [
    "### checking accuracy metric"
   ]
  },
  {
   "cell_type": "code",
   "execution_count": 184,
   "id": "14e808c2",
   "metadata": {},
   "outputs": [],
   "source": [
    "from sklearn.metrics import accuracy_score"
   ]
  },
  {
   "cell_type": "code",
   "execution_count": 185,
   "id": "53d27f5a",
   "metadata": {},
   "outputs": [
    {
     "data": {
      "text/plain": [
       "0.8111298482293423"
      ]
     },
     "execution_count": 185,
     "metadata": {},
     "output_type": "execute_result"
    }
   ],
   "source": [
    "accuracy_score(y_test, y_pred)"
   ]
  },
  {
   "cell_type": "code",
   "execution_count": 186,
   "id": "be719ac0",
   "metadata": {},
   "outputs": [
    {
     "data": {
      "text/plain": [
       "0.8111298482293423"
      ]
     },
     "execution_count": 186,
     "metadata": {},
     "output_type": "execute_result"
    }
   ],
   "source": [
    "pipe2.score(X_test,y_test)"
   ]
  },
  {
   "cell_type": "markdown",
   "id": "2a29f123",
   "metadata": {},
   "source": [
    "### confusion matrix"
   ]
  },
  {
   "cell_type": "code",
   "execution_count": 187,
   "id": "4b122da7",
   "metadata": {},
   "outputs": [],
   "source": [
    "from sklearn.metrics import confusion_matrix, ConfusionMatrixDisplay"
   ]
  },
  {
   "cell_type": "code",
   "execution_count": 188,
   "id": "5b0e8b88",
   "metadata": {},
   "outputs": [],
   "source": [
    "conf_matrix = confusion_matrix(y_test, y_pred)"
   ]
  },
  {
   "cell_type": "code",
   "execution_count": 189,
   "id": "19d9cf08",
   "metadata": {},
   "outputs": [
    {
     "data": {
      "text/plain": [
       "array([[ 1232, 12907],\n",
       "       [ 1093, 58893]], dtype=int64)"
      ]
     },
     "execution_count": 189,
     "metadata": {},
     "output_type": "execute_result"
    }
   ],
   "source": [
    "conf_matrix"
   ]
  },
  {
   "cell_type": "code",
   "execution_count": 190,
   "id": "2237dfb8",
   "metadata": {},
   "outputs": [
    {
     "data": {
      "text/html": [
       "<div>\n",
       "<style scoped>\n",
       "    .dataframe tbody tr th:only-of-type {\n",
       "        vertical-align: middle;\n",
       "    }\n",
       "\n",
       "    .dataframe tbody tr th {\n",
       "        vertical-align: top;\n",
       "    }\n",
       "\n",
       "    .dataframe thead th {\n",
       "        text-align: right;\n",
       "    }\n",
       "</style>\n",
       "<table border=\"1\" class=\"dataframe\">\n",
       "  <thead>\n",
       "    <tr style=\"text-align: right;\">\n",
       "      <th></th>\n",
       "      <th>Charged Off</th>\n",
       "      <th>Fully Paid</th>\n",
       "    </tr>\n",
       "  </thead>\n",
       "  <tbody>\n",
       "    <tr>\n",
       "      <th>0</th>\n",
       "      <td>1232</td>\n",
       "      <td>12907</td>\n",
       "    </tr>\n",
       "    <tr>\n",
       "      <th>1</th>\n",
       "      <td>1093</td>\n",
       "      <td>58893</td>\n",
       "    </tr>\n",
       "  </tbody>\n",
       "</table>\n",
       "</div>"
      ],
      "text/plain": [
       "   Charged Off  Fully Paid\n",
       "0         1232       12907\n",
       "1         1093       58893"
      ]
     },
     "execution_count": 190,
     "metadata": {},
     "output_type": "execute_result"
    }
   ],
   "source": [
    "pd.DataFrame(conf_matrix, columns=le.inverse_transform([0,1]))"
   ]
  },
  {
   "cell_type": "code",
   "execution_count": 191,
   "id": "ba2a2e4f",
   "metadata": {},
   "outputs": [
    {
     "data": {
      "text/plain": [
       "<sklearn.metrics._plot.confusion_matrix.ConfusionMatrixDisplay at 0x2370f516d0>"
      ]
     },
     "execution_count": 191,
     "metadata": {},
     "output_type": "execute_result"
    },
    {
     "data": {
      "image/png": "[encoded data removed]",
      "text/plain": [
       "<Figure size 432x288 with 2 Axes>"
      ]
     },
     "metadata": {
      "needs_background": "light"
     },
     "output_type": "display_data"
    }
   ],
   "source": [
    "ConfusionMatrixDisplay(conf_matrix, display_labels=le.inverse_transform([0,1])).plot()"
   ]
  },
  {
   "cell_type": "code",
   "execution_count": 192,
   "id": "644ade24",
   "metadata": {},
   "outputs": [
    {
     "data": {
      "text/plain": [
       "array(['Charged Off', 'Fully Paid'], dtype=object)"
      ]
     },
     "execution_count": 192,
     "metadata": {},
     "output_type": "execute_result"
    }
   ],
   "source": [
    "le.inverse_transform([0,1])"
   ]
  },
  {
   "cell_type": "code",
   "execution_count": 193,
   "id": "5594bae4",
   "metadata": {},
   "outputs": [
    {
     "data": {
      "text/html": [
       "<div>\n",
       "<style scoped>\n",
       "    .dataframe tbody tr th:only-of-type {\n",
       "        vertical-align: middle;\n",
       "    }\n",
       "\n",
       "    .dataframe tbody tr th {\n",
       "        vertical-align: top;\n",
       "    }\n",
       "\n",
       "    .dataframe thead th {\n",
       "        text-align: right;\n",
       "    }\n",
       "</style>\n",
       "<table border=\"1\" class=\"dataframe\">\n",
       "  <thead>\n",
       "    <tr style=\"text-align: right;\">\n",
       "      <th></th>\n",
       "      <th>Charged Off</th>\n",
       "      <th>Fully Paid</th>\n",
       "    </tr>\n",
       "  </thead>\n",
       "  <tbody>\n",
       "    <tr>\n",
       "      <th>0</th>\n",
       "      <td>1232</td>\n",
       "      <td>12907</td>\n",
       "    </tr>\n",
       "    <tr>\n",
       "      <th>1</th>\n",
       "      <td>1093</td>\n",
       "      <td>58893</td>\n",
       "    </tr>\n",
       "  </tbody>\n",
       "</table>\n",
       "</div>"
      ],
      "text/plain": [
       "   Charged Off  Fully Paid\n",
       "0         1232       12907\n",
       "1         1093       58893"
      ]
     },
     "execution_count": 193,
     "metadata": {},
     "output_type": "execute_result"
    }
   ],
   "source": [
    "pd.DataFrame(conf_matrix, columns=le.inverse_transform([0,1]))"
   ]
  },
  {
   "cell_type": "code",
   "execution_count": 194,
   "id": "27289192",
   "metadata": {},
   "outputs": [],
   "source": [
    "TN = conf_matrix[0,0];TP = conf_matrix[1,1];FP = conf_matrix[0,1];FN = conf_matrix[1,0]"
   ]
  },
  {
   "cell_type": "code",
   "execution_count": 195,
   "id": "341c52ac",
   "metadata": {},
   "outputs": [
    {
     "name": "stdout",
     "output_type": "stream",
     "text": [
      "TN = 1232    TP = 58893    FP = 12907    FN = 1093\n"
     ]
    }
   ],
   "source": [
    "print(\"TN =\",TN,\"  \",\"TP =\",TP,\"  \",\"FP =\",FP,\"  \",\"FN =\",FN)"
   ]
  },
  {
   "cell_type": "code",
   "execution_count": 196,
   "id": "a362b58f",
   "metadata": {},
   "outputs": [
    {
     "data": {
      "text/plain": [
       "0.8202367688022284"
      ]
     },
     "execution_count": 196,
     "metadata": {},
     "output_type": "execute_result"
    }
   ],
   "source": [
    "TP/(TP+FP) #precision"
   ]
  },
  {
   "cell_type": "code",
   "execution_count": 197,
   "id": "630e1158",
   "metadata": {},
   "outputs": [
    {
     "data": {
      "text/plain": [
       "0.98177908178575"
      ]
     },
     "execution_count": 197,
     "metadata": {},
     "output_type": "execute_result"
    }
   ],
   "source": [
    "TP/(TP+FN) #recall"
   ]
  },
  {
   "cell_type": "markdown",
   "id": "6cb1d3b1",
   "metadata": {},
   "source": [
    "### precision, recall and f1_score of test data"
   ]
  },
  {
   "cell_type": "code",
   "execution_count": 198,
   "id": "e3c9fa54",
   "metadata": {},
   "outputs": [],
   "source": [
    "from sklearn.metrics import precision_score, recall_score, f1_score"
   ]
  },
  {
   "cell_type": "code",
   "execution_count": 199,
   "id": "ce9d7e55",
   "metadata": {},
   "outputs": [
    {
     "name": "stdout",
     "output_type": "stream",
     "text": [
      "precision_score: 0.8202367688022284\n"
     ]
    }
   ],
   "source": [
    "print(\"precision_score:\",precision_score(y_test, y_pred))"
   ]
  },
  {
   "cell_type": "code",
   "execution_count": 200,
   "id": "40eb8b44",
   "metadata": {},
   "outputs": [
    {
     "name": "stdout",
     "output_type": "stream",
     "text": [
      "recall_score: 0.98177908178575\n"
     ]
    }
   ],
   "source": [
    "print(\"recall_score:\",recall_score(y_test, y_pred))"
   ]
  },
  {
   "cell_type": "code",
   "execution_count": 201,
   "id": "ebb045b5",
   "metadata": {},
   "outputs": [
    {
     "name": "stdout",
     "output_type": "stream",
     "text": [
      "f1_score: 0.8937671679844598\n"
     ]
    }
   ],
   "source": [
    "print(\"f1_score:\",f1_score(y_test, y_pred))"
   ]
  },
  {
   "cell_type": "markdown",
   "id": "3e8fb1f6",
   "metadata": {},
   "source": [
    "### checking overfiiting/underfitting by analysing all metrics for train data"
   ]
  },
  {
   "cell_type": "code",
   "execution_count": 225,
   "id": "c705dca1",
   "metadata": {},
   "outputs": [
    {
     "name": "stdout",
     "output_type": "stream",
     "text": [
      "precision_score: 0.8176638176638177\n"
     ]
    }
   ],
   "source": [
    "print(\"precision_score:\",precision_score(y_train, pipe2.predict(X_train))) #precision score of train data"
   ]
  },
  {
   "cell_type": "code",
   "execution_count": 226,
   "id": "344455b3",
   "metadata": {},
   "outputs": [
    {
     "name": "stdout",
     "output_type": "stream",
     "text": [
      "recall_score: 0.9819323413179156\n"
     ]
    }
   ],
   "source": [
    "print(\"recall_score:\",recall_score(y_train, pipe2.predict(X_train))) #recall score of train data"
   ]
  },
  {
   "cell_type": "code",
   "execution_count": 224,
   "id": "1d307571",
   "metadata": {},
   "outputs": [
    {
     "name": "stdout",
     "output_type": "stream",
     "text": [
      "f1_score: 0.8923008008017508\n"
     ]
    }
   ],
   "source": [
    "print(\"f1_score:\",f1_score(y_train, pipe2.predict(X_train))) #recall score of train data"
   ]
  },
  {
   "cell_type": "markdown",
   "id": "bed06039",
   "metadata": {},
   "source": [
    "<mark><strong>all score of test data is approximately equal to train score, hence no underfittig or overfitting</strong></mark><strong>"
   ]
  },
  {
   "cell_type": "markdown",
   "id": "a5d17aa2",
   "metadata": {},
   "source": [
    "### classification report"
   ]
  },
  {
   "cell_type": "code",
   "execution_count": 202,
   "id": "1ffc70ee",
   "metadata": {},
   "outputs": [
    {
     "name": "stdout",
     "output_type": "stream",
     "text": [
      "              precision    recall  f1-score   support\n",
      "\n",
      "           0       0.53      0.09      0.15     14139\n",
      "           1       0.82      0.98      0.89     59986\n",
      "\n",
      "    accuracy                           0.81     74125\n",
      "   macro avg       0.68      0.53      0.52     74125\n",
      "weighted avg       0.76      0.81      0.75     74125\n",
      "\n"
     ]
    }
   ],
   "source": [
    "from sklearn.metrics import classification_report\n",
    "print(classification_report(y_test, y_pred))"
   ]
  },
  {
   "cell_type": "markdown",
   "id": "0b85d77b",
   "metadata": {},
   "source": [
    "### ROC-AUC"
   ]
  },
  {
   "cell_type": "code",
   "execution_count": 203,
   "id": "d86c97ef",
   "metadata": {},
   "outputs": [],
   "source": [
    "from sklearn.metrics import roc_curve, roc_auc_score\n",
    "from matplotlib import pyplot as plt"
   ]
  },
  {
   "cell_type": "code",
   "execution_count": 257,
   "id": "b7d4c48b",
   "metadata": {},
   "outputs": [],
   "source": [
    "fpr, tpr, thr = roc_curve(y_test, pipe2.predict_proba(X_test)[:,1])"
   ]
  },
  {
   "cell_type": "code",
   "execution_count": 258,
   "id": "f648341b",
   "metadata": {},
   "outputs": [
    {
     "data": {
      "image/png": "[encoded data removed]",
      "text/plain": [
       "<Figure size 432x288 with 1 Axes>"
      ]
     },
     "metadata": {
      "needs_background": "light"
     },
     "output_type": "display_data"
    }
   ],
   "source": [
    "plt.plot(fpr,tpr)\n",
    "plt.title('ROC curve')\n",
    "plt.xlabel('FPR')\n",
    "plt.ylabel('TPR')\n",
    "plt.show()"
   ]
  },
  {
   "cell_type": "code",
   "execution_count": 259,
   "id": "d14b1e24",
   "metadata": {},
   "outputs": [
    {
     "data": {
      "text/plain": [
       "0.713594276036217"
      ]
     },
     "execution_count": 259,
     "metadata": {},
     "output_type": "execute_result"
    }
   ],
   "source": [
    "roc_auc_score(y_test, pipe2.predict_proba(X_test)[:,1])"
   ]
  },
  {
   "cell_type": "raw",
   "id": "fb4767a1",
   "metadata": {},
   "source": [
    "since data is imbalance, roc_auc_score is slightly less"
   ]
  },
  {
   "cell_type": "markdown",
   "id": "cac53e82",
   "metadata": {},
   "source": [
    "# (J) observations"
   ]
  },
  {
   "cell_type": "markdown",
   "id": "4af9b041",
   "metadata": {},
   "source": [
    "Q1: What percentage of customers have fully paid their Loan Amount?<br>\n",
    "Ans: 80.77%<br>\n",
    "<br>\n",
    "Q2: Comment about the correlation between Loan Amount and Installment features.<br>\n",
    "Ans: correlation between Loan Amount and Installment features is 0.95 which is very high correlation.<br>\n",
    "<br>\n",
    "Q3: The majority of people have home ownership as _______.<br>\n",
    "Ans: mortgage<br>\n",
    "<br>\n",
    "Q4: People with grades ‘A’ are more likely to fully pay their loan. (T/F)<br>\n",
    "Ans: False <br>\n",
    "<br>\n",
    "Q5: Name the top 2 afforded job titles.<br>\n",
    "Ans: Teacher and manager<br>\n",
    "<br>\n",
    "Q6: Thinking from a bank's perspective, which metric should our primary focus be on..<br>\n",
    "        - ROC AUC<br>\n",
    "        - Precision<br>\n",
    "        - Recall<br>\n",
    "        - F1 Score<br>\n",
    "Ans: Since defaulters are very less and interest rate is high, the model should be such that it correctly classify \n",
    "     the \"Fully paid\" customers as much correctly possible.<br>\n",
    "     Hence Recall should be high.<br>\n",
    "<br>\n",
    "Q7: How does the gap in precision and recall affect the bank?<br>\n",
    "Ans: when Recall is high then chances of rejecting  good customer is very less.<br>\n",
    "     when Precision is high then chances of giving loan to bad customers is very less.<br>\n",
    "<br>\n",
    "Q8: Which were the features that heavily affected the outcome?<br>\n",
    "Ans: pub_rec_bankruptcies<br>\n",
    "<br>\n",
    "Q9: Will the results be affected by geographical location? (Yes/No)<br>\n",
    "Ans: yes<br>"
   ]
  },
  {
   "cell_type": "markdown",
   "id": "011e8ac6",
   "metadata": {},
   "source": [
    "# (K) Recommendations"
   ]
  },
  {
   "cell_type": "markdown",
   "id": "756a869b",
   "metadata": {},
   "source": [
    "when Recall is high then chances of rejecting  good customer is very less.<br>\n",
    "when Precision is high then chances of giving loan to bad customers is very less."
   ]
  },
  {
   "cell_type": "raw",
   "id": "93221b43",
   "metadata": {},
   "source": [
    "since defaulters are very less in comparision to non-defaulters, bank should avoid rejecting potentially good customers"
   ]
  },
  {
   "cell_type": "raw",
   "id": "b7a51211",
   "metadata": {},
   "source": [
    "bank should prefer the model with high Recall"
   ]
  },
  {
   "cell_type": "code",
   "execution_count": null,
   "id": "2ee12251",
   "metadata": {},
   "outputs": [],
   "source": []
  },
  {
   "cell_type": "markdown",
   "id": "acd7d60b",
   "metadata": {},
   "source": [
    "# --------------------------------------------------X-------------------------------------------------------- #"
   ]
  },
  {
   "cell_type": "markdown",
   "id": "598ad30e",
   "metadata": {},
   "source": [
    "# from-peers-review"
   ]
  },
  {
   "cell_type": "markdown",
   "id": "faba4c45",
   "metadata": {},
   "source": [
    "**Recommendation:**\n",
    "\n",
    "- Since increase in loan amount reduces the probability of loan repayment, it is better to look into supporting metrics(for example: credit score, cisf score etc.) before rolling out loans to potential customers.\n",
    "- At the same time increase in interest rate reduces the probability of loan repayment. So, either LoanTap should increase the loan cycle/period before rolling out loans to potential customers or offer loans at relatively less interest rate for short period.\n",
    "- We, also see that increase in installment period increases the probability of loan repayment. So, LoanTap should provide less loan amount in terms of volume to customers with high risk profile for long duration. As that might increase their ability to repay the loan on time.\n",
    "- As Grade, positively impacts the probability of loan repayment and we have also seen that people with high grades have high percentage of loan repayment status. So, majority of loans should be disbured to individuals with high grades to reduce the risk of repayment cycles.\n",
    "- LoanTap can also partner with MNC's by offering loans to customers during pandemic or emergency at affordable interest rates as health insurance/hospitalization cover is vitag cog to most employees working in MNC's.\n",
    "- LoanTap can offer meal cards for small loan amounts in multiples of 100s or 1000s which could used by customers at famous food outlets and restaurant chains. This reduces the risk of loan repayment as the loan amount is relatively lesser in volume."
   ]
  },
  {
   "cell_type": "code",
   "execution_count": null,
   "id": "a98ae3dd",
   "metadata": {},
   "outputs": [],
   "source": []
  }
 ],
 "metadata": {
  "kernelspec": {
   "display_name": "Python 3 (ipykernel)",
   "language": "python",
   "name": "python3"
  },
  "language_info": {
   "codemirror_mode": {
    "name": "ipython",
    "version": 3
   },
   "file_extension": ".py",
   "mimetype": "text/x-python",
   "name": "python",
   "nbconvert_exporter": "python",
   "pygments_lexer": "ipython3",
   "version": "3.9.12"
  }
 },
 "nbformat": 4,
 "nbformat_minor": 5
}
